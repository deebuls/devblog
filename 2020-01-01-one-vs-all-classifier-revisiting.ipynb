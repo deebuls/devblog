{
  "nbformat": 4,
  "nbformat_minor": 0,
  "metadata": {
    "colab": {
      "name": "2020-01-01-one-vs-all-classifier-revisiting.ipynb",
      "provenance": [],
      "authorship_tag": "ABX9TyOp1Rm4UawiAKMDKckd4oKd",
      "include_colab_link": true
    },
    "kernelspec": {
      "name": "python3",
      "display_name": "Python 3"
    }
  },
  "cells": [
    {
      "cell_type": "markdown",
      "metadata": {
        "id": "view-in-github",
        "colab_type": "text"
      },
      "source": [
        "<a href=\"https://colab.research.google.com/github/deebuls/devblog/blob/master/_notebooks/2020-01-01-one-vs-all-classifier-revisiting.ipynb\" target=\"_parent\"><img src=\"https://colab.research.google.com/assets/colab-badge.svg\" alt=\"Open In Colab\"/></a>"
      ]
    },
    {
      "cell_type": "markdown",
      "metadata": {
        "id": "nD4IyzT8QnmX"
      },
      "source": [
        "# One-vs-All Classifier\n",
        "## Paper summary\n",
        "\n",
        "- toc: true\n",
        "- branch: master\n",
        "- badges: true\n",
        "- comments: true\n",
        "- categories: [probability, regression, uncertainty, robustness]"
      ]
    },
    {
      "cell_type": "markdown",
      "metadata": {
        "id": "hg1zEW55Q0g5"
      },
      "source": [
        "## The paper\n",
        "\n",
        "Padhy, S. et al. (2020) ‘Revisiting One-vs-All Classifiers for Predictive Uncertainty and Out-of-Distribution Detection in Neural Networks’, arXiv:2007.05134 [cs, stat]. Available at: http://arxiv.org/abs/2007.05134 (Accessed: 26 January 2021).\n"
      ]
    },
    {
      "cell_type": "markdown",
      "metadata": {
        "id": "KRHlbTy3SFdG"
      },
      "source": [
        "## Abstract\n",
        "\n",
        "### Problem\n",
        "* Out-of-Distribution - finding on which samples the classifier should not predict \n",
        "* OOD using uncertainty estimate \n",
        "* uncertainty estimate - correctly estimate the confidence (uncertainty) in the prediction\n",
        "\n",
        "\n",
        "### How\n",
        "*  Using oves-vs-all classifier\n",
        "* distance-based logit representation to encode uncertainty"
      ]
    },
    {
      "cell_type": "markdown",
      "metadata": {
        "id": "qUiFHNfSX4Om"
      },
      "source": [
        "# Introduction\n",
        "*  Capturing epistemic uncertainty is more important, as it captures model's lack of knowledge about data\n",
        "\n",
        "* Three different paradigms to measure uncertainty\n",
        "  1. in-distribution calibration of models measured on an i.i.d. test set, \n",
        "  2. robustness under dataset shift, and \n",
        "  3. anomaly/out-of-distribution (OOD) detection,\n",
        "which measures the ability of models to assign low confidence predictions on inputs far away from the training data.\n",
        "\n",
        "## Unique selling points\n",
        "\n",
        "* we first study the contribution of the loss function used during training to the quality of predictive uncertainty of models. \n",
        "* Specifically, we show why the parametrization of the probabilities underlying softmax cross-entropy loss are ill-suited for uncertainty estimation. \n",
        "* We then propose two simple replacements to the parametrization of\n",
        "the probability distribution: \n",
        "  1. a one-vs-all normalization\n",
        "scheme that does not force all points in the input space to\n",
        "map to one of the classes, thereby naturally capturing the\n",
        "notion of “none of the above”, and \n",
        "  2. a distance-based logit representation to encode uncertainty as a function of distance to the training manifold.\n"
      ]
    },
    {
      "cell_type": "markdown",
      "metadata": {
        "id": "hOgafU0O60ry"
      },
      "source": [
        "# Experiments\n",
        "\n",
        "1. Under Dataset Shift\n",
        "  - CIFAR 10 Corrupted different intensity\n",
        "  - CIFAR 100 Corrupted\n",
        "\n",
        "2. OOD\n",
        "  - CIFAR 100  vs CIFAR10\n",
        "  - CIFAR100 vs SVHN\n",
        "\n",
        "3. Comparison of learned class centers\n",
        "\n",
        "4. Reliability Diagrams\n",
        "\n",
        "5. Imagenet \n",
        "  - \n",
        "\n",
        "6. CLINC Intent Classification Dataset"
      ]
    },
    {
      "cell_type": "code",
      "metadata": {
        "id": "9PvhZUjpQdeW"
      },
      "source": [
        ""
      ],
      "execution_count": null,
      "outputs": []
    }
  ]
}