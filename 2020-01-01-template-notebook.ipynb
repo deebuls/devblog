{
  "nbformat": 4,
  "nbformat_minor": 0,
  "metadata": {
    "colab": {
      "provenance": [],
      "authorship_tag": "ABX9TyMj7mNCVBJUKYMf7IigW3Bc",
      "include_colab_link": true
    },
    "kernelspec": {
      "name": "python3",
      "display_name": "Python 3"
    },
    "language_info": {
      "name": "python"
    }
  },
  "cells": [
    {
      "cell_type": "markdown",
      "metadata": {
        "id": "view-in-github",
        "colab_type": "text"
      },
      "source": [
        "<a href=\"https://colab.research.google.com/github/deebuls/devblog/blob/main/2020-01-01-template-notebook.ipynb\" target=\"_parent\"><img src=\"https://colab.research.google.com/assets/colab-badge.svg\" alt=\"Open In Colab\"/></a>"
      ]
    },
    {
      "cell_type": "markdown",
      "source": [
        "---\n",
        "author: Deebul Nair\n",
        "badges: true\n",
        "branch: master\n",
        "categories:\n",
        "- probability\n",
        "- python\n",
        "date: '2020-01-01'\n",
        "description: To understand Likelihood of distributions\n",
        "title: Template\n",
        "toc: false\n",
        "---\n"
      ],
      "metadata": {
        "id": "6XnQxkMfpSqQ"
      }
    },
    {
      "cell_type": "code",
      "execution_count": null,
      "metadata": {
        "id": "N0PciNCzpR9S"
      },
      "outputs": [],
      "source": []
    }
  ]
}