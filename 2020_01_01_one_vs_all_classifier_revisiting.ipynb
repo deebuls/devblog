{
  "nbformat": 4,
  "nbformat_minor": 0,
  "metadata": {
    "colab": {
      "name": "2020-01-01-one-vs-all-classifier-revisiting.ipynb",
      "provenance": [],
      "authorship_tag": "ABX9TyNZrTai6t2V//+fdOeBqUMD",
      "include_colab_link": true
    },
    "kernelspec": {
      "name": "python3",
      "display_name": "Python 3"
    }
  },
  "cells": [
    {
      "cell_type": "markdown",
      "metadata": {
        "id": "view-in-github",
        "colab_type": "text"
      },
      "source": [
        "<a href=\"https://colab.research.google.com/github/deebuls/devblog/blob/master/_notebooks/2020_01_01_one_vs_all_classifier_revisiting.ipynb\" target=\"_parent\"><img src=\"https://colab.research.google.com/assets/colab-badge.svg\" alt=\"Open In Colab\"/></a>"
      ]
    },
    {
      "cell_type": "markdown",
      "metadata": {
        "id": "nD4IyzT8QnmX"
      },
      "source": [
        "# One-vs-All Classifier\n",
        "## Paper summary\n",
        "\n",
        "- toc: false\n",
        "- branch: master\n",
        "- badges: true\n",
        "- comments: true\n",
        "- image: \n",
        "- categories: [probability, regression, uncertainty, robustness]"
      ]
    },
    {
      "cell_type": "markdown",
      "metadata": {
        "id": "hg1zEW55Q0g5"
      },
      "source": [
        ""
      ]
    },
    {
      "cell_type": "code",
      "metadata": {
        "id": "9PvhZUjpQdeW"
      },
      "source": [
        ""
      ],
      "execution_count": null,
      "outputs": []
    }
  ]
}