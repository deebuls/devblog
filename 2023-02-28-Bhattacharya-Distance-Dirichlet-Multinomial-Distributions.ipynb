{
  "nbformat": 4,
  "nbformat_minor": 0,
  "metadata": {
    "colab": {
      "provenance": [],
      "authorship_tag": "ABX9TyPyEU++ErS186DLmby34Tco",
      "include_colab_link": true
    },
    "kernelspec": {
      "name": "python3",
      "display_name": "Python 3"
    },
    "language_info": {
      "name": "python"
    }
  },
  "cells": [
    {
      "cell_type": "markdown",
      "metadata": {
        "id": "view-in-github",
        "colab_type": "text"
      },
      "source": [
        "<a href=\"https://colab.research.google.com/github/deebuls/devblog/blob/master/_notebooks/2023-02-28-Bhattacharya-Distance-Dirichlet-Multinomial-Distributions.ipynb\" target=\"_parent\"><img src=\"https://colab.research.google.com/assets/colab-badge.svg\" alt=\"Open In Colab\"/></a>"
      ]
    },
    {
      "cell_type": "markdown",
      "source": [
        "# \"Bhattacharya Distance: Dirichlet and Multinomial distribution\"\n",
        "> Derivation and Code\n",
        "\n",
        "- toc: true\n",
        "- branch: master\n",
        "- comments: false\n",
        "- author: Deebul Nair\n",
        "- image: images/bhattacharya_dist_dirichlet.png\n",
        "- categories: [distribution, dirichlet, statistics]"
      ],
      "metadata": {
        "id": "6MBiDmzHsHCR"
      }
    },
    {
      "cell_type": "markdown",
      "source": [
        "# Logarthmic form of Bhattachrya distance between Dirichlet densities\n",
        "\n",
        "* [1] T. W. Rauber, A. Conci, T. Braun and K. Berns, \"Bhattacharyya probabilistic distance of the Dirichlet density and its application to Split-and-Merge image segmentation,\" 2008 15th International Conference on Systems, Signals and Image Processing, Bratislava, Slovakia, 2008, pp. 145-148, doi: 10.1109/IWSSIP.2008.4604388.\n",
        "\n",
        "* [2] Nielsen, Frank and Richard Nock. “Cumulant-free closed-form formulas for some common (dis)similarities between densities of an exponential family.” ArXiv abs/2003.02469 (2020): n. page 12\n",
        "\n",
        "## Equation from [1]\n",
        "$$ \n",
        "\\eqalignno{ \n",
        "  & \\qquad\\qquad\\qquad B(\\alpha_{a},\\alpha_{b})=-ln\\rho(\\alpha_{a},\\alpha_{b})= \\cr & \\quad=- ln\\Gamma( {\\sum}_{k=1}^{d}{\\alpha_{ak}+\\alpha_{bk}\\over 2}) +{1\\over 2}\\{{\\sum}_{k=1}^{d}ln \\Gamma(\\alpha_{ak})+ {\\sum}_{k=1}^{d}ln \\Gamma(\\alpha_{bk})\\}-{\\sum}_{k=1}^{d}ln \\Gamma({\\alpha_{ak}+\\alpha_{bk}\\over 2}))- \\cr & {1\\over 2}\\{ln \\Gamma(\\vert \\alpha_{a}\\vert)+ln\\Gamma(\\vert\\alpha_{b}\\vert) & \\hbox{(10)} }\n",
        "$$\n",
        "\n",
        "\n",
        "\n",
        "## Same Equation from [2]\n",
        "\n",
        "$$\n",
        "B(\\alpha,\\beta) = B(\\alpha) + B(\\beta) - B(\\alpha+\\beta)\n",
        "$$\n",
        "where\n",
        "$$\n",
        "B(\\alpha) = \\sum\\log\\Gamma{\\alpha} - \\log \\Gamma{\\sum(\\alpha)}\n",
        "$$\n",
        "\n",
        "\n",
        "Equation from [2] is easy to code and debung than [1] so we implemented it \n"
      ],
      "metadata": {
        "id": "MRVH3uiq-H9k"
      }
    },
    {
      "cell_type": "code",
      "source": [
        "import numpy as np\n",
        "from scipy.special import gammaln\n",
        "from scipy.special import digamma\n",
        "\n",
        "def logBalpha(alpha: np.ndarray):\n",
        "  return gammaln(alpha).sum() - gammaln(alpha.sum())\n",
        "\n",
        "def bhattacharya_distance_dirichlet(alpha: np.ndarray, beta: np.ndarray):\n",
        "  #todo check if values are positive and above 1\n",
        "  return logBalpha(alpha) + logBalpha(beta) - logBalpha(alpha+beta)\n",
        "\n"
      ],
      "metadata": {
        "id": "Mu0fpOxylW3f"
      },
      "execution_count": 2,
      "outputs": []
    },
    {
      "cell_type": "code",
      "source": [
        "for i in range(10): print (logBalpha(np.ones(i))) \n"
      ],
      "metadata": {
        "colab": {
          "base_uri": "https://localhost:8080/"
        },
        "id": "pkgaZCg9lXNn",
        "outputId": "a1f043cd-e82d-4323-f7bf-cbda53820bd5"
      },
      "execution_count": 3,
      "outputs": [
        {
          "output_type": "stream",
          "name": "stdout",
          "text": [
            "-inf\n",
            "0.0\n",
            "0.0\n",
            "-0.6931471805599453\n",
            "-1.791759469228055\n",
            "-3.1780538303479458\n",
            "-4.787491742782046\n",
            "-6.579251212010101\n",
            "-8.525161361065415\n",
            "-10.60460290274525\n"
          ]
        }
      ]
    },
    {
      "cell_type": "markdown",
      "source": [
        "## Test 1: Minimum distance for different number of alphas\n",
        "\n",
        "The minimum distance starts from 0 and reduces as number of classes increases.\n",
        "\n",
        "If one class is confident then the distance between them will get lower than the no information class distance . See test 4 where for 5 classes the distance goes lower than 6.45 as seen below."
      ],
      "metadata": {
        "id": "P5fBpOSunVug"
      }
    },
    {
      "cell_type": "code",
      "source": [
        "for i in range(1, 10): \n",
        "  print (i, np.ones(i), bhattacharya_distance_dirichlet(np.ones(i), np.ones(i))) \n"
      ],
      "metadata": {
        "colab": {
          "base_uri": "https://localhost:8080/"
        },
        "id": "eOs4X7zUlXYv",
        "outputId": "5f280e9e-239c-4f03-eb14-88ddf0c25963"
      },
      "execution_count": 11,
      "outputs": [
        {
          "output_type": "stream",
          "name": "stdout",
          "text": [
            "1 [1.] 0.0\n",
            "2 [1. 1.] 1.791759469228055\n",
            "3 [1. 1. 1.] 3.401197381662155\n",
            "4 [1. 1. 1. 1.] 4.941642422609305\n",
            "5 [1. 1. 1. 1. 1.] 6.445719819385578\n",
            "6 [1. 1. 1. 1. 1. 1.] 7.927324360309795\n",
            "7 [1. 1. 1. 1. 1. 1. 1.] 9.393661429103219\n",
            "8 [1. 1. 1. 1. 1. 1. 1. 1.] 10.848948661710065\n",
            "9 [1. 1. 1. 1. 1. 1. 1. 1. 1.] 12.295867644646389\n"
          ]
        }
      ]
    },
    {
      "cell_type": "markdown",
      "source": [
        "## Test 2: With high values of alpha effect on distance\n",
        "\n",
        "Here we observe that the distance between same alphas keeps on decreasing as the value of alphas keep increasing. \n",
        "\n",
        "Higher the alpha lower the distance . Also negative distance "
      ],
      "metadata": {
        "id": "4XQ9rX4KmN7w"
      }
    },
    {
      "cell_type": "code",
      "source": [
        "for i in range(1,100, 10):\n",
        "  print (i, np.ones(5)*i, bhattacharya_distance_dirichlet(np.ones(5)*i, np.ones(5)*i))"
      ],
      "metadata": {
        "colab": {
          "base_uri": "https://localhost:8080/"
        },
        "id": "m4086pVml0P0",
        "outputId": "2f6b0589-a00d-4aee-8279-df3acc60496c"
      },
      "execution_count": 6,
      "outputs": [
        {
          "output_type": "stream",
          "name": "stdout",
          "text": [
            "1 [1. 1. 1. 1. 1.] 6.445719819385578\n",
            "11 [11. 11. 11. 11. 11.] 1.1255028731251286\n",
            "21 [21. 21. 21. 21. 21.] -0.19370880228223086\n",
            "31 [31. 31. 31. 31. 31.] -0.9818529925794337\n",
            "41 [41. 41. 41. 41. 41.] -1.5457429140878958\n",
            "51 [51. 51. 51. 51. 51.] -1.9851193053912084\n",
            "61 [61. 61. 61. 61. 61.] -2.3451443271551398\n",
            "71 [71. 71. 71. 71. 71.] -2.650141672341306\n",
            "81 [81. 81. 81. 81. 81.] -2.914723500702621\n",
            "91 [91. 91. 91. 91. 91.] -3.1483581907859843\n"
          ]
        }
      ]
    },
    {
      "cell_type": "markdown",
      "source": [
        "## Test 3: More confident value distance increases\n",
        "\n",
        "When 1 valu of alpha is increases to show confidence increase on 1 class the distance with respect to no information keeps increasing"
      ],
      "metadata": {
        "id": "i-zkjKUMmo0t"
      }
    },
    {
      "cell_type": "code",
      "source": [
        "for i in range(1,100, 10):\n",
        "  p1 = np.ones(5)\n",
        "  p2 = p1.copy()\n",
        "  p2[0] = i\n",
        "  print (i, p1, p2, bhattacharya_distance_dirichlet(p1, p2))"
      ],
      "metadata": {
        "colab": {
          "base_uri": "https://localhost:8080/"
        },
        "id": "X5jgc4Bbl0V_",
        "outputId": "7aa3d7e0-d20a-443b-f195-9c3ca94e642f"
      },
      "execution_count": 7,
      "outputs": [
        {
          "output_type": "stream",
          "name": "stdout",
          "text": [
            "1 [1. 1. 1. 1. 1.] [1. 1. 1. 1. 1.] 6.445719819385578\n",
            "11 [1. 1. 1. 1. 1.] [11.  1.  1.  1.  1.] 8.572713901314495\n",
            "21 [1. 1. 1. 1. 1.] [21.  1.  1.  1.  1.] 10.249733300984314\n",
            "31 [1. 1. 1. 1. 1.] [31.  1.  1.  1.  1.] 11.438891683612685\n",
            "41 [1. 1. 1. 1. 1.] [41.  1.  1.  1.  1.] 12.356846899935736\n",
            "51 [1. 1. 1. 1. 1.] [51.  1.  1.  1.  1.] 13.10383713518198\n",
            "61 [1. 1. 1. 1. 1.] [61.  1.  1.  1.  1.] 13.733421146565181\n",
            "71 [1. 1. 1. 1. 1.] [71.  1.  1.  1.  1.] 14.277449847443624\n",
            "81 [1. 1. 1. 1. 1.] [81.  1.  1.  1.  1.] 14.75637687058833\n",
            "91 [1. 1. 1. 1. 1.] [91.  1.  1.  1.  1.] 15.18411005351209\n"
          ]
        }
      ]
    },
    {
      "cell_type": "markdown",
      "source": [
        "## Test 4: Distance between single confident class\n",
        "\n",
        "As both the classes converge to same alpha values the distance reduces."
      ],
      "metadata": {
        "id": "MZtw5l75nA_b"
      }
    },
    {
      "cell_type": "code",
      "source": [
        "for i in range(1,100, 10):\n",
        "  p1 = np.ones(5)\n",
        "  p2 = p1.copy()\n",
        "  p2[0] = i\n",
        "  p1[0] = 91\n",
        "  print (i, p1, p2, bhattacharya_distance_dirichlet(p1, p2))"
      ],
      "metadata": {
        "colab": {
          "base_uri": "https://localhost:8080/"
        },
        "id": "n-3Fk30Yl3ub",
        "outputId": "ab60ceb7-6e9a-423c-9ba6-5326e1d7e1af"
      },
      "execution_count": 8,
      "outputs": [
        {
          "output_type": "stream",
          "name": "stdout",
          "text": [
            "1 [91.  1.  1.  1.  1.] [1. 1. 1. 1. 1.] 15.18411005351209\n",
            "11 [91.  1.  1.  1.  1.] [11.  1.  1.  1.  1.] 9.072449120087896\n",
            "21 [91.  1.  1.  1.  1.] [21.  1.  1.  1.  1.] 7.434934213898558\n",
            "31 [91.  1.  1.  1.  1.] [31.  1.  1.  1.  1.] 6.625978812347682\n",
            "41 [91.  1.  1.  1.  1.] [41.  1.  1.  1.  1.] 6.165455265460906\n",
            "51 [91.  1.  1.  1.  1.] [51.  1.  1.  1.  1.] 5.889528847642993\n",
            "61 [91.  1.  1.  1.  1.] [61.  1.  1.  1.  1.] 5.7237287914577735\n",
            "71 [91.  1.  1.  1.  1.] [71.  1.  1.  1.  1.] 5.628589843464567\n",
            "81 [91.  1.  1.  1.  1.] [81.  1.  1.  1.  1.] 5.581062260628471\n",
            "91 [91.  1.  1.  1.  1.] [91.  1.  1.  1.  1.] 5.566743973084726\n"
          ]
        }
      ]
    },
    {
      "cell_type": "markdown",
      "source": [
        "# Bhattacharya Distance Multinomial Distirbution \n",
        "\n"
      ],
      "metadata": {
        "id": "emVrYyzALe78"
      }
    },
    {
      "cell_type": "code",
      "source": [
        "def bhattacharya_distiance_multinomial(p1, p2):\n",
        "  return -np.log(sum(np.sqrt(p1*p2)))"
      ],
      "metadata": {
        "id": "CiHCGb7RMZw3"
      },
      "execution_count": 86,
      "outputs": []
    },
    {
      "cell_type": "code",
      "source": [
        "for i in range(1,10):\n",
        "  print (i, np.ones(i)/i, bhattacharya_distiance_multinomial(np.ones(i)/i, np.ones(i)/i))"
      ],
      "metadata": {
        "colab": {
          "base_uri": "https://localhost:8080/"
        },
        "id": "ACJXH0oGM-nZ",
        "outputId": "c80b509c-4e74-46f4-b343-5bb4da576974"
      },
      "execution_count": 88,
      "outputs": [
        {
          "output_type": "stream",
          "name": "stdout",
          "text": [
            "1 [1.] -0.0\n",
            "2 [0.5 0.5] -0.0\n",
            "3 [0.33333333 0.33333333 0.33333333] -0.0\n",
            "4 [0.25 0.25 0.25 0.25] -0.0\n",
            "5 [0.2 0.2 0.2 0.2 0.2] -0.0\n",
            "6 [0.16666667 0.16666667 0.16666667 0.16666667 0.16666667 0.16666667] 1.1102230246251565e-16\n",
            "7 [0.14285714 0.14285714 0.14285714 0.14285714 0.14285714 0.14285714\n",
            " 0.14285714] 2.2204460492503136e-16\n",
            "8 [0.125 0.125 0.125 0.125 0.125 0.125 0.125 0.125] -0.0\n",
            "9 [0.11111111 0.11111111 0.11111111 0.11111111 0.11111111 0.11111111\n",
            " 0.11111111 0.11111111 0.11111111] -2.2204460492503128e-16\n"
          ]
        }
      ]
    },
    {
      "cell_type": "code",
      "source": [
        "for i in range(1,100, 10):\n",
        "  p = (np.ones(5)*i )/ sum(np.ones(5)*i)\n",
        "  print (i, p, bhattacharya_distiance_multinomial(p, p))"
      ],
      "metadata": {
        "colab": {
          "base_uri": "https://localhost:8080/"
        },
        "id": "fYiNLvM4NLd7",
        "outputId": "aab37e7c-19c1-4919-a070-5d9e28008a2d"
      },
      "execution_count": 95,
      "outputs": [
        {
          "output_type": "stream",
          "name": "stdout",
          "text": [
            "1 [0.2 0.2 0.2 0.2 0.2] -0.0\n",
            "11 [0.2 0.2 0.2 0.2 0.2] -0.0\n",
            "21 [0.2 0.2 0.2 0.2 0.2] -0.0\n",
            "31 [0.2 0.2 0.2 0.2 0.2] -0.0\n",
            "41 [0.2 0.2 0.2 0.2 0.2] -0.0\n",
            "51 [0.2 0.2 0.2 0.2 0.2] -0.0\n",
            "61 [0.2 0.2 0.2 0.2 0.2] -0.0\n",
            "71 [0.2 0.2 0.2 0.2 0.2] -0.0\n",
            "81 [0.2 0.2 0.2 0.2 0.2] -0.0\n",
            "91 [0.2 0.2 0.2 0.2 0.2] -0.0\n"
          ]
        }
      ]
    },
    {
      "cell_type": "code",
      "source": [
        "for i in range(1,100, 10):\n",
        "  p1 = np.ones(5)\n",
        "  p2 = p1.copy()\n",
        "  p2[0] = i\n",
        "  p1 = p1/5\n",
        "  p2 = p2/sum(p2)\n",
        "  print (i, p1, p2, bhattacharya_distiance_multinomial(p1, p2))"
      ],
      "metadata": {
        "colab": {
          "base_uri": "https://localhost:8080/"
        },
        "id": "moqnLTXlNS5F",
        "outputId": "19e2adeb-910d-418f-e14c-b7a60d1e1254"
      },
      "execution_count": 90,
      "outputs": [
        {
          "output_type": "stream",
          "name": "stdout",
          "text": [
            "1 [0.2 0.2 0.2 0.2 0.2] [0.2 0.2 0.2 0.2 0.2] -0.0\n",
            "11 [0.2 0.2 0.2 0.2 0.2] [0.73333333 0.06666667 0.06666667 0.06666667 0.06666667] 0.1685949293453037\n",
            "21 [0.2 0.2 0.2 0.2 0.2] [0.84 0.04 0.04 0.04 0.04] 0.26442280265424684\n",
            "31 [0.2 0.2 0.2 0.2 0.2] [0.88571429 0.02857143 0.02857143 0.02857143 0.02857143] 0.32399341768738754\n",
            "41 [0.2 0.2 0.2 0.2 0.2] [0.91111111 0.02222222 0.02222222 0.02222222 0.02222222] 0.36594403262269887\n",
            "51 [0.2 0.2 0.2 0.2 0.2] [0.92727273 0.01818182 0.01818182 0.01818182 0.01818182] 0.3977150973709143\n",
            "61 [0.2 0.2 0.2 0.2 0.2] [0.93846154 0.01538462 0.01538462 0.01538462 0.01538462] 0.4229448201200781\n",
            "71 [0.2 0.2 0.2 0.2 0.2] [0.94666667 0.01333333 0.01333333 0.01333333 0.01333333] 0.44365990820723616\n",
            "81 [0.2 0.2 0.2 0.2 0.2] [0.95294118 0.01176471 0.01176471 0.01176471 0.01176471] 0.46109522700067157\n",
            "91 [0.2 0.2 0.2 0.2 0.2] [0.95789474 0.01052632 0.01052632 0.01052632 0.01052632] 0.47605403848305355\n"
          ]
        }
      ]
    },
    {
      "cell_type": "markdown",
      "source": [
        "# Trial codes not working "
      ],
      "metadata": {
        "id": "JkKFebsll6er"
      }
    },
    {
      "cell_type": "code",
      "source": [
        "a = np.array([1, 1, 1])\n",
        "b = np.array([100,1,1])\n",
        "print (-gammaln(((a + b )/2 ).sum()))\n",
        "\n",
        "\n",
        "(gammaln(a).sum() + gammaln(b).sum())/2\n",
        "\n",
        "-gammaln((a + b )/2).sum()\n",
        "\n",
        "-(gammaln(p1).sum() + gammaln(p2).sum() )/2"
      ],
      "metadata": {
        "colab": {
          "base_uri": "https://localhost:8080/"
        },
        "id": "C21GHejs-uD6",
        "outputId": "68711085-0a93-49e0-b019-e625d9b6883c"
      },
      "execution_count": 116,
      "outputs": [
        {
          "output_type": "stream",
          "name": "stdout",
          "text": [
            "-154.38281063467164\n"
          ]
        },
        {
          "output_type": "execute_result",
          "data": {
            "text/plain": [
              "-12.918839126312893"
            ]
          },
          "metadata": {},
          "execution_count": 116
        }
      ]
    },
    {
      "cell_type": "code",
      "source": [
        "a = np.array([1, 1, 1])\n",
        "b = np.array([100,1,1])\n",
        "print (-gammaln(sum((a + b )/2 )))\n",
        "\n",
        "\n",
        "print ((gammaln(a).sum() + gammaln(b).sum())/2)\n",
        "\n",
        "print (-gammaln((a + b )/2).sum())\n",
        "\n",
        "print (-(gammaln(a) + gammaln(b) )/2)"
      ],
      "metadata": {
        "colab": {
          "base_uri": "https://localhost:8080/"
        },
        "id": "YM4e1GPiZsH_",
        "outputId": "2f1ecff7-2358-4a27-c583-d5b34b272d6b"
      },
      "execution_count": 118,
      "outputs": [
        {
          "output_type": "stream",
          "name": "stdout",
          "text": [
            "-154.38281063467164\n",
            "179.5671026847877\n",
            "-146.51925549072064\n",
            "[-179.56710268   -0.           -0.        ]\n"
          ]
        }
      ]
    },
    {
      "cell_type": "code",
      "execution_count": 125,
      "metadata": {
        "id": "Y5YRNbVl5CSZ"
      },
      "outputs": [],
      "source": [
        "import numpy as np\n",
        "from scipy.special import gammaln\n",
        "from scipy.special import digamma\n",
        "\n",
        "def bhattacharya_distance_dirichlet(alpha: np.ndarray, beta: np.ndarray,):\n",
        "\n",
        "  #return -np.log2(sum(np.add(alpha, beta)/2)) + \\\n",
        "  #        0.5*sum(np.log2(alpha)) + 0.5*sum(np.log2(beta)) - \\\n",
        "  #        sum(np.log2(np.add(alpha, beta) / 2)) - \\\n",
        "  #        0.5 * np.log2(alpha).sum() + \\\n",
        "  #       0.5 * np.log2(beta).sum()\n",
        "\n",
        "  #return  - gammaln(sum(np.add(alpha, beta)/2)) + \\\n",
        "  #  0.5*(sum(gammaln(alpha)) + sum(gammaln(beta))) - \\\n",
        "  #  sum(gammaln(np.add(alpha, beta) / 2)) -  \\\n",
        "  #  0.5*(gammaln(alpha).sum() + gammaln(beta).sum())\n",
        "\n",
        "  return (gammaln(alpha).sum() + gammaln(beta).sum())/2 - \\\n",
        "         gammaln((alpha + beta )/2).sum() - \\\n",
        "         (gammaln(alpha) + gammaln(beta) )/2"
      ]
    },
    {
      "cell_type": "code",
      "source": [
        "a1 = [1, 1, 1, 1, 1]\n",
        "a2 = [1, 1, 1, 1, 1]\n",
        "\n",
        "bhattacharya_distance_dirichlet(a1, a2)"
      ],
      "metadata": {
        "colab": {
          "base_uri": "https://localhost:8080/",
          "height": 305
        },
        "id": "yDVF6kMj5JaR",
        "outputId": "f482e6e5-1f37-4c75-e365-6710c7f72b53"
      },
      "execution_count": 124,
      "outputs": [
        {
          "output_type": "error",
          "ename": "TypeError",
          "evalue": "ignored",
          "traceback": [
            "\u001b[0;31m---------------------------------------------------------------------------\u001b[0m",
            "\u001b[0;31mTypeError\u001b[0m                                 Traceback (most recent call last)",
            "\u001b[0;32m<ipython-input-124-8efb0820f155>\u001b[0m in \u001b[0;36m<module>\u001b[0;34m\u001b[0m\n\u001b[1;32m      2\u001b[0m \u001b[0ma2\u001b[0m \u001b[0;34m=\u001b[0m \u001b[0;34m[\u001b[0m\u001b[0;36m1\u001b[0m\u001b[0;34m,\u001b[0m \u001b[0;36m1\u001b[0m\u001b[0;34m,\u001b[0m \u001b[0;36m1\u001b[0m\u001b[0;34m,\u001b[0m \u001b[0;36m1\u001b[0m\u001b[0;34m,\u001b[0m \u001b[0;36m1\u001b[0m\u001b[0;34m]\u001b[0m\u001b[0;34m\u001b[0m\u001b[0;34m\u001b[0m\u001b[0m\n\u001b[1;32m      3\u001b[0m \u001b[0;34m\u001b[0m\u001b[0m\n\u001b[0;32m----> 4\u001b[0;31m \u001b[0mbhattacharya_distance_dirichlet\u001b[0m\u001b[0;34m(\u001b[0m\u001b[0ma1\u001b[0m\u001b[0;34m,\u001b[0m \u001b[0ma2\u001b[0m\u001b[0;34m)\u001b[0m\u001b[0;34m\u001b[0m\u001b[0;34m\u001b[0m\u001b[0m\n\u001b[0m",
            "\u001b[0;32m<ipython-input-123-aa14d3c37007>\u001b[0m in \u001b[0;36mbhattacharya_distance_dirichlet\u001b[0;34m(alpha, beta)\u001b[0m\n\u001b[1;32m     17\u001b[0m \u001b[0;34m\u001b[0m\u001b[0m\n\u001b[1;32m     18\u001b[0m   \u001b[0;32mreturn\u001b[0m \u001b[0;34m(\u001b[0m\u001b[0mgammaln\u001b[0m\u001b[0;34m(\u001b[0m\u001b[0malpha\u001b[0m\u001b[0;34m)\u001b[0m\u001b[0;34m.\u001b[0m\u001b[0msum\u001b[0m\u001b[0;34m(\u001b[0m\u001b[0;34m)\u001b[0m \u001b[0;34m+\u001b[0m \u001b[0mgammaln\u001b[0m\u001b[0;34m(\u001b[0m\u001b[0mbeta\u001b[0m\u001b[0;34m)\u001b[0m\u001b[0;34m.\u001b[0m\u001b[0msum\u001b[0m\u001b[0;34m(\u001b[0m\u001b[0;34m)\u001b[0m\u001b[0;34m)\u001b[0m\u001b[0;34m/\u001b[0m\u001b[0;36m2\u001b[0m \u001b[0;34m-\u001b[0m\u001b[0;31m \u001b[0m\u001b[0;31m\\\u001b[0m\u001b[0;34m\u001b[0m\u001b[0;34m\u001b[0m\u001b[0m\n\u001b[0;32m---> 19\u001b[0;31m          \u001b[0mgammaln\u001b[0m\u001b[0;34m(\u001b[0m\u001b[0;34m(\u001b[0m\u001b[0malpha\u001b[0m \u001b[0;34m+\u001b[0m \u001b[0mbeta\u001b[0m \u001b[0;34m)\u001b[0m\u001b[0;34m/\u001b[0m\u001b[0;36m2\u001b[0m\u001b[0;34m)\u001b[0m\u001b[0;34m.\u001b[0m\u001b[0msum\u001b[0m\u001b[0;34m(\u001b[0m\u001b[0;34m)\u001b[0m \u001b[0;34m-\u001b[0m\u001b[0;31m \u001b[0m\u001b[0;31m\\\u001b[0m\u001b[0;34m\u001b[0m\u001b[0;34m\u001b[0m\u001b[0m\n\u001b[0m\u001b[1;32m     20\u001b[0m          \u001b[0;34m(\u001b[0m\u001b[0mgammaln\u001b[0m\u001b[0;34m(\u001b[0m\u001b[0malpha\u001b[0m\u001b[0;34m)\u001b[0m \u001b[0;34m+\u001b[0m \u001b[0mgammaln\u001b[0m\u001b[0;34m(\u001b[0m\u001b[0mbeta\u001b[0m\u001b[0;34m)\u001b[0m \u001b[0;34m)\u001b[0m\u001b[0;34m/\u001b[0m\u001b[0;36m2\u001b[0m\u001b[0;34m\u001b[0m\u001b[0;34m\u001b[0m\u001b[0m\n",
            "\u001b[0;31mTypeError\u001b[0m: unsupported operand type(s) for /: 'list' and 'int'"
          ]
        }
      ]
    },
    {
      "cell_type": "code",
      "source": [
        "a3 = [100, 1, 1, 1, 1]\n",
        "bhattacharya_distance_dirichlet(a1, a3)"
      ],
      "metadata": {
        "colab": {
          "base_uri": "https://localhost:8080/"
        },
        "id": "UtnMl2Ec5pxl",
        "outputId": "1e6dc818-07db-49cb-f605-38ef83af900c"
      },
      "execution_count": 112,
      "outputs": [
        {
          "output_type": "execute_result",
          "data": {
            "text/plain": [
              "0.0"
            ]
          },
          "metadata": {},
          "execution_count": 112
        }
      ]
    },
    {
      "cell_type": "code",
      "source": [
        "a3 = [100, 100, 100, 100, 100]\n",
        "bhattacharya_distance_dirichlet(a1, a3)"
      ],
      "metadata": {
        "colab": {
          "base_uri": "https://localhost:8080/"
        },
        "id": "4ZTsXkMy5zcl",
        "outputId": "ae146b49-afab-43e7-9043-bf50e9b42a56"
      },
      "execution_count": 113,
      "outputs": [
        {
          "output_type": "execute_result",
          "data": {
            "text/plain": [
              "0.0"
            ]
          },
          "metadata": {},
          "execution_count": 113
        }
      ]
    },
    {
      "cell_type": "code",
      "source": [
        "for i in range(1,10):\n",
        "  print (i, np.ones(i), bhattacharya_distance_dirichlet(np.ones(i), np.ones(i)))"
      ],
      "metadata": {
        "colab": {
          "base_uri": "https://localhost:8080/"
        },
        "id": "qicNKThK56zt",
        "outputId": "56bf367c-5cc6-40f3-b3aa-fa200209e2e5"
      },
      "execution_count": 126,
      "outputs": [
        {
          "output_type": "stream",
          "name": "stdout",
          "text": [
            "1 [1.] [0.]\n",
            "2 [1. 1.] [0. 0.]\n",
            "3 [1. 1. 1.] [0. 0. 0.]\n",
            "4 [1. 1. 1. 1.] [0. 0. 0. 0.]\n",
            "5 [1. 1. 1. 1. 1.] [0. 0. 0. 0. 0.]\n",
            "6 [1. 1. 1. 1. 1. 1.] [0. 0. 0. 0. 0. 0.]\n",
            "7 [1. 1. 1. 1. 1. 1. 1.] [0. 0. 0. 0. 0. 0. 0.]\n",
            "8 [1. 1. 1. 1. 1. 1. 1. 1.] [0. 0. 0. 0. 0. 0. 0. 0.]\n",
            "9 [1. 1. 1. 1. 1. 1. 1. 1. 1.] [0. 0. 0. 0. 0. 0. 0. 0. 0.]\n"
          ]
        }
      ]
    },
    {
      "cell_type": "code",
      "source": [
        "for i in range(1,100, 10):\n",
        "  print (i, np.ones(5)*i, bhattacharya_distance_dirichlet(np.ones(5)*i, np.ones(5)*i))"
      ],
      "metadata": {
        "colab": {
          "base_uri": "https://localhost:8080/"
        },
        "id": "VeC06O0g6Wsj",
        "outputId": "662b706c-e5d1-416d-8845-68ef2f6057ab"
      },
      "execution_count": 127,
      "outputs": [
        {
          "output_type": "stream",
          "name": "stdout",
          "text": [
            "1 [1. 1. 1. 1. 1.] [0. 0. 0. 0. 0.]\n",
            "11 [11. 11. 11. 11. 11.] [-15.10441257 -15.10441257 -15.10441257 -15.10441257 -15.10441257]\n",
            "21 [21. 21. 21. 21. 21.] [-42.33561646 -42.33561646 -42.33561646 -42.33561646 -42.33561646]\n",
            "31 [31. 31. 31. 31. 31.] [-74.65823635 -74.65823635 -74.65823635 -74.65823635 -74.65823635]\n",
            "41 [41. 41. 41. 41. 41.] [-110.32063971 -110.32063971 -110.32063971 -110.32063971 -110.32063971]\n",
            "51 [51. 51. 51. 51. 51.] [-148.47776695 -148.47776695 -148.47776695 -148.47776695 -148.47776695]\n",
            "61 [61. 61. 61. 61. 61.] [-188.62817342 -188.62817342 -188.62817342 -188.62817342 -188.62817342]\n",
            "71 [71. 71. 71. 71. 71.] [-230.43904357 -230.43904357 -230.43904357 -230.43904357 -230.43904357]\n",
            "81 [81. 81. 81. 81. 81.] [-273.67312429 -273.67312429 -273.67312429 -273.67312429 -273.67312429]\n",
            "91 [91. 91. 91. 91. 91.] [-318.15263962 -318.15263962 -318.15263962 -318.15263962 -318.15263962]\n"
          ]
        }
      ]
    },
    {
      "cell_type": "code",
      "source": [
        "import scipy \n",
        "from scipy.special import gammaln\n",
        "from scipy.special import digamma\n",
        "\n",
        "def KL_divergence(alpha, beta):\n",
        "  return gammaln(sum(alpha)) - \\\n",
        "        gammaln(sum(beta)) - \\\n",
        "        sum(gammaln(alpha)) + \\\n",
        "        sum(gammaln(beta)) +  \\\n",
        "        (alpha - beta) * (digamma(alpha) - digamma(sum(alpha)))"
      ],
      "metadata": {
        "id": "3IG06cIJ67B-"
      },
      "execution_count": 18,
      "outputs": []
    },
    {
      "cell_type": "code",
      "source": [
        "for i in range(1,10):\n",
        "  print (i, np.ones(i), KL_divergence(np.ones(i), np.ones(i)))"
      ],
      "metadata": {
        "colab": {
          "base_uri": "https://localhost:8080/"
        },
        "id": "p46o7MJh7a2P",
        "outputId": "5c890438-e4bb-4828-a621-04a1dc197fa7"
      },
      "execution_count": 19,
      "outputs": [
        {
          "output_type": "stream",
          "name": "stdout",
          "text": [
            "1 [1.] [0.]\n",
            "2 [1. 1.] [0. 0.]\n",
            "3 [1. 1. 1.] [0. 0. 0.]\n",
            "4 [1. 1. 1. 1.] [0. 0. 0. 0.]\n",
            "5 [1. 1. 1. 1. 1.] [0. 0. 0. 0. 0.]\n",
            "6 [1. 1. 1. 1. 1. 1.] [0. 0. 0. 0. 0. 0.]\n",
            "7 [1. 1. 1. 1. 1. 1. 1.] [0. 0. 0. 0. 0. 0. 0.]\n",
            "8 [1. 1. 1. 1. 1. 1. 1. 1.] [0. 0. 0. 0. 0. 0. 0. 0.]\n",
            "9 [1. 1. 1. 1. 1. 1. 1. 1. 1.] [0. 0. 0. 0. 0. 0. 0. 0. 0.]\n"
          ]
        }
      ]
    },
    {
      "cell_type": "code",
      "source": [
        "for i in range(1,100, 10):\n",
        "  print (i, np.ones(5)*i, KL_divergence(np.ones(5)*i, np.ones(5)*i))"
      ],
      "metadata": {
        "colab": {
          "base_uri": "https://localhost:8080/"
        },
        "id": "WsOTzFHJ7dsk",
        "outputId": "6f15e86b-e54b-47c2-898a-75a2a16576ed"
      },
      "execution_count": 20,
      "outputs": [
        {
          "output_type": "stream",
          "name": "stdout",
          "text": [
            "1 [1. 1. 1. 1. 1.] [0. 0. 0. 0. 0.]\n",
            "11 [11. 11. 11. 11. 11.] [0. 0. 0. 0. 0.]\n",
            "21 [21. 21. 21. 21. 21.] [0. 0. 0. 0. 0.]\n",
            "31 [31. 31. 31. 31. 31.] [0. 0. 0. 0. 0.]\n",
            "41 [41. 41. 41. 41. 41.] [0. 0. 0. 0. 0.]\n",
            "51 [51. 51. 51. 51. 51.] [0. 0. 0. 0. 0.]\n",
            "61 [61. 61. 61. 61. 61.] [0. 0. 0. 0. 0.]\n",
            "71 [71. 71. 71. 71. 71.] [0. 0. 0. 0. 0.]\n",
            "81 [81. 81. 81. 81. 81.] [0. 0. 0. 0. 0.]\n",
            "91 [91. 91. 91. 91. 91.] [0. 0. 0. 0. 0.]\n"
          ]
        }
      ]
    },
    {
      "cell_type": "code",
      "source": [
        "scipy.d\n"
      ],
      "metadata": {
        "colab": {
          "base_uri": "https://localhost:8080/",
          "height": 166
        },
        "id": "AuriK4FU7pnl",
        "outputId": "80f0fe82-3a5c-4a7f-9152-cd4301a6f049"
      },
      "execution_count": 11,
      "outputs": [
        {
          "output_type": "error",
          "ename": "AttributeError",
          "evalue": "ignored",
          "traceback": [
            "\u001b[0;31m---------------------------------------------------------------------------\u001b[0m",
            "\u001b[0;31mAttributeError\u001b[0m                            Traceback (most recent call last)",
            "\u001b[0;32m<ipython-input-11-4addd521ddf1>\u001b[0m in \u001b[0;36m<module>\u001b[0;34m\u001b[0m\n\u001b[0;32m----> 1\u001b[0;31m \u001b[0mscipy\u001b[0m\u001b[0;34m.\u001b[0m\u001b[0mspecial\u001b[0m\u001b[0;34m.\u001b[0m\u001b[0mdigamma\u001b[0m\u001b[0;34m\u001b[0m\u001b[0;34m\u001b[0m\u001b[0m\n\u001b[0m",
            "\u001b[0;31mAttributeError\u001b[0m: module 'scipy' has no attribute 'special'"
          ]
        }
      ]
    },
    {
      "cell_type": "code",
      "source": [],
      "metadata": {
        "id": "C0muq8g77816"
      },
      "execution_count": 17,
      "outputs": []
    },
    {
      "cell_type": "code",
      "source": [],
      "metadata": {
        "id": "kJL1MAX18VJL"
      },
      "execution_count": null,
      "outputs": []
    },
    {
      "cell_type": "code",
      "source": [
        "p1 = np.ones(5)/5\n",
        "\n",
        "bhattacharya_distiance_multinomial(p1,p1)"
      ],
      "metadata": {
        "colab": {
          "base_uri": "https://localhost:8080/"
        },
        "id": "TuMtL_c8M4BS",
        "outputId": "f94f4896-7332-4fd6-ee12-639c06e3f508"
      },
      "execution_count": 87,
      "outputs": [
        {
          "output_type": "execute_result",
          "data": {
            "text/plain": [
              "-0.0"
            ]
          },
          "metadata": {},
          "execution_count": 87
        }
      ]
    },
    {
      "cell_type": "code",
      "source": [
        "def bhattacharya_distiance_multinomial_log(p1, p2):\n",
        "\n",
        "  return -(gammaln(p1).sum() + gammaln(p2).sum() )/2"
      ],
      "metadata": {
        "id": "vkS0A_JoN0gb"
      },
      "execution_count": 91,
      "outputs": []
    },
    {
      "cell_type": "code",
      "source": [
        "for i in range(1,10):\n",
        "  print (i, np.ones(i), bhattacharya_distiance_multinomial_log(np.ones(i), np.ones(i)))"
      ],
      "metadata": {
        "colab": {
          "base_uri": "https://localhost:8080/"
        },
        "id": "g0yXzcetRk3c",
        "outputId": "242176b1-bed7-403b-d360-296cc51b787e"
      },
      "execution_count": 92,
      "outputs": [
        {
          "output_type": "stream",
          "name": "stdout",
          "text": [
            "1 [1.] -0.0\n",
            "2 [1. 1.] -0.0\n",
            "3 [1. 1. 1.] -0.0\n",
            "4 [1. 1. 1. 1.] -0.0\n",
            "5 [1. 1. 1. 1. 1.] -0.0\n",
            "6 [1. 1. 1. 1. 1. 1.] -0.0\n",
            "7 [1. 1. 1. 1. 1. 1. 1.] -0.0\n",
            "8 [1. 1. 1. 1. 1. 1. 1. 1.] -0.0\n",
            "9 [1. 1. 1. 1. 1. 1. 1. 1. 1.] -0.0\n"
          ]
        }
      ]
    },
    {
      "cell_type": "code",
      "source": [
        "for i in range(1,100, 10):\n",
        "  p1 = np.ones(5)\n",
        "  p2 = p1.copy()\n",
        "  p2[0] = i\n",
        "  p1 = p1/5\n",
        "  p2 = p2/sum(p2)\n",
        "  print (i, p1, p2, bhattacharya_distiance_multinomial_log(p1, p2))"
      ],
      "metadata": {
        "colab": {
          "base_uri": "https://localhost:8080/"
        },
        "id": "tKSsv0I5RqA-",
        "outputId": "9e5ffcff-fcc7-4bdb-b1be-e0721f7c1304"
      },
      "execution_count": 93,
      "outputs": [
        {
          "output_type": "stream",
          "name": "stdout",
          "text": [
            "1 [0.2 0.2 0.2 0.2 0.2] [0.2 0.2 0.2 0.2 0.2] -7.620319112153923\n",
            "11 [0.2 0.2 0.2 0.2 0.2] [0.73333333 0.06666667 0.06666667 0.06666667 0.06666667] -9.26724932985341\n",
            "21 [0.2 0.2 0.2 0.2 0.2] [0.84 0.04 0.04 0.04 0.04] -10.261942523017305\n",
            "31 [0.2 0.2 0.2 0.2 0.2] [0.88571429 0.02857143 0.02857143 0.02857143 0.02857143] -10.927875722571079\n",
            "41 [0.2 0.2 0.2 0.2 0.2] [0.91111111 0.02222222 0.02222222 0.02222222 0.02222222] -11.427687210720562\n",
            "51 [0.2 0.2 0.2 0.2 0.2] [0.92727273 0.01818182 0.01818182 0.01818182 0.01818182] -11.827621143269788\n",
            "61 [0.2 0.2 0.2 0.2 0.2] [0.93846154 0.01538462 0.01538462 0.01538462 0.01538462] -12.160926600816564\n",
            "71 [0.2 0.2 0.2 0.2 0.2] [0.94666667 0.01333333 0.01333333 0.01333333 0.01333333] -12.44662759830056\n",
            "81 [0.2 0.2 0.2 0.2 0.2] [0.95294118 0.01176471 0.01176471 0.01176471 0.01176471] -12.6966207038721\n",
            "91 [0.2 0.2 0.2 0.2 0.2] [0.95789474 0.01052632 0.01052632 0.01052632 0.01052632] -12.918839126312893\n"
          ]
        }
      ]
    },
    {
      "cell_type": "code",
      "source": [
        "import numpy as np\n",
        "\n",
        "\n",
        "def bhattacharyya_distance(repr1: np.ndarray, repr2: np.ndarray) -> float:\n",
        "    \"\"\"Calculates Bhattacharyya distance (https://en.wikipedia.org/wiki/Bhattacharyya_distance).\"\"\"\n",
        "    temp = np.sum([np.sqrt(p*q) for (p, q) in zip(repr1, repr2)])\n",
        "    print (temp)\n",
        "    value = - np.log(temp)\n",
        "    if np.isinf(value):\n",
        "        return 0\n",
        "    return value"
      ],
      "metadata": {
        "id": "ytG-1nUXRyhh"
      },
      "execution_count": 76,
      "outputs": []
    },
    {
      "cell_type": "code",
      "source": [
        "for i in range(1,10):\n",
        "  print (i, np.ones(i)/i, bhattacharyya_distance(np.ones(i)/i, np.ones(i)/i))"
      ],
      "metadata": {
        "colab": {
          "base_uri": "https://localhost:8080/"
        },
        "id": "uPLG-usOUXdD",
        "outputId": "8231696d-ee2c-4b53-9656-5ec4b80c5f8d"
      },
      "execution_count": 77,
      "outputs": [
        {
          "output_type": "stream",
          "name": "stdout",
          "text": [
            "1.0\n",
            "1 [1.] -0.0\n",
            "1.0\n",
            "2 [0.5 0.5] -0.0\n",
            "1.0\n",
            "3 [0.33333333 0.33333333 0.33333333] -0.0\n",
            "1.0\n",
            "4 [0.25 0.25 0.25 0.25] -0.0\n",
            "1.0\n",
            "5 [0.2 0.2 0.2 0.2 0.2] -0.0\n",
            "0.9999999999999999\n",
            "6 [0.16666667 0.16666667 0.16666667 0.16666667 0.16666667 0.16666667] 1.1102230246251565e-16\n",
            "0.9999999999999998\n",
            "7 [0.14285714 0.14285714 0.14285714 0.14285714 0.14285714 0.14285714\n",
            " 0.14285714] 2.2204460492503136e-16\n",
            "1.0\n",
            "8 [0.125 0.125 0.125 0.125 0.125 0.125 0.125 0.125] -0.0\n",
            "1.0\n",
            "9 [0.11111111 0.11111111 0.11111111 0.11111111 0.11111111 0.11111111\n",
            " 0.11111111 0.11111111 0.11111111] -0.0\n"
          ]
        }
      ]
    },
    {
      "cell_type": "code",
      "source": [
        "p1 = np.ones(5)/5\n",
        "np.sqrt(p1*p1)"
      ],
      "metadata": {
        "colab": {
          "base_uri": "https://localhost:8080/"
        },
        "id": "4HAn1TO6UZ5a",
        "outputId": "606717a2-01f1-47ad-917b-ec4fc2631c30"
      },
      "execution_count": 83,
      "outputs": [
        {
          "output_type": "execute_result",
          "data": {
            "text/plain": [
              "array([0.2, 0.2, 0.2, 0.2, 0.2])"
            ]
          },
          "metadata": {},
          "execution_count": 83
        }
      ]
    },
    {
      "cell_type": "code",
      "source": [
        "np.sum([np.sqrt(p*q) for (p, q) in zip(p1, p1)])"
      ],
      "metadata": {
        "colab": {
          "base_uri": "https://localhost:8080/"
        },
        "id": "ExJrYGoXUzvf",
        "outputId": "c071e9b9-22d5-42c1-f176-6bd072cafa2b"
      },
      "execution_count": 82,
      "outputs": [
        {
          "output_type": "execute_result",
          "data": {
            "text/plain": [
              "1.0"
            ]
          },
          "metadata": {},
          "execution_count": 82
        }
      ]
    },
    {
      "cell_type": "code",
      "source": [],
      "metadata": {
        "id": "1LtVc12CVh6l"
      },
      "execution_count": null,
      "outputs": []
    },
    {
      "cell_type": "markdown",
      "source": [
        "# Bhatachrya \n",
        "\n",
        "https://arxiv.org/pdf/2003.02469.pdf\n",
        "\n"
      ],
      "metadata": {
        "id": "ZJKgzSewfkSB"
      }
    },
    {
      "cell_type": "code",
      "source": [
        "def logBalpha(alpha):\n",
        "  return gammaln(alpha).sum() - gammaln(alpha.sum())\n",
        "\n",
        "for i in range(10): print (logBalpha(np.ones(i))) \n",
        "print ('-----')\n",
        "def b_distance(alpha, beta):\n",
        "  return logBalpha(alpha) + logBalpha(beta) - logBalpha(alpha+beta)\n",
        "\n",
        "for i in range(10): print (b_distance(np.ones(i), np.ones(i))) \n"
      ],
      "metadata": {
        "colab": {
          "base_uri": "https://localhost:8080/"
        },
        "id": "iK_h9ilzfnWV",
        "outputId": "63cc95c5-f90c-4604-b288-37dc6bcbd776"
      },
      "execution_count": 132,
      "outputs": [
        {
          "output_type": "stream",
          "name": "stdout",
          "text": [
            "-inf\n",
            "0.0\n",
            "0.0\n",
            "-0.6931471805599453\n",
            "-1.791759469228055\n",
            "-3.1780538303479458\n",
            "-4.787491742782046\n",
            "-6.579251212010101\n",
            "-8.525161361065415\n",
            "-10.60460290274525\n",
            "-----\n",
            "nan\n",
            "0.0\n",
            "1.791759469228055\n",
            "3.401197381662155\n",
            "4.941642422609305\n",
            "6.445719819385578\n",
            "7.927324360309795\n",
            "9.393661429103219\n",
            "10.848948661710065\n",
            "12.295867644646389\n"
          ]
        },
        {
          "output_type": "stream",
          "name": "stderr",
          "text": [
            "<ipython-input-132-e6681099bb5e>:7: RuntimeWarning: invalid value encountered in double_scalars\n",
            "  return logBalpha(alpha) + logBalpha(beta) - logBalpha(alpha+beta)\n"
          ]
        }
      ]
    },
    {
      "cell_type": "code",
      "source": [
        "for i in range(1,100, 10):\n",
        "  print (i, np.ones(5)*i, b_distance(np.ones(5)*i, np.ones(5)*i))"
      ],
      "metadata": {
        "colab": {
          "base_uri": "https://localhost:8080/"
        },
        "id": "1KbAtOPBgHgE",
        "outputId": "ce6b86b0-45f0-4299-9f39-6d3a35cc1bef"
      },
      "execution_count": 133,
      "outputs": [
        {
          "output_type": "stream",
          "name": "stdout",
          "text": [
            "1 [1. 1. 1. 1. 1.] 6.445719819385578\n",
            "11 [11. 11. 11. 11. 11.] 1.1255028731251286\n",
            "21 [21. 21. 21. 21. 21.] -0.19370880228223086\n",
            "31 [31. 31. 31. 31. 31.] -0.9818529925794337\n",
            "41 [41. 41. 41. 41. 41.] -1.5457429140878958\n",
            "51 [51. 51. 51. 51. 51.] -1.9851193053912084\n",
            "61 [61. 61. 61. 61. 61.] -2.3451443271551398\n",
            "71 [71. 71. 71. 71. 71.] -2.650141672341306\n",
            "81 [81. 81. 81. 81. 81.] -2.914723500702621\n",
            "91 [91. 91. 91. 91. 91.] -3.1483581907859843\n"
          ]
        }
      ]
    },
    {
      "cell_type": "code",
      "source": [
        "for i in range(1,100, 10):\n",
        "  p1 = np.ones(5)\n",
        "  p2 = p1.copy()\n",
        "  p2[0] = i\n",
        "  print (i, p1, p2, b_distance(p1, p2))"
      ],
      "metadata": {
        "colab": {
          "base_uri": "https://localhost:8080/"
        },
        "id": "mMqlwP02h4BR",
        "outputId": "fe79e7aa-bc38-40de-b56f-e78a18d20eee"
      },
      "execution_count": 135,
      "outputs": [
        {
          "output_type": "stream",
          "name": "stdout",
          "text": [
            "1 [1. 1. 1. 1. 1.] [1. 1. 1. 1. 1.] 6.445719819385578\n",
            "11 [1. 1. 1. 1. 1.] [11.  1.  1.  1.  1.] 8.572713901314495\n",
            "21 [1. 1. 1. 1. 1.] [21.  1.  1.  1.  1.] 10.249733300984314\n",
            "31 [1. 1. 1. 1. 1.] [31.  1.  1.  1.  1.] 11.438891683612685\n",
            "41 [1. 1. 1. 1. 1.] [41.  1.  1.  1.  1.] 12.356846899935736\n",
            "51 [1. 1. 1. 1. 1.] [51.  1.  1.  1.  1.] 13.10383713518198\n",
            "61 [1. 1. 1. 1. 1.] [61.  1.  1.  1.  1.] 13.733421146565181\n",
            "71 [1. 1. 1. 1. 1.] [71.  1.  1.  1.  1.] 14.277449847443624\n",
            "81 [1. 1. 1. 1. 1.] [81.  1.  1.  1.  1.] 14.75637687058833\n",
            "91 [1. 1. 1. 1. 1.] [91.  1.  1.  1.  1.] 15.18411005351209\n"
          ]
        }
      ]
    },
    {
      "cell_type": "code",
      "source": [
        "for i in range(1,100, 10):\n",
        "  p1 = np.ones(5)\n",
        "  p2 = p1.copy()\n",
        "  p2[0] = i\n",
        "  p1[0] = 91\n",
        "  print (i, p1, p2, b_distance(p1, p2))"
      ],
      "metadata": {
        "colab": {
          "base_uri": "https://localhost:8080/"
        },
        "id": "O6RpWznmiF8i",
        "outputId": "dc89670c-c79c-4872-eb1b-a8028c079401"
      },
      "execution_count": 136,
      "outputs": [
        {
          "output_type": "stream",
          "name": "stdout",
          "text": [
            "1 [91.  1.  1.  1.  1.] [1. 1. 1. 1. 1.] 15.18411005351209\n",
            "11 [91.  1.  1.  1.  1.] [11.  1.  1.  1.  1.] 9.072449120087896\n",
            "21 [91.  1.  1.  1.  1.] [21.  1.  1.  1.  1.] 7.434934213898558\n",
            "31 [91.  1.  1.  1.  1.] [31.  1.  1.  1.  1.] 6.625978812347682\n",
            "41 [91.  1.  1.  1.  1.] [41.  1.  1.  1.  1.] 6.165455265460906\n",
            "51 [91.  1.  1.  1.  1.] [51.  1.  1.  1.  1.] 5.889528847642993\n",
            "61 [91.  1.  1.  1.  1.] [61.  1.  1.  1.  1.] 5.7237287914577735\n",
            "71 [91.  1.  1.  1.  1.] [71.  1.  1.  1.  1.] 5.628589843464567\n",
            "81 [91.  1.  1.  1.  1.] [81.  1.  1.  1.  1.] 5.581062260628471\n",
            "91 [91.  1.  1.  1.  1.] [91.  1.  1.  1.  1.] 5.566743973084726\n"
          ]
        }
      ]
    },
    {
      "cell_type": "code",
      "source": [],
      "metadata": {
        "id": "IoFipniijC0d"
      },
      "execution_count": null,
      "outputs": []
    }
  ]
}