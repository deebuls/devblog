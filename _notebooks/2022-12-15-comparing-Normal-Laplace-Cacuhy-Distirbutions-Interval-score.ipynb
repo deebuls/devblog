{
  "nbformat": 4,
  "nbformat_minor": 0,
  "metadata": {
    "colab": {
      "provenance": [],
      "authorship_tag": "ABX9TyMY5+IrX9R30BNLeO/UpaBE",
      "include_colab_link": true
    },
    "kernelspec": {
      "name": "python3",
      "display_name": "Python 3"
    },
    "language_info": {
      "name": "python"
    }
  },
  "cells": [
    {
      "cell_type": "markdown",
      "metadata": {
        "id": "view-in-github",
        "colab_type": "text"
      },
      "source": [
        "<a href=\"https://colab.research.google.com/github/deebuls/devblog/blob/master/_notebooks/2022-12-15-comparing-Normal-Laplace-Cacuhy-Distirbutions-Interval-score.ipynb\" target=\"_parent\"><img src=\"https://colab.research.google.com/assets/colab-badge.svg\" alt=\"Open In Colab\"/></a>"
      ]
    },
    {
      "cell_type": "markdown",
      "source": [
        "#  Comparing Distributions : Normal, Laplace and Cauchy\n",
        "> Interval score based distribution comparison\n",
        "\n",
        "- toc: true\n",
        "- branch: master\n",
        "- comments: false\n",
        "- author: Deebul Nair\n",
        "- categories: [statistics, uncertainty]"
      ],
      "metadata": {
        "id": "fCC4HM2nC7F6"
      }
    },
    {
      "cell_type": "markdown",
      "source": [
        "\n",
        "# Comparing Distributions : Normal, Laplace and Cauchy\n",
        "\n",
        "We want to represent a fact of a real number $x$ and its uncertainty. Probability distirbution is one of the representation to hold such information.\n",
        "\n",
        "For example, we want to store a fact that the value of a variable is 10 with uncertaitny of +- 0.5 . In other format the value lies between [9.5, 10.5]\n",
        "\n",
        "This can be represented using different probability distributions.\n",
        "1. Normal distirbution - N(10, 0.01)\n",
        "2. Laplace distirbution - L(10, 0.01)\n",
        "3. Cauchy distribution - C(10, 0.01)\n",
        "\n",
        "The question we are interested is if a particular fact is represented using these distribution. How to compare the uncertainty ?\n",
        "For example: the above distirbutions how all of them have peak at 10 but how to compare are these distirbutions having the same spread.\n",
        "\n"
      ],
      "metadata": {
        "id": "umFVESWaEDHr"
      }
    },
    {
      "cell_type": "code",
      "execution_count": null,
      "metadata": {
        "id": "2wCKlHzBCgvH"
      },
      "outputs": [],
      "source": []
    },
    {
      "cell_type": "code",
      "source": [],
      "metadata": {
        "id": "GjMrs4nHEAz1"
      },
      "execution_count": null,
      "outputs": []
    }
  ]
}