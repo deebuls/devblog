{
 "cells": [
  {
   "cell_type": "markdown",
   "metadata": {
    "colab_type": "text",
    "id": "Lah-pLp5VoC5"
   },
   "source": [
    "# \"Likelihood\"\n",
    "> \"To understand Likelihood of distributions\"\n",
    "\n",
    "- toc: false\n",
    "- author: Deebul Nair\n",
    "- branch: master\n",
    "- badges: true\n",
    "- comments: true\n",
    "- categories: [probability, python]"
   ]
  },
  {
   "cell_type": "markdown",
   "metadata": {
    "colab_type": "text",
    "id": "bmyGoURwoD6c"
   },
   "source": [
    "# What is Likelihood?\n",
    "\n",
    "Likelihood and probablity seems to be same word in the layman domain, but in the stats domain they are different.\n",
    "\n",
    "In the stats domain the likelihood or likelihood function is a **measurement**. It measures the distance between a **statistical model** and the **input data**.\n",
    "\n",
    "What is a statistical model?\n",
    "> The diferent probability distributions available. For example, Gausian, gama, beta distribution, exponential for continuous data while Bernoulli, Dirichlet, multinomila distributions for discrete data.\n",
    "\n",
    "How are statistical models represented?\n",
    "> By their parameters. For example for gaussian distribution the parameters are $\\mu$ and $\\sigma$ .\n",
    "\n",
    "How do we select the statictical model?\n",
    "> Depends on  many factors. This is the main decision to be made while designing a statistical model based learning. The different factors include:\n",
    "* what is the data type: Continuous or discrete?\n",
    "* Is it symmetrical or asymetrical?\n",
    "* Domain of the data, binary, real, etc\n",
    "* Does it decay or increase?\n",
    "* . . . etc\n",
    "\n",
    "A complete knowledge about the type data and the type of distribution is required to make the appropriate decision.\n",
    "\n",
    "\n",
    "## Good blog on likelihood with scipy.stats\n",
    "* https://www.kaggle.com/code/tentotheminus9/so-you-have-a-diagnostic-test-result/notebook "
   ]
  },
  {
   "cell_type": "markdown",
   "metadata": {
    "colab_type": "text",
    "id": "WlIGm5UC8xBo"
   },
   "source": [
    "## Common Probability distribution \n",
    "\n",
    "| Data Type | Domain | Distribution | Python (numpy.random) | Parameters |\n",
    "|-----------|--------|--------------|--------|----------|\n",
    "|univariate, discrete, <br>binary | $$ x\\in\\{0,1\\} $$ | Bernoulli | binomial(1, p)| $$ p\\in[0,1]$$|\n",
    "|univariate, discrete, <br> multivalued | $$ x \\in \\{ 1,2, \\dots, K\\}$$| multinomial | multinomial(n, pvals) | $$pvals = [p_1, \\dots , p_k] $$ <br> $$ \\sum_{i=1}^{K} p_i = 1 $$ |\n",
    "|univariate, continuous, <br> unbounded | $$ x \\in \\mathbb{R} $$ | normal | normal(mu, sigma)|$$ \\mu \\in \\mathbb{R} $$ <br> $$ \\sigma \\in \\mathbb{R}$$"
   ]
  },
  {
   "cell_type": "code",
   "execution_count": 0,
   "metadata": {
    "colab": {},
    "colab_type": "code",
    "id": "dSK4-sxgrGsw"
   },
   "outputs": [],
   "source": [
    "#Lets make some distributions and find the likelihood to some data\n",
    "import numpy as np\n",
    "import matplotlib.pyplot as plt\n",
    "\n",
    "number_of_samples = 20;\n",
    "#parameters ; sample data from distribution (continuous data)\n",
    "mu, sigma = 12, 0.1     ; univariate_gaussian_samples = np.random.normal(mu, sigma, number_of_samples)\n",
    "mean = [0, 0]; \n",
    "cov = [[1, 0], [0, 100]]; multivariate_gaussian_samples = np.random.multivariate_normal(mean, cov, number_of_samples)\n",
    "\n",
    "#parameters ; sample data from distribution (discreta data)\n",
    "p = 0.8                 ; bernoulli_samples = np.random.binomial(1, p, number_of_samples)\n",
    "pvals = [0.2, 0.6, 0.2] ; multinomial_samples = np.random.multinomial(number_of_samples, pvals)\n",
    "alpha, beta = 10, 20    ; beta_samples = np.random.beta(alpha, beta, number_of_samples)\n",
    "alpha = [10,20,10,90]   ; dirchilet_samples = np.random.dirichlet(alpha, number_of_samples)"
   ]
  },
  {
   "cell_type": "markdown",
   "metadata": {
    "colab_type": "text",
    "id": "LcpwFPDaWZZS"
   },
   "source": [
    "## Goal of Likelihood\n",
    "\n",
    "The goal of likelihood would be given the samples as shown above (beta_samples, dirichlet_samples etc) find the parameters of the corresponding distribution ((alpha, beta), alphas respectively)\n",
    "\n",
    "\n",
    "### Lets look into this process in the comming post"
   ]
  },
  {
   "cell_type": "code",
   "execution_count": 0,
   "metadata": {
    "colab": {
     "base_uri": "https://localhost:8080/",
     "height": 35
    },
    "colab_type": "code",
    "id": "DlFQPXiZr3G4",
    "outputId": "4330297e-e847-424e-85fc-9911be3824c2"
   },
   "outputs": [
    {
     "data": {
      "text/plain": [
       "53.103040406762"
      ]
     },
     "execution_count": 25,
     "metadata": {
      "tags": []
     },
     "output_type": "execute_result"
    }
   ],
   "source": [
    "#hide\n",
    "def normal_likelihood(data, mean, sigma):\n",
    "    s = (data - mean) ** 2 / (2 * (sigma ** 2))\n",
    "    pdfs = np.exp(- s)\n",
    "    pdfs /= np.sqrt(2 * np.pi) * sigma\n",
    "    return pdfs.sum()\n",
    "normal_likelihood(data, mu, sigma)"
   ]
  },
  {
   "cell_type": "code",
   "execution_count": 0,
   "metadata": {
    "colab": {
     "base_uri": "https://localhost:8080/",
     "height": 313
    },
    "colab_type": "code",
    "id": "RL3sAD6eHXky",
    "outputId": "22fbf661-ec93-4e92-ea61-6f09e976c650"
   },
   "outputs": [
    {
     "data": {
      "image/png": "[encoded data removed]",
      "text/plain": [
       "<Figure size 432x288 with 2 Axes>"
      ]
     },
     "metadata": {
      "tags": []
     },
     "output_type": "display_data"
    }
   ],
   "source": [
    "#hide\n",
    "sigma = 1\n",
    "fig, axs = plt.subplots(nrows=2, ncols=1, constrained_layout=True)\n",
    "axs[1].scatter(data, np.zeros(len(data)))\n",
    "for mu in range(1,20,2):\n",
    "  ll = normal_likelihood(data, mu, sigma)\n",
    "  axs[0].scatter(mu, ll)\n",
    "\n"
   ]
  },
  {
   "cell_type": "markdown",
   "metadata": {
    "colab_type": "text",
    "id": "4jLL4aeqL-ST"
   },
   "source": [
    "#hide\n",
    "### Bernoulli Distribution\n",
    "Let $x$ be the *count* of data points with value 1 and $y$ be the *count* of data points with value 0.\n",
    "$$ Pr(x) = \\lambda^{x}(1 - \\lambda^{y}) $$"
   ]
  },
  {
   "cell_type": "code",
   "execution_count": 0,
   "metadata": {
    "colab": {},
    "colab_type": "code",
    "id": "vFSrUKIPHcgX"
   },
   "outputs": [],
   "source": [
    "#hide\n",
    "p = 0.6\n",
    "data = np.random.binomial(1, p, 200)\n",
    "#data"
   ]
  },
  {
   "cell_type": "code",
   "execution_count": 0,
   "metadata": {
    "colab": {
     "base_uri": "https://localhost:8080/",
     "height": 35
    },
    "colab_type": "code",
    "id": "9yTq64jPMkIq",
    "outputId": "2b2121c3-3ddd-48ce-f8d2-a71b32d885ba"
   },
   "outputs": [
    {
     "data": {
      "text/plain": [
       "1.0343691877490352e-59"
      ]
     },
     "execution_count": 86,
     "metadata": {
      "tags": []
     },
     "output_type": "execute_result"
    }
   ],
   "source": [
    "#hide\n",
    "def bernoulli_likelihood(data, p):\n",
    "  x = np.count_nonzero(data)\n",
    "  return ((p**(x)) * (1 - p)**(len(data) - x))\n",
    "\n",
    "bernoulli_likelihood(data, p)"
   ]
  },
  {
   "cell_type": "code",
   "execution_count": 0,
   "metadata": {
    "colab": {
     "base_uri": "https://localhost:8080/",
     "height": 313
    },
    "colab_type": "code",
    "id": "cfg3VT09UFPZ",
    "outputId": "6d644a27-867c-4b36-d103-0bbf4dbf6366"
   },
   "outputs": [
    {
     "data": {
      "image/png": "[encoded data removed]",
      "text/plain": [
       "<Figure size 432x288 with 2 Axes>"
      ]
     },
     "metadata": {
      "tags": []
     },
     "output_type": "display_data"
    }
   ],
   "source": [
    "#hide\n",
    "fig, axs = plt.subplots(nrows=2, ncols=1, constrained_layout=True)\n",
    "\n",
    "axs[1].scatter(range(len(data)), data)\n",
    "for p in np.linspace(0,1, num=20):\n",
    "  ll = bernoulli_likelihood(data, p)\n",
    "  axs[0].scatter(p, ll)\n",
    "  axs[0].set_ylim([0, 1e-58])"
   ]
  },
  {
   "cell_type": "code",
   "execution_count": 0,
   "metadata": {
    "colab": {},
    "colab_type": "code",
    "id": "ZVQmRhUqU8bK"
   },
   "outputs": [],
   "source": [
    "#hide"
   ]
  }
 ],
 "metadata": {
  "colab": {
   "name": "2020-03-19-likelihood-lets-start.ipynb",
   "provenance": []
  },
  "kernelspec": {
   "display_name": "Python 3 (ipykernel)",
   "language": "python",
   "name": "python3"
  },
  "language_info": {
   "codemirror_mode": {
    "name": "ipython",
    "version": 3
   },
   "file_extension": ".py",
   "mimetype": "text/x-python",
   "name": "python",
   "nbconvert_exporter": "python",
   "pygments_lexer": "ipython3",
   "version": "3.10.6"
  }
 },
 "nbformat": 4,
 "nbformat_minor": 1
}
