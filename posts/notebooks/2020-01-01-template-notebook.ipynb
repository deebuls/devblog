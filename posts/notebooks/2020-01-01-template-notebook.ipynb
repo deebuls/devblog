{
  "nbformat": 4,
  "nbformat_minor": 0,
  "metadata": {
    "colab": {
      "provenance": [],
      "include_colab_link": true
    },
    "kernelspec": {
      "name": "python3",
      "display_name": "Python 3"
    },
    "language_info": {
      "name": "python"
    }
  },
  "cells": [
    {
      "cell_type": "markdown",
      "metadata": {
        "id": "view-in-github",
        "colab_type": "text"
      },
      "source": [
        "<a href=\"https://colab.research.google.com/github/deebuls/devblog/blob/main/posts/notebooks/2020-01-01-template-notebook.ipynb\" target=\"_parent\"><img src=\"https://colab.research.google.com/assets/colab-badge.svg\" alt=\"Open In Colab\"/></a>"
      ]
    },
    {
      "cell_type": "markdown",
      "source": [
        "---\n",
        "title: \"Template\"\n",
        "author: \"Deebul Nair\"\n",
        "badges: true\n",
        "date: \"2020-01-01\"\n",
        "description: \"To understand Likelihood of distributions\"\n",
        "\n",
        "---\n"
      ],
      "metadata": {
        "id": "6XnQxkMfpSqQ"
      }
    },
    {
      "cell_type": "code",
      "source": [],
      "metadata": {
        "id": "Tyxl7kapoq9t"
      },
      "execution_count": null,
      "outputs": []
    },
    {
      "cell_type": "code",
      "execution_count": null,
      "metadata": {
        "id": "N0PciNCzpR9S"
      },
      "outputs": [],
      "source": []
    }
  ]
}