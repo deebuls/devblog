{
  "nbformat": 4,
  "nbformat_minor": 0,
  "metadata": {
    "colab": {
      "provenance": []
    },
    "kernelspec": {
      "name": "python3",
      "display_name": "Python 3"
    },
    "language_info": {
      "name": "python"
    }
  },
  "cells": [
    {
      "cell_type": "markdown",
      "source": [
        "---\n",
        "title: \"Template\"\n",
        "author: \"Deebul Nair\"\n",
        "badges: true\n",
        "date: \"2020-01-01\"\n",
        "description: \"To understand Likelihood of distributions\"\n",
        "\n",
        "---\n"
      ],
      "metadata": {
        "id": "6XnQxkMfpSqQ"
      }
    },
    {
      "cell_type": "markdown",
      "source": [
        "# Template"
      ],
      "metadata": {
        "id": "9nN9_xAN-T42"
      }
    },
    {
      "cell_type": "code",
      "source": [
        "# T"
      ],
      "metadata": {
        "id": "Tyxl7kapoq9t"
      },
      "execution_count": null,
      "outputs": []
    },
    {
      "cell_type": "code",
      "execution_count": null,
      "metadata": {
        "id": "N0PciNCzpR9S"
      },
      "outputs": [],
      "source": []
    }
  ]
}