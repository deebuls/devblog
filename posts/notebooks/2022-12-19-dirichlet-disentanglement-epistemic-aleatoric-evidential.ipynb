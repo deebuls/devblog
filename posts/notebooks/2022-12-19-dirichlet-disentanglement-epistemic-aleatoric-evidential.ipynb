{
 "cells": [
  {
   "cell_type": "raw",
   "metadata": {},
   "source": [
    "---\n",
    "aliases:\n",
    "- /statistics/uncertainty/2022/12/19/dirichlet-disentanglement-epistemic-aleatoric-evidential\n",
    "author: Deebul Nair\n",
    "branch: master\n",
    "categories:\n",
    "- statistics\n",
    "- uncertainty\n",
    "comments: false\n",
    "date: '2022-12-19'\n",
    "description: Analysis\n",
    "output-file: 2022-12-19-dirichlet-disentanglement-epistemic-aleatoric-evidential.html\n",
    "title: Dis-entaglement of Epistemic and Aleatoric uncertainty for Dirichlet Distribution\n",
    "toc: true\n",
    "\n",
    "---\n",
    "\n"
   ]
  },
  {
   "cell_type": "markdown",
   "metadata": {
    "colab_type": "text",
    "id": "view-in-github"
   },
   "source": [
    "<a href=\"https://colab.research.google.com/github/deebuls/devblog/blob/master/_notebooks/2022-12-19-dirichlet-disentanglement-epistemic-aleatoric-evidential.ipynb\" target=\"_parent\"><img src=\"https://colab.research.google.com/assets/colab-badge.svg\" alt=\"Open In Colab\"/></a>"
   ]
  },
  {
   "cell_type": "markdown",
   "metadata": {
    "id": "P8bxWEn4NN0R"
   },
   "source": [
    "## How to separate epistemic and aleatoric uncertaity of Dirichlet distirbution\n",
    "\n",
    "Also studing the implications of it and proposing the applications of the solutions. \n",
    "\n",
    "* Formula for [1] .\n",
    "* theory in [2] \n",
    "\n",
    "\n",
    "ToDo : complete the section with info \n",
    "\n",
    "[1] Separation of Aleatoric and Epistemic Uncertainty in Deterministic Deep Neural Networks\n",
    "Denis Huseljic, Bernhard Sick, Marek Herde, Daniel Kottke\n",
    "\n",
    "[2] Deep Deterministic Uncertainty: A Simple Baseline\n",
    "Jishnu Mukhoti"
   ]
  },
  {
   "cell_type": "code",
   "execution_count": 13,
   "metadata": {
    "id": "GE97NVWANOLA"
   },
   "outputs": [],
   "source": [
    "import math \n",
    "import numpy as np\n",
    "import torch"
   ]
  },
  {
   "cell_type": "code",
   "execution_count": 14,
   "metadata": {
    "id": "qG_2X7RcNOYn"
   },
   "outputs": [],
   "source": [
    "prior = 1\n",
    "n_classes = 5\n",
    "def predict_epistemic( alpha):\n",
    "    \"\"\"Predicts the uncertainty of a sample. (K / alpha_0)\"\"\"\n",
    "    return n_classes * prior / alpha.sum(-1, keepdim=True)\n",
    "\n",
    "def predict_aleatoric( alpha):\n",
    "    \"\"\"Predicts the uncertainty of a sample. (K / alpha_0)\"\"\"\n",
    "   \n",
    "    proba_in = (alpha / alpha.sum(-1, keepdim=True)).clamp_(1e-8, 1-1e-8)\n",
    "    entropy = - torch.sum((proba_in * proba_in.log()), dim=-1)\n",
    "    normalized_entropy = entropy / np.log(n_classes)\n",
    "    return normalized_entropy"
   ]
  },
  {
   "cell_type": "code",
   "execution_count": 15,
   "metadata": {
    "colab": {
     "base_uri": "https://localhost:8080/"
    },
    "id": "x78Sxt-iPE5L",
    "outputId": "072cff3e-5932-4d5f-fc01-5d98b0eb9746"
   },
   "outputs": [
    {
     "name": "stdout",
     "output_type": "stream",
     "text": [
      "tensor([1.]) tensor(1.)\n"
     ]
    }
   ],
   "source": [
    "ones = torch.ones(n_classes)\n",
    "print (predict_epistemic(ones), predict_aleatoric(ones))"
   ]
  },
  {
   "cell_type": "markdown",
   "metadata": {
    "id": "VvVEavHnS1_P"
   },
   "source": [
    "## When alpha of only a single class keeps increasing \n",
    "\n",
    "* **Observation** : Both uncertainty reduces \n",
    "* **Impact** : When the model puts all confidence(alpha) on a single class it shows that the model is confident about the class and uncertainty reduces.\n",
    "\n",
    "* The maximum aleatoric and epistemic uncertitny is both 1.0\n",
    "* Epistemic is always lower than Aleatoric"
   ]
  },
  {
   "cell_type": "code",
   "execution_count": 19,
   "metadata": {
    "colab": {
     "base_uri": "https://localhost:8080/"
    },
    "id": "nVOT6IHUPoAS",
    "outputId": "a45b6506-b7af-4dab-f78d-52c60eeb96c3"
   },
   "outputs": [
    {
     "name": "stdout",
     "output_type": "stream",
     "text": [
      "tensor([1., 1., 1., 1., 1.])\n",
      "Epistemic UE : tensor([1.]), Aleatoric UE : 1.0\n",
      "------------ tensor([False])\n",
      "tensor([10.,  1.,  1.,  1.,  1.])\n",
      "Epistemic UE : tensor([0.3571]), Aleatoric UE : 0.6178266406059265\n",
      "------------ tensor([False])\n",
      "tensor([50.,  1.,  1.,  1.,  1.])\n",
      "Epistemic UE : tensor([0.0926]), Aleatoric UE : 0.2278686910867691\n",
      "------------ tensor([False])\n",
      "tensor([1000.,    1.,    1.,    1.,    1.])\n",
      "Epistemic UE : tensor([0.0050]), Aleatoric UE : 0.019580082967877388\n",
      "------------ tensor([False])\n"
     ]
    }
   ],
   "source": [
    "for i in [1, 10, 50, 1000 ]:\n",
    "  x = torch.ones(n_classes)\n",
    "  x[0] = i\n",
    "  print (x)\n",
    "  print (\"Epistemic UE : {}, Aleatoric UE : {}\".format(predict_epistemic(x),  predict_aleatoric(x)))\n",
    "  print (\"------------\",predict_epistemic(x) > predict_aleatoric(x))"
   ]
  },
  {
   "cell_type": "markdown",
   "metadata": {
    "id": "48OIK4AXUU61"
   },
   "source": [
    "## When alpha of multiple classes keeps increasing \n",
    "\n",
    "* **Observation** : Epistemic reduces aleatoric is high  \n",
    "* **Impact** : When the model puts all confidence(alpha) on multiple classes basically suggests that the model is not confident. While since some alpha has increased it suggests that the input is an observed data(not new) and therefore low aleatoric uncertainty\n",
    "\n",
    "The maximum aleatoric and epistemic uncertainty is both 1"
   ]
  },
  {
   "cell_type": "code",
   "execution_count": null,
   "metadata": {
    "colab": {
     "base_uri": "https://localhost:8080/"
    },
    "id": "Sc03F57gQOX5",
    "outputId": "50f87f59-39d4-4f65-da8f-6e763ed33e8a"
   },
   "outputs": [
    {
     "name": "stdout",
     "output_type": "stream",
     "text": [
      "tensor([1., 1., 1., 1., 1.])\n",
      "Epistemic UE : tensor([1.]), Aleatoric UE : 1.0\n",
      "------------\n",
      "tensor([10., 10., 10., 10., 10.])\n",
      "Epistemic UE : tensor([0.1000]), Aleatoric UE : 1.0\n",
      "------------\n",
      "tensor([50., 50., 50., 50., 50.])\n",
      "Epistemic UE : tensor([0.0200]), Aleatoric UE : 1.0\n",
      "------------\n",
      "tensor([10000., 10000., 10000., 10000., 10000.])\n",
      "Epistemic UE : tensor([1.0000e-04]), Aleatoric UE : 1.0\n",
      "------------\n"
     ]
    }
   ],
   "source": [
    "for i in [1, 10, 50, 10000 ]:\n",
    "  x = torch.ones(n_classes)*i\n",
    "  print (x)\n",
    "  print (\"Epistemic UE : {}, Aleatoric UE : {}\".format(predict_epistemic(x),  predict_aleatoric(x)))\n",
    "  print (\"------------\",)"
   ]
  },
  {
   "cell_type": "code",
   "execution_count": null,
   "metadata": {
    "id": "Wl9FFMV2R72L"
   },
   "outputs": [],
   "source": []
  },
  {
   "cell_type": "markdown",
   "metadata": {
    "id": "EwZiqkQecWJy"
   },
   "source": [
    "## Impact of prior \n",
    "\n",
    "prior = 50\n",
    "\n",
    "The highest epistmeic uncertainty increases from 1 to the prior value"
   ]
  },
  {
   "cell_type": "code",
   "execution_count": null,
   "metadata": {
    "colab": {
     "base_uri": "https://localhost:8080/"
    },
    "id": "GnXLjeHicaKU",
    "outputId": "d19b805d-9637-4ad1-a112-0d381cbecf3e"
   },
   "outputs": [
    {
     "name": "stdout",
     "output_type": "stream",
     "text": [
      "tensor([1., 1., 1., 1., 1.])\n",
      "Epistemic UE : tensor([50.]), Aleatoric UE : 1.0\n",
      "------------\n",
      "tensor([10.,  1.,  1.,  1.,  1.])\n",
      "Epistemic UE : tensor([17.8571]), Aleatoric UE : 0.6178266406059265\n",
      "------------\n",
      "tensor([50.,  1.,  1.,  1.,  1.])\n",
      "Epistemic UE : tensor([4.6296]), Aleatoric UE : 0.2278686910867691\n",
      "------------\n",
      "tensor([1.0000e+04, 1.0000e+00, 1.0000e+00, 1.0000e+00, 1.0000e+00])\n",
      "Epistemic UE : tensor([0.0250]), Aleatoric UE : 0.002536643762141466\n",
      "------------\n",
      "tensor([1., 1., 1., 1., 1.])\n",
      "Epistemic UE : tensor([50.]), Aleatoric UE : 1.0\n",
      "------------\n",
      "tensor([10., 10., 10., 10., 10.])\n",
      "Epistemic UE : tensor([5.]), Aleatoric UE : 1.0\n",
      "------------\n",
      "tensor([50., 50., 50., 50., 50.])\n",
      "Epistemic UE : tensor([1.]), Aleatoric UE : 1.0\n",
      "------------\n",
      "tensor([10000., 10000., 10000., 10000., 10000.])\n",
      "Epistemic UE : tensor([0.0050]), Aleatoric UE : 1.0\n",
      "------------\n"
     ]
    }
   ],
   "source": [
    "#| include: false \n",
    "\n",
    "prior = 50 \n",
    "\n",
    "for i in [1, 10, 50, 10000 ]:\n",
    "  x = torch.ones(n_classes)\n",
    "  x[0] = i\n",
    "  print (x)\n",
    "  print (\"Epistemic UE : {}, Aleatoric UE : {}\".format(predict_epistemic(x),  predict_aleatoric(x)))\n",
    "  print (\"------------\",)\n",
    "\n",
    "for i in [1, 10, 50, 10000 ]:\n",
    "  x = torch.ones(n_classes)*i\n",
    "  print (x)\n",
    "  print (\"Epistemic UE : {}, Aleatoric UE : {}\".format(predict_epistemic(x),  predict_aleatoric(x)))\n",
    "  print (\"------------\",)"
   ]
  },
  {
   "cell_type": "markdown",
   "metadata": {
    "id": "Do7L7cwzUznc"
   },
   "source": [
    "## Conclusions\n",
    "\n",
    "* Dirichlet distirbution can be dis-entagled into aleatoric and epistemic uncertainty.\n",
    "* When all alpha is 1 - both uncertainty are also 1 impling that the network doesnt know anything\n",
    "* If only one output class alpha is higher then both uncertainty is low\n",
    "* The higher the alpha the lower both the uncertainty\n",
    "* If multiple alpha is higher then only aleatoric is high epistemic stays low. Impling that since the some alpha was increased the network has seen the input and its not sure which amongst the outputs is correct.\n",
    "\n",
    "\n",
    "### Use Case\n",
    "#### 1. For identifying OOD data\n",
    "1. For the training dataset measure the epistemic uncertainty of the correct predictions. It should be less than 1 and near to zero\n",
    "2. During prediction if epistemic uncertainty is higher than the training max then that data should be considered OOD and handled appropriately\n",
    "\n",
    "#### 2. For handling in-domain uncertain data\n",
    "1. If the epistemic unertainty is is range but if the aleatoric is high we can use these in embodied situation to collect additional data(image) from different view, fuse and make decision. Example if blur image - then differ to predict but dont flag as OOD, maybe in next image the information will be clear.\n",
    "\n"
   ]
  },
  {
   "cell_type": "code",
   "execution_count": null,
   "metadata": {
    "id": "-B7KokyyYrfE"
   },
   "outputs": [],
   "source": []
  }
 ],
 "metadata": {
  "colab": {
   "authorship_tag": "ABX9TyNM2BvontezD9kk8YQYBSr6",
   "include_colab_link": true,
   "provenance": []
  },
  "kernelspec": {
   "display_name": "Python 3",
   "name": "python3"
  },
  "language_info": {
   "name": "python"
  }
 },
 "nbformat": 4,
 "nbformat_minor": 0
}
