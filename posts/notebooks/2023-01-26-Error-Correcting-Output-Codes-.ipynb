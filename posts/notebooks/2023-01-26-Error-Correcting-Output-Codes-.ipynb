{
 "cells": [
  {
   "cell_type": "raw",
   "metadata": {},
   "source": [
    "---\n",
    "aliases:\n",
    "- /deep learning/paper/2023/01/26/Error-Correcting-Output-Codes-\n",
    "author: Deebul Nair\n",
    "branch: master\n",
    "categories:\n",
    "- deep learning\n",
    "- paper\n",
    "comments: false\n",
    "date: '2023-01-26'\n",
    "description: Paper reading\n",
    "image: images/error_correcting_output_codes.png\n",
    "output-file: 2023-01-26-error-correcting-output-codes-.html\n",
    "title: 'Error Correcting Output codes - Why one-hot encoding is prone to attack '\n",
    "toc: true\n",
    "\n",
    "---\n",
    "\n"
   ]
  },
  {
   "cell_type": "markdown",
   "metadata": {
    "colab_type": "text",
    "id": "view-in-github"
   },
   "source": [
    "<a href=\"https://colab.research.google.com/github/deebuls/devblog/blob/master/_notebooks/2023-01-26-Error-Correcting-Output-Codes-.ipynb\" target=\"_parent\"><img src=\"https://colab.research.google.com/assets/colab-badge.svg\" alt=\"Open In Colab\"/></a>"
   ]
  },
  {
   "cell_type": "markdown",
   "metadata": {
    "id": "Vn_5a4TAflbb"
   },
   "source": [
    "# Error Correcting Output codes\n",
    "\n",
    "## Paper reading\n",
    "\n",
    "### Error Correcting Output Codes Improve Probability Estimation and Adversarial Robustness of Deep Neural Networks\n",
    "* neurips link : https://proceedings.neurips.cc/paper/2019/hash/cd61a580392a70389e27b0bc2b439f49-Abstract.html\n",
    "* code : https://github.com/Gunjan108/robust-ecoc\n",
    "\n",
    "## Meta Review\n",
    "This paper proposes the use of error correcting codes as class representations to improve robustness for adversarial attacks.  The main idea of error correcting output codes is well-known, but this is the paper that shows that such ideas can be used for adversarial robustness.  The paper shows very promising results especially in the rebuttal for CIFAR10.   The distance bound is equivalent to Plotkin as the reviewer pointed out so this should be fixed in the paper.  \n",
    "\n",
    "## Contributions\n",
    "\n",
    "* The paper demonstrates why standard one-hot encoding is susceptible to adversarial and fooling examples and prone to overconfident probability estimates.\n",
    "* It also demonstrate that well-chosen error-correcting output codes, coupled with a modified decoding strategy, leads to an intrinsically more robust system that also yields better probabillity estimates.\n",
    "* How Softmax is prone to attack as compared to sigmoid and tanh\n",
    "\n",
    "## Reviewer 3\n",
    "The region of uncertainty (prediction probability close to 0.5) for softmax of logits is extremely small near an M-1 dimensional hyperplane in the logits space. The reason is changing one of the logits for one of the classes affects the probability vectors in all dimensions.   The authors show that, if each logit is first converted to an independent probability using 1/(1+exp(-x)) function and the probability vector correlated with each codeword of an error correcting in a soft way to decode, this method has a large volume of uncertainty. The volume of uncertainty is larger when the min hamming distance of the code is large. This because multiple logits must be changed at the same time to cause a wrong decoding.   Authors demonstrate this with nice plots. Authors propose to use subset of rows of Hamming Matrix for two properties: They have almost the best minimum hamming distance  (half the dimension of the code) and they are orthogonal (which is important for unconfused decoding). They derive an upper bound on distance for any code.  I checked the proof of the upper bound - it seems correct.  Then the authors demonstrate performance (using Hamming 16 code) against PGD and Carlini Wagner attacks. "
   ]
  },
  {
   "cell_type": "markdown",
   "metadata": {
    "id": "OtBYu5OJmcTk"
   },
   "source": [
    "## Ploting Figure 1"
   ]
  },
  {
   "cell_type": "code",
   "execution_count": 1,
   "metadata": {
    "id": "TBdrSkhlVNAN"
   },
   "outputs": [],
   "source": [
    "import numpy as np\n",
    "import torch"
   ]
  },
  {
   "cell_type": "code",
   "execution_count": 2,
   "metadata": {
    "id": "6-Xca_7UhUpS"
   },
   "outputs": [],
   "source": [
    "import matplotlib.pyplot as plt"
   ]
  },
  {
   "cell_type": "code",
   "execution_count": 21,
   "metadata": {
    "colab": {
     "base_uri": "https://localhost:8080/",
     "height": 285
    },
    "id": "MCDSJj4Hgpsw",
    "outputId": "eae007ba-929c-4a99-c740-88cd049b1263"
   },
   "outputs": [
    {
     "data": {
      "text/plain": [
       "<matplotlib.image.AxesImage at 0x7ff402d979d0>"
      ]
     },
     "execution_count": 21,
     "metadata": {},
     "output_type": "execute_result"
    },
    {
     "data": {
      "image/png": "[encoded data removed]",
      "text/plain": [
       "<Figure size 432x288 with 1 Axes>"
      ]
     },
     "metadata": {
      "needs_background": "light"
     },
     "output_type": "display_data"
    }
   ],
   "source": [
    "samples = 100\n",
    "z0 = np.linspace(-10, 10, samples)\n",
    "z1 = np.linspace(10, -10, samples)\n",
    "xv, yv = np.meshgrid(z0, z1)\n",
    "t = torch.tensor([list(xv.ravel()),list(yv.ravel())])\n",
    "t = t.permute(1,0)\n",
    "\n",
    "softmax = torch.nn.functional.softmax(t, dim=1).numpy()\n",
    "sigmoid = torch.sigmoid(t)\n",
    "sigmoid = sigmoid/sigmoid.sum(dim=1, keepdim=True)\n",
    "\n",
    "plt.imshow(softmax[:,0].reshape(samples,samples))"
   ]
  },
  {
   "cell_type": "code",
   "execution_count": 22,
   "metadata": {
    "colab": {
     "base_uri": "https://localhost:8080/",
     "height": 285
    },
    "id": "mD7UtyDgjaY8",
    "outputId": "32ea70d1-495d-418e-c20e-3f0b25ad46a1"
   },
   "outputs": [
    {
     "data": {
      "text/plain": [
       "<matplotlib.image.AxesImage at 0x7ff402d1bbb0>"
      ]
     },
     "execution_count": 22,
     "metadata": {},
     "output_type": "execute_result"
    },
    {
     "data": {
      "image/png": "[encoded data removed]",
      "text/plain": [
       "<Figure size 432x288 with 1 Axes>"
      ]
     },
     "metadata": {
      "needs_background": "light"
     },
     "output_type": "display_data"
    }
   ],
   "source": [
    "plt.imshow(sigmoid[:,0].reshape(samples,samples))"
   ]
  },
  {
   "cell_type": "markdown",
   "metadata": {
    "id": "cQ0I-V4N6FbH"
   },
   "source": [
    "## Thin Green Region\n",
    "\n",
    "* For Softmax the uncertain region (in green here) is thin, which basically means its easier to shift from one confident region to another.\n",
    "* For sigmoid this region is huge. Its not exact replica of the paper beause the sigmoid is of range -10 to 10 and here its just -1 to 1 \n",
    "\n"
   ]
  },
  {
   "cell_type": "code",
   "execution_count": null,
   "metadata": {
    "id": "8-lULElruT6y"
   },
   "outputs": [],
   "source": []
  },
  {
   "cell_type": "markdown",
   "metadata": {
    "id": "rIfqnq0SwFPZ"
   },
   "source": [
    "# Hamming Distance\n",
    "\n",
    "The Hamming distance between any two binary codewords x and y, denoted d(x, y), is simply\n",
    "|x − y|0, where | · |0 denotes the L0 norm. \n",
    "\n",
    "$$ d = \\min{d(x, y) : x, y ∈ C, x \\neq y}  $$\n",
    "\n",
    "* The standard one-hot coding scheme has a Hamming distance of only 2. \n",
    "* Practically, this means that if the adversary can sufficiently alter even a single logit, an error may occur. \n",
    "* In Figure above, changing a single logit (i.e. an axis-aligned perturbation) is sufficient to make the classifier uncertain. Ideally, we want the classifier to be robust to changes to multiple logits.\n",
    "\n",
    "\n",
    "Below we use the linalg hadamard code and encode 10 numbers to a hadamard code with length 16  and comapr with on-hot-encoding . As you can see you need only to flip 1 bit to make it vulnerable."
   ]
  },
  {
   "cell_type": "code",
   "execution_count": 11,
   "metadata": {
    "id": "TBn7e-FowGqD"
   },
   "outputs": [],
   "source": [
    "import scipy.linalg\n",
    "\n",
    "code_length = 16\n",
    "num_codes = 10 #num classes\n",
    "code_length_true = code_length"
   ]
  },
  {
   "cell_type": "code",
   "execution_count": 23,
   "metadata": {
    "colab": {
     "base_uri": "https://localhost:8080/",
     "height": 483
    },
    "id": "HZPN7cW5yxkt",
    "outputId": "5d7768d4-4be9-4489-94e3-3dea8d3cb2e2"
   },
   "outputs": [
    {
     "name": "stdout",
     "output_type": "stream",
     "text": [
      " Scipy hadamard  (16, 16)\n",
      " Replaces   (16, 16)\n",
      "final  (10, 16)\n",
      "[[ 1.  1.  1. -1. -1. -1.  1. -1. -1.  1.  1.  1. -1.  1. -1. -1.]\n",
      " [-1. -1.  1. -1.  1. -1. -1.  1. -1.  1.  1.  1. -1. -1.  1.  1.]\n",
      " [ 1.  1. -1. -1. -1.  1. -1.  1. -1. -1. -1.  1.  1. -1.  1. -1.]\n",
      " [-1.  1. -1. -1.  1. -1. -1. -1.  1. -1.  1. -1.  1.  1.  1. -1.]\n",
      " [ 1. -1.  1.  1.  1.  1.  1. -1. -1. -1.  1. -1. -1. -1.  1. -1.]\n",
      " [ 1.  1. -1.  1.  1.  1.  1.  1.  1.  1.  1.  1.  1.  1.  1.  1.]\n",
      " [ 1. -1. -1. -1. -1. -1.  1.  1.  1. -1.  1. -1.  1. -1. -1.  1.]\n",
      " [-1.  1.  1.  1. -1.  1. -1.  1. -1. -1.  1. -1. -1.  1. -1.  1.]\n",
      " [-1. -1.  1. -1.  1.  1.  1. -1. -1. -1. -1.  1.  1.  1. -1.  1.]\n",
      " [-1. -1.  1.  1. -1.  1. -1. -1.  1.  1.  1.  1.  1. -1. -1. -1.]]\n"
     ]
    },
    {
     "data": {
      "image/png": "[encoded data removed]",
      "text/plain": [
       "<Figure size 432x288 with 1 Axes>"
      ]
     },
     "metadata": {
      "needs_background": "light"
     },
     "output_type": "display_data"
    }
   ],
   "source": [
    "M = scipy.linalg.hadamard(code_length).astype(np.float32)\n",
    "print ( \" Scipy hadamard \", M.shape)\n",
    "M[np.arange(0, num_codes,2), 0]= -1#replace first col, which for this Hadamard construction is always 1, hence not a useful bit\n",
    "print ( \" Replaces  \", M.shape)\n",
    "np.random.seed(12754); np.random.shuffle(M)\n",
    "idx=np.random.permutation(code_length)\n",
    "M = M[0:num_codes, idx[0:code_length_true]]\n",
    "print (\"final \", M.shape)\n",
    "print (M)\n",
    "plt.imshow(M)\n",
    "plt.savefig(\"error_correcting_output_codes.png\")"
   ]
  },
  {
   "cell_type": "code",
   "execution_count": 20,
   "metadata": {
    "colab": {
     "base_uri": "https://localhost:8080/",
     "height": 282
    },
    "id": "I2eY9-DE34j9",
    "outputId": "40d030af-70de-4e1a-f632-fddcbf726fd8"
   },
   "outputs": [
    {
     "data": {
      "text/plain": [
       "<matplotlib.image.AxesImage at 0x7ff402d595b0>"
      ]
     },
     "execution_count": 20,
     "metadata": {},
     "output_type": "execute_result"
    },
    {
     "data": {
      "image/png": "[encoded data removed]",
      "text/plain": [
       "<Figure size 432x288 with 1 Axes>"
      ]
     },
     "metadata": {
      "needs_background": "light"
     },
     "output_type": "display_data"
    }
   ],
   "source": [
    "#One hot encoding \n",
    "plt.imshow(np.eye(10))"
   ]
  },
  {
   "cell_type": "markdown",
   "metadata": {
    "id": "qkRbYrX9qoWt"
   },
   "source": [
    "# Conclusion\n",
    "\n",
    "We have presented a simple approach to improving model robustness that is centered around three\n",
    "core ideas. \n",
    "* One, moving from softmax to sigmoid decoding means that a non-trivial volume of the Euclidean logit space is now allocated towards model uncertainty. In crafting convincing adversarial perturbations, the adversary must now guard against landing in such regions, i.e. his attack surface is smaller.\n",
    "* Two, in changing the set of codewords from IM to one with larger Hamming distance, the Euclidean distance in logit space between any two regions of high probability for any given class becomes larger. This means that the adversary’s perturbations now need to be larger in magnitude to attain the same level of confidence. \n",
    "* Three, in learning output bits with multiple disjoint networks,\n",
    "we reduce correlations between outputs. Such correlations are implicitly capitalized on by common attack algorithms. This is because many attacks search for a perturbation by following the loss gradient, and the loss will commonly increase most rapidly in directions where the perturbation impacts multiple (correlated) logits simultaneously. Importantly, since it simply alters the output encoding but otherwise uses completely standard architectural components (i.e., convolutional and densely connected layers), the primary source of our approach’s robustness does not appear to be\n",
    "obfuscated gradients [15]."
   ]
  },
  {
   "cell_type": "code",
   "execution_count": null,
   "metadata": {
    "id": "HaexMVPH1VJi"
   },
   "outputs": [],
   "source": []
  },
  {
   "cell_type": "code",
   "execution_count": null,
   "metadata": {
    "id": "8nKVXPkNrWwG"
   },
   "outputs": [],
   "source": []
  }
 ],
 "metadata": {
  "colab": {
   "authorship_tag": "ABX9TyOH7bfRqhtp1vlP7S4mjNJX",
   "include_colab_link": true,
   "provenance": []
  },
  "kernelspec": {
   "display_name": "Python 3",
   "name": "python3"
  },
  "language_info": {
   "name": "python"
  }
 },
 "nbformat": 4,
 "nbformat_minor": 0
}
