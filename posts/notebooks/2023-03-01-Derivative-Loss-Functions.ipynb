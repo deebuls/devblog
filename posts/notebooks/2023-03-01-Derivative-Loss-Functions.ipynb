{
 "cells": [
  {
   "cell_type": "raw",
   "metadata": {},
   "source": [
    "---\n",
    "aliases:\n",
    "- /derivative/loss/2023/03/01/Derivative-Loss-Functions\n",
    "author: Deebul Nair\n",
    "branch: master\n",
    "categories:\n",
    "- derivative\n",
    "- loss\n",
    "comments: false\n",
    "date: '2023-03-01'\n",
    "description: MSE loss, logistic regression, softmax regression\n",
    "output-file: 2023-03-01-derivative-loss-functions.html\n",
    "title: Derivative of different Deep Neural Networks loss functions\n",
    "toc: true\n",
    "\n",
    "---\n",
    "\n"
   ]
  },
  {
   "cell_type": "markdown",
   "metadata": {
    "colab_type": "text",
    "id": "view-in-github"
   },
   "source": [
    "<a href=\"https://colab.research.google.com/github/deebuls/devblog/blob/master/_notebooks/2023-03-01-Derivative-Loss-Functions.ipynb\" target=\"_parent\"><img src=\"https://colab.research.google.com/assets/colab-badge.svg\" alt=\"Open In Colab\"/></a>"
   ]
  },
  {
   "cell_type": "markdown",
   "metadata": {
    "id": "NXUMBV1ezeJX"
   },
   "source": [
    "# Derivative of Deep Neural Networks loss function\n",
    "\n",
    "This blog is inspired by the blog by [Brandon Da Silve](https://brandinho.github.io/cost-function-gradients/) which did all the derivation. \n",
    "\n",
    "The blog mentions the different neural network architecture, activation and loss functions and its derivative with respect to the output. The summary is below \n",
    "\n",
    "| Activation | loss(L) |  $\\frac{\\partial \\mathcal{L}}{\\partial z}$ | \n",
    "|------------|----| ----|\n",
    "| None       | MSE  | $y - \\hat{y}$ |  \n",
    "| Sigmoid    | Binary Cross Entropy  | $y - \\hat{y}$ |  \n",
    "| Softmax    | NLL   | $y - \\hat{y}$ |  \n",
    "\n",
    "As you can see all these loss activation combination have the same derivative. \n",
    "\n",
    "Another thing which is mentioned in the blog is that if you combine Sigmoid activation with MSE then you get a different derivative. This might be the reason why they dont learn.\n",
    "\n",
    "Anyways, below are the derivation of the different loss functions.\n"
   ]
  },
  {
   "cell_type": "markdown",
   "metadata": {
    "id": "OziCcT7rlbA8"
   },
   "source": [
    "## Linear Regression\n",
    "\n",
    "$$ \n",
    "  \\begin{align*} \n",
    "  &\\text{Linear Equation}: &&z = Xw + b \\\\[1.5ex] \n",
    "  &\\text{Activation Function}: &&\\text{None} \\\\[1.5ex] \n",
    "  &\\text{Prediction}: &&\\hat{y} = z \\\\[0.5ex] \n",
    "  &\\text{Loss Function}: &&\\mathcal{L} = \\frac{1}{2}(\\hat{y} - y)^2 \n",
    "  \\end{align*}\n",
    "$$\n",
    "\n",
    "We are interested in calculating the derivative of the loss with respect to \\(z\\). Throughout this post, we will do this by applying the chain rule:\n",
    "$$\n",
    "\\frac{\\partial \\mathcal{L}}{\\partial z} = \\frac{\\partial \\mathcal{L}}{\\partial \\hat{y}} \\frac{\\partial \\hat{y}}{\\partial z}\n",
    "$$\n",
    "First we will calculate the partial derivative of the loss with respect to our prediction:\n",
    "$$\n",
    "\\frac{\\partial \\mathcal{L}}{\\partial \\hat{y}} = \\hat{y} - y\n",
    "$$\n",
    "\n",
    "Next, although silly, we calculate the partial derivative of our prediction with respect to the linear equation. Of course since the linear equation is our prediction (since we’re doing linear regression), the partial derivative is just 1:\n",
    "$$\n",
    "\\frac{\\partial \\hat{y}}{\\partial z} = 1\n",
    "$$\n",
    "When we combine them together, the derivative of the loss with respect to the linear equation is:\n",
    "$$\n",
    "\\frac{\\partial \\mathcal{L}}{\\partial z} = \\hat{y} - y\n",
    "$$\n",
    "\n"
   ]
  },
  {
   "cell_type": "markdown",
   "metadata": {
    "id": "Qm5YgMgtmX2a"
   },
   "source": [
    "## Logistic Regression / Binary cross entropy with logits\n",
    "\n",
    "$$\n",
    "\\begin{align*} \n",
    "&\\text{Linear Equation}: &&z = Xw + b \\\\[0.5ex] \n",
    "&\\text{Activation Function}: &&\\sigma(z) = \\frac{1}{1 + e^{-z}} \\\\[0.5ex] \n",
    "&\\text{Prediction}: &&\\hat{y} = \\sigma(z) \\\\[1.5ex] \n",
    "&\\text{Loss Function}: &&\\mathcal{L} = -(y\\log\\hat{y} + (1-y)\\log(1-\\hat{y})) \\end{align*}\n",
    "$$\n",
    "\n",
    "The partial derivative of the loss with respect to our prediction is pretty simple to calculate:\n",
    "\n",
    "$$ \n",
    "\\frac{\\partial \\mathcal{L}}{\\partial \\hat{y}} = -\\frac{y}{\\hat{y}} + \\frac{1-y}{1-\\hat{y}}\n",
    "$$\n",
    "\n",
    "Next we will calculate the derivative of our prediction with respect to the linear equation. We can use a little algebra to move things around and get a nice expression for the derivative:\n",
    "$$\n",
    "\\begin{align*} \n",
    "\\frac{\\partial \\hat{y}}{\\partial z} &= \\frac{\\partial}{\\partial z}\\left[\\frac{1}{1 + e^{-z}}\\right] \\\\[0.75ex] &= \\frac{e^{-z}}{(1 + e^{-z})^2} \\\\[0.75ex] &= \\frac{1 + e^{-z} - 1}{(1 + e^{-z})^2} \\\\[0.75ex] &= \\frac{1 + e^{-z}}{(1 + e^{-z})^2} - \\frac{1}{(1 + e^{-z})^2} \\\\[0.75ex] &= \\frac{1}{1 + e^{-z}} - \\frac{1}{(1 + e^{-z})^2} \\\\[0.75ex] &= \\frac{1}{1 + e^{-z}} \\left(1 - \\frac{1}{1 + e^{-z}}\\right) \\\\[0.75ex] &= \\hat{y}(1 - \\hat{y}) \n",
    "\\end{align*}\n",
    "$$\n",
    "\n",
    "Isn’t that awesome?! Anyways, enough of my love for math, let’s move on. Now we’ll combine the two partial derivatives to get our final expression for the derivative of the loss with respect to the linear equation.\n",
    "\n",
    "$$\n",
    "\\begin{align*} \n",
    "\\frac{\\partial \\mathcal{L}}{\\partial z} &= \\left(-\\frac{y}{\\hat{y}} + \\frac{1-y}{1-\\hat{y}}\\right)\\hat{y}(1 - \\hat{y}) \\\\[0.75ex] &= -\\frac{y}{\\hat{y}}\\hat{y}(1 - \\hat{y}) + \\frac{1-y}{1-\\hat{y}}\\hat{y}(1 - \\hat{y}) \\\\[0.75ex] &= -y(1 - \\hat{y}) + (1-y)\\hat{y} \\\\[0.75ex] &= -y + y\\hat{y} + \\hat{y} - y\\hat{y} \\\\[0.75ex] &= \\hat{y} - y \\end{align*}\n",
    "$$ "
   ]
  },
  {
   "cell_type": "markdown",
   "metadata": {
    "id": "xqZ92Uh-nAqL"
   },
   "source": [
    "## Softmax NLL\n",
    "\n",
    "\n",
    " \\[\\begin{align*} &\\text{Linear Equation}: &&z = Xw + b \\\\[0.5ex] &\\text{Activation Function}: &&\\varphi(z_i) = \\frac{e^{z_i}}{\\sum_n e^{z_n}} \\\\[0.5ex] &\\text{Prediction}: &&\\hat{y_i} = \\varphi(z_i) \\\\[1.5ex] &\\text{Loss Function}: &&\\mathcal{L} = -\\sum_i y_i\\log\\hat{y_i} \\end{align*}\\] \n",
    "\n",
    "Let’s calculate the first partial derivative of the loss with respect to our prediction:\n",
    "$$\n",
    "\\frac{\\partial \\mathcal{L}}{\\partial \\hat{y_i}} = -\\sum_i \\frac{y_i}{\\hat{y_i}}\n",
    "$$\n",
    "\n",
    "That was pretty easy! Now let’s tackle the monster… the partial derivative of our prediction with respect to the linear equation:\n",
    "$$\n",
    "\\frac{\\partial \\hat{y_i}}{\\partial z_j} = \\frac{\\sum_n e^{z_n} \\frac{\\partial}{\\partial z_j}[e^{z_i}] - e^{z_i} \\frac{\\partial}{\\partial z_j}\\left[\\sum_n e^{z_n}\\right]}{\\left(\\sum_n e^{z_n}\\right)^2}\n",
    "$$\n",
    "\n",
    "It is important to realize that we need to break this down into two parts. The first is when $i = j$ and the second is when $i \\neq j$.\n",
    "$$\n",
    "if (i = j):\n",
    "\\begin{align*} \n",
    "\\frac{\\partial \\hat{y_i}}{\\partial z_j} &= \\frac{e^{z_j}\\sum_n e^{z_n} - e^{z_j}e^{z_j}}{\\left(\\sum_n e^{z_n}\\right)^2} \\\\[0.75ex] \n",
    "&= \\frac{e^{z_j}\\sum_n e^{z_n}}{\\left(\\sum_n e^{z_n}\\right)^2} - \\frac{e^{z_j}e^{z_j}}{\\left(\\sum_n e^{z_n}\\right)^2} \\\\[0.75ex] \n",
    "&= \\frac{e^{z_j}}{\\sum_n e^{z_n}} - \\frac{e^{z_j}e^{z_j}}{\\left(\\sum_n e^{z_n}\\right)^2} \\\\[0.75ex] \n",
    "&= \\frac{e^{z_j}}{\\sum_n e^{z_n}} - \\frac{e^{z_j}}{\\sum_n e^{z_n}} \\frac{e^{z_j}}{\\sum_n e^{z_n}} \\\\[0.75ex] \n",
    "&= \\frac{e^{z_j}}{\\sum_n e^{z_n}} \\left(1 - \\frac{e^{z_j}}{\\sum_n e^{z_n}}\\right) \\\\[0.75ex] &= \\hat{y_j}(1 - \\hat{y_j}) \\end{align*}\n",
    "$$\n",
    "\n",
    "\n",
    "$$\n",
    "if (i \\neq j):\n",
    "\\begin{align*} \\frac{\\partial \\hat{y_i}}{\\partial z_j} &= \\frac{0 - e^{z_i}e^{z_j}}{\\left(\\sum_n e^{z_n}\\right)^2} \\\\[0.75ex] &= - \\frac{e^{z_i}}{\\sum_n e^{z_n}} \\frac{e^{z_j}}{\\sum_n e^{z_n}} \\\\[0.75ex] &= - \\hat{y_i}\\hat{y_j} \\end{align*}\n",
    "$$\n",
    "\n",
    "We can therefore combine them as follows:\n",
    "$$\n",
    "\\frac{\\partial \\mathcal{L}}{\\partial z_j} = - \\hat{y_j}(1 - \\hat{y_j})\\frac{y_j}{\\hat{y_j}} - \\sum_{i \\neq j} \\frac{y_i}{\\hat{y_i}}(-\\hat{y}_i\\hat{y_j})\n",
    "$$\n",
    "\n",
    "The left side of the equation is where $i = j$, while the right side is where $i \\neq j$. You will notice that we can cancel out a few terms, so the equation now becomes:\n",
    "$$\n",
    "\\frac{\\partial \\mathcal{L}}{\\partial z_j} = - y_j(1 - \\hat{y_j}) + \\sum_{i \\neq j} y_i\\hat{y_j}\n",
    "$$\n",
    "\n",
    "These next few steps trip some people out, so pay close attention. The first thing we’re going to do is change the subscript on the left side from $y_i$ to $y_j$ since $i = j$ for that part of the equation:\n",
    "$$\n",
    "\\frac{\\partial \\mathcal{L}}{\\partial z_j} = - y_j(1 - \\hat{y_j}) + \\sum_{i \\neq j} y_i\\hat{y_j}\n",
    "$$\n",
    "\n",
    "Next, we are going to multiply out the left side of the equation to get:\n",
    "\n",
    "$$\n",
    "\\frac{\\partial \\mathcal{L}}{\\partial z_j} = - y_j + y_j\\hat{y_j} + \\sum_{i \\neq j} y_i\\hat{y_j}\n",
    "$$\n",
    "\n",
    "We will then factor out $\\hat{y_j}$ to get:\n",
    "$$\n",
    "\\frac{\\partial \\mathcal{L}}{\\partial z_j} = - y_j + \\hat{y_j}\\left(y_j + \\sum_{i \\neq j} y_i\\right)\n",
    "$$\n",
    "\n",
    "This is where the magic happens. We realize that inside the bracket $y_j$ can become $y_i$ since it is from the left side of the equation. Since y is a one-hot encoded vector:\n",
    "$y_j + \\sum_{i \\neq j} y_i = 1$\n",
    "\n",
    "So our final partial derivative equals:\n",
    "$$\n",
    "\\frac{\\partial \\mathcal{L}}{\\partial z_j} = \\hat{y_j} - y_j = \\hat{y} - y\n",
    "$$"
   ]
  },
  {
   "cell_type": "markdown",
   "metadata": {
    "id": "q23XjKgnuCZa"
   },
   "source": [
    "## L2 loss with sigmoid \n",
    "\n",
    "\n",
    "$$\n",
    "\\begin{align*} \n",
    "&\\text{Linear Equation}: &&z = Xw + b \\\\[0.5ex] \n",
    "&\\text{Activation Function}: &&\\sigma(z) = \\frac{1}{1 + e^{-z}} \\\\[0.5ex] \n",
    "&\\text{Prediction}: &&\\hat{y} = \\sigma(z) \\\\[1.5ex] \n",
    "&\\text{Loss Function}: &&\\mathcal{L} = \\frac{1}{2}(\\hat{y} - y)^2 \\end{align*}\n",
    "$$\n",
    "\n",
    "\n",
    "First we will calculate the partial derivative of the loss with respect to our prediction:\n",
    "$$\n",
    "\\frac{\\partial \\mathcal{L}}{\\partial \\hat{y}} = \\hat{y} - y\n",
    "$$\n",
    "\n",
    "Next we will calculate the derivative of our prediction with respect to the linear equation. We can use a little algebra to move things around and get a nice expression for the derivative:\n",
    "$$\n",
    "\\begin{align*} \n",
    "\\frac{\\partial \\hat{y}}{\\partial z} &= \\frac{\\partial}{\\partial z}\\left[\\frac{1}{1 + e^{-z}}\\right] \\\\[0.75ex]\n",
    " &= \\hat{y}(1 - \\hat{y}) \n",
    "\\end{align*}\n",
    "$$\n",
    "\n",
    "Now we’ll combine the two partial derivatives to get our final expression for the derivative of the loss with respect to the linear equation.\n",
    "\n",
    "$$\n",
    "\\begin{align*} \n",
    "\\frac{\\partial \\mathcal{L}}{\\partial z} &= \\left(\\hat{y} - y \\right) \\hat{y}(1 - \\hat{y}) \\\\[0.75ex] \n",
    "\\end{align*}\n",
    "$$ "
   ]
  },
  {
   "cell_type": "markdown",
   "metadata": {
    "id": "voMWffU6spYk"
   },
   "source": [
    "# Log Softmax NLL (somthing wrong)\n",
    "\n",
    "\n",
    "\n",
    " \\[\\begin{align*} \n",
    " &\\text{Linear Equation}: &&z = Xw + b \\\\[0.5ex] \n",
    " &\\text{Activation Function}: &&\\varphi(z_i) = \\log(\\frac{e^{z_i}}{\\sum_n e^{z_n}}) \\\\[0.5ex] \n",
    " & && = z_i - \\sum_n z_n\\\\\n",
    " &\\text{Prediction}: &&\\hat{y_i} = \\varphi(z_i) \\\\[1.5ex] \n",
    " &\\text{Loss Function}: &&\\mathcal{L} = -\\sum_i y_i\\log\\hat{y_i} \\end{align*}\\] \n",
    "\n",
    "Let’s calculate the first partial derivative of the loss with respect to our prediction:\n",
    "$$\n",
    "\\frac{\\partial \\mathcal{L}}{\\partial \\hat{y_i}} = -\\sum_i \\frac{y_i}{\\hat{y_i}}\n",
    "$$\n",
    "\n",
    "the partial derivative of our prediction with respect to the linear equation:\n",
    "$$\n",
    "\\frac{\\partial \\hat{y_i}}{\\partial z_j} = \\frac{\\partial z_i}{\\partial z_j} - \\frac{\\partial \\sum_n z_n}{\\partial z_j} \n",
    "$$\n",
    "\n",
    "if $ i = j $ \n",
    "$$\n",
    "\\frac{\\partial \\hat{y_i}}{\\partial z_j} = \\frac{\\partial z_j}{\\partial z_j} - \\frac{\\partial z_j}{\\partial z_j} \\\\\n",
    "= 0\n",
    "$$\n",
    "if $ i \\neq j $ \n",
    "$$\n",
    "\\frac{\\partial \\hat{y_i}}{\\partial z_j} = \\frac{\\partial z_i}{\\partial z_j} - \\frac{\\partial \\sum_n z_n}{\\partial z_j} \\\\\n",
    "= 0 - \\frac{\\partial  z_j}{\\partial z_j} \\\\\n",
    "= -1\n",
    "$$\n",
    "\n",
    "\n",
    "We can therefore combine them as follows:\n",
    "$$\n",
    "\\frac{\\partial \\mathcal{L}}{\\partial z_j} = 0 \\frac{y_i}{\\hat{y_i}} - \\sum_{i \\neq j} \\frac{y_i}{\\hat{y_i}}(-1) \\\\\n",
    "= \\sum_{i \\neq j} \\frac{y_i}{\\hat{y_i}}\n",
    "$$"
   ]
  },
  {
   "cell_type": "markdown",
   "metadata": {
    "id": "9bv7RFTRhnmg"
   },
   "source": [
    "# Sympy Coding"
   ]
  },
  {
   "cell_type": "code",
   "execution_count": 2,
   "metadata": {
    "id": "0apmiLZ0mXBE"
   },
   "outputs": [],
   "source": [
    "import sympy as sym"
   ]
  },
  {
   "cell_type": "code",
   "execution_count": 18,
   "metadata": {
    "id": "pTtEQhPZeQkg"
   },
   "outputs": [],
   "source": [
    "y, y_hat, z = sym.symbols('y, y_hat, z')"
   ]
  },
  {
   "cell_type": "markdown",
   "metadata": {
    "id": "j9mxO53DhrPs"
   },
   "source": [
    "## Sigmoid BCE"
   ]
  },
  {
   "cell_type": "code",
   "execution_count": 21,
   "metadata": {
    "colab": {
     "base_uri": "https://localhost:8080/",
     "height": 52
    },
    "id": "g6quIfXyfVu3",
    "outputId": "88be62af-e28a-4179-a466-293d3abb3c9f"
   },
   "outputs": [
    {
     "data": {
      "text/latex": "$\\displaystyle \\frac{1}{1 + e^{- z}}$",
      "text/plain": [
       "1/(1 + exp(-z))"
      ]
     },
     "execution_count": 21,
     "metadata": {},
     "output_type": "execute_result"
    }
   ],
   "source": [
    "sigmoid = 1 / (1 + sym.exp(-z))\n",
    "sigmoid"
   ]
  },
  {
   "cell_type": "code",
   "execution_count": 19,
   "metadata": {
    "colab": {
     "base_uri": "https://localhost:8080/",
     "height": 39
    },
    "id": "qTOq5iFpeugY",
    "outputId": "273e7a7e-0d85-4858-a253-d1759cda0013"
   },
   "outputs": [
    {
     "data": {
      "text/latex": "$\\displaystyle - y \\log{\\left(y_{hat} \\right)} - \\left(1 - y\\right) \\log{\\left(1 - y_{hat} \\right)}$",
      "text/plain": [
       "-y*log(y_hat) - (1 - y)*log(1 - y_hat)"
      ]
     },
     "execution_count": 19,
     "metadata": {},
     "output_type": "execute_result"
    }
   ],
   "source": [
    "loss = -(y * sym.log(y_hat) + (1 - y)*sym.log(1 - y_hat))\n",
    "loss"
   ]
  },
  {
   "cell_type": "code",
   "execution_count": 20,
   "metadata": {
    "colab": {
     "base_uri": "https://localhost:8080/",
     "height": 54
    },
    "id": "sApekhl9fJon",
    "outputId": "58a0dc68-6669-48b3-d9d0-45347b674417"
   },
   "outputs": [
    {
     "data": {
      "text/latex": "$\\displaystyle - \\frac{y}{y_{hat}} - \\frac{y - 1}{1 - y_{hat}}$",
      "text/plain": [
       "-y/y_hat - (y - 1)/(1 - y_hat)"
      ]
     },
     "execution_count": 20,
     "metadata": {},
     "output_type": "execute_result"
    }
   ],
   "source": [
    "sym.diff(loss, y_hat)"
   ]
  },
  {
   "cell_type": "code",
   "execution_count": 22,
   "metadata": {
    "colab": {
     "base_uri": "https://localhost:8080/",
     "height": 60
    },
    "id": "OqzhQx7DfiKt",
    "outputId": "67d11bd0-134e-4c53-ed47-795b29bac7cc"
   },
   "outputs": [
    {
     "data": {
      "text/latex": "$\\displaystyle \\frac{e^{- z}}{\\left(1 + e^{- z}\\right)^{2}}$",
      "text/plain": [
       "exp(-z)/(1 + exp(-z))**2"
      ]
     },
     "execution_count": 22,
     "metadata": {},
     "output_type": "execute_result"
    }
   ],
   "source": [
    "sym.diff(sigmoid, z)"
   ]
  },
  {
   "cell_type": "code",
   "execution_count": null,
   "metadata": {
    "id": "jLHKv5tMgkQd"
   },
   "outputs": [],
   "source": []
  },
  {
   "cell_type": "markdown",
   "metadata": {
    "id": "sOuhftY6hv3d"
   },
   "source": [
    "## Softmax"
   ]
  },
  {
   "cell_type": "code",
   "execution_count": null,
   "metadata": {
    "id": "Ld_xklkUhwzL"
   },
   "outputs": [],
   "source": [
    "softmax = sym.exp(z)"
   ]
  }
 ],
 "metadata": {
  "colab": {
   "authorship_tag": "ABX9TyOzEgQyT6mKn9i+k5Q7vP/q",
   "include_colab_link": true,
   "provenance": []
  },
  "kernelspec": {
   "display_name": "Python 3",
   "name": "python3"
  },
  "language_info": {
   "name": "python"
  }
 },
 "nbformat": 4,
 "nbformat_minor": 0
}
