{
 "cells": [
  {
   "cell_type": "markdown",
   "id": "7427256b",
   "metadata": {},
   "source": [
    "---\n",
    "title: \"Introduction To Statistical Testing\"\n",
    "author: \"Deebul Nair\"\n",
    "date: \"2023-06-15\"\n",
    "jupyter: python3\n",
    "image: images/stages_of_empirial_research.png\n",
    "format: \n",
    "  html:\n",
    "    code-fold: false\n",
    "---\n",
    "\n",
    "# Introduction To Statistical Testing\n",
    "\n"
   ]
  },
  {
   "cell_type": "markdown",
   "id": "2fd17144",
   "metadata": {
    "slideshow": {
     "slide_type": "slide"
    }
   },
   "source": [
    "# Introduction To Statistical Tests\n",
    "\n",
    "Below are the slides I created for introducting statistial testing to master students of Autonomous Systems group in Hochschule Bonn-Rhein-Sieg\n",
    "\n"
   ]
  },
  {
   "cell_type": "code",
   "execution_count": 1,
   "id": "9390bad5",
   "metadata": {
    "slideshow": {
     "slide_type": "skip"
    }
   },
   "outputs": [],
   "source": [
    "import pandas as pd\n",
    "import numpy as np\n",
    "import seaborn as sns\n",
    "import scipy.stats as stats\n",
    "import matplotlib.pyplot as plt"
   ]
  },
  {
   "cell_type": "markdown",
   "id": "3442cd1b",
   "metadata": {
    "slideshow": {
     "slide_type": "slide"
    }
   },
   "source": [
    "# Learning Goals\n",
    "\n",
    "* Research Question vs Research Hypothesis vs Statistical Hypothesis\n",
    "* Why Statistical Test\n",
    "* Intro Null Hypothesis Statistical Testing\n",
    "* Descriptive Statistics\n",
    "* Bunch of Tests"
   ]
  },
  {
   "cell_type": "markdown",
   "id": "9bb5cada",
   "metadata": {
    "slideshow": {
     "slide_type": "slide"
    }
   },
   "source": [
    "# Null Hypothesis Statistical Testing (NHST)?\n",
    "\n",
    "\n",
    "![](images/stages_of_empirial_research.png)\n"
   ]
  },
  {
   "cell_type": "markdown",
   "id": "f403b555",
   "metadata": {
    "slideshow": {
     "slide_type": "subslide"
    }
   },
   "source": [
    "\n",
    "## Power Analysis \n",
    "\n",
    "References:\n",
    "[1] Guy Hoffman and Xuan Zhao. 2020. A Primer for Conducting Experiments in Human–Robot Interaction. J. Hum.-Robot Interact. 10, 1, Article 6 (March 2021), 31 pages. https://doi.org/10.1145/3412374"
   ]
  },
  {
   "cell_type": "markdown",
   "id": "f2d2fbad",
   "metadata": {
    "slideshow": {
     "slide_type": "slide"
    }
   },
   "source": [
    "# This Single Statement Generates Great Robotic Research [1]\n",
    "\n",
    "\n",
    "* [1] https://blog.robotiq.com/this-single-statement-generates-great-robotics-research"
   ]
  },
  {
   "cell_type": "markdown",
   "id": "21e0f0a2",
   "metadata": {
    "slideshow": {
     "slide_type": "fragment"
    }
   },
   "source": [
    "\n",
    "> A hypothesis, of course. Writing a hypothesis is a key skill for experimental design.\n",
    "\n",
    "\n",
    "\n"
   ]
  },
  {
   "cell_type": "markdown",
   "id": "e652cb38",
   "metadata": {
    "slideshow": {
     "slide_type": "slide"
    }
   },
   "source": [
    "# What is a Hypothesis Anyway?\n",
    "\n",
    "Simply put, a hypothesis is a statement which makes a prediction about something which is not proven. It is a kind of educated guess.\n",
    "\n",
    "You need a hypothesis when you want to prove something through experimentation.\n"
   ]
  },
  {
   "cell_type": "markdown",
   "id": "eae3bdfa",
   "metadata": {
    "slideshow": {
     "slide_type": "fragment"
    }
   },
   "source": [
    "* Robotics is a little different from the natural sciences, because it is primarily an engineering field. \n",
    "* The Engineering Process is different from the Scientific Method, because it doesn't usually make hypotheses and conduct experiments to prove them. \n",
    "* Instead, it defines design criteria and then develops technologies which achieve those criteria."
   ]
  },
  {
   "cell_type": "markdown",
   "id": "ab8e5ff9",
   "metadata": {
    "slideshow": {
     "slide_type": "fragment"
    }
   },
   "source": [
    "\n",
    "Most of the research work in robotics is spent on developing new technologies and methodologies. However, even though the primary purpose of your research is not to prove a hypothesis, as it is in natural science research, you still need a hypothesis to conduct experiments which prove that your developments work as well as you claim they do.\n"
   ]
  },
  {
   "cell_type": "markdown",
   "id": "ac233ed7",
   "metadata": {
    "slideshow": {
     "slide_type": "fragment"
    }
   },
   "source": [
    "\n",
    "Therefore, a typical robotics hypothesis might look something like:\n",
    "\n",
    "    \"Our algorithm calculates the solution faster than a naive algorithm can calculate the same problem.\"\n"
   ]
  },
  {
   "cell_type": "markdown",
   "id": "d13cb435",
   "metadata": {
    "slideshow": {
     "slide_type": "slide"
    }
   },
   "source": [
    "# Examples of Good Hypothesis from Robotics\n",
    "\n",
    "\n"
   ]
  },
  {
   "cell_type": "markdown",
   "id": "fbca31ba",
   "metadata": {
    "slideshow": {
     "slide_type": "fragment"
    }
   },
   "source": [
    "\n",
    "## 1. Multi-Robot Grasp Planning for Sequential Assembly Operations (Dogar et al 2015)\n",
    "\n",
    "In this paper, the authors use multiple mobile manipulators to construct a flat-packed chair with or without re-grasps (i.e. putting down the piece and picking it up in a different way).\n",
    "\n",
    "The hypothesis can be more or less expressed like this:\n",
    "\n",
    "\n",
    "> Our algorithm calculates a good enough manipulation solution with few re-grasps faster than a naive algorithm can calculate the same problem optimally (i.e. with no re-grasps)."
   ]
  },
  {
   "cell_type": "markdown",
   "id": "fce903b6",
   "metadata": {
    "slideshow": {
     "slide_type": "slide"
    }
   },
   "source": [
    "### Bad Hypothesis\n",
    "\n"
   ]
  },
  {
   "cell_type": "markdown",
   "id": "e17f90cc",
   "metadata": {
    "slideshow": {
     "slide_type": "fragment"
    }
   },
   "source": [
    "\n",
    "For the sake of demonstration, here is an example of what a less specific hypothesis might look like, one which does not define variables. It is completely unspecific as to what \"quickly\" means:\n",
    "\n",
    "  > Our algorithm can calculate a solution quickly."
   ]
  },
  {
   "cell_type": "markdown",
   "id": "19f249a9",
   "metadata": {
    "slideshow": {
     "slide_type": "fragment"
    }
   },
   "source": [
    "\n",
    "\n",
    "Another problem might arise if the hypothesis does not include testability. For example, this hypothesis would not be testable, because you could never test all of the other algorithms:\n",
    "\n",
    "   > Our algorithm calculates a solution better than all of the other planning algorithms."
   ]
  },
  {
   "cell_type": "markdown",
   "id": "d32b97a8",
   "metadata": {
    "slideshow": {
     "slide_type": "slide"
    }
   },
   "source": [
    "## Example 2: Grasping without Squeezing: Shear Adhesion Gripper with Fibrillar Thin Film (Hawkes et al 2015)\n"
   ]
  },
  {
   "cell_type": "markdown",
   "id": "a78c34c7",
   "metadata": {
    "slideshow": {
     "slide_type": "fragment"
    }
   },
   "source": [
    "\n",
    "It presents a new type of gripper which, as the authors explain, does not use normal forces to pick up objects as most robotic grippers do. Instead, the gripper uses shear forces which are applied to the manipulated object via a flexible film.\n",
    "\n",
    "> If a gripper uses shear adhesion forces then it will be a viable option for robotic grasping of objects with a large radius of curvature.\n"
   ]
  },
  {
   "cell_type": "markdown",
   "id": "0beaa2b5",
   "metadata": {
    "slideshow": {
     "slide_type": "slide"
    }
   },
   "source": [
    "# Task 1\n",
    "\n",
    "\n",
    "* Write one hypothesis of you RnD/Thesis .\n",
    "\n",
    "* Discussion "
   ]
  },
  {
   "cell_type": "markdown",
   "id": "b5f0eb77",
   "metadata": {
    "slideshow": {
     "slide_type": "slide"
    }
   },
   "source": [
    "# Research Hypothesis vs Statistical Hypothesis?"
   ]
  },
  {
   "cell_type": "markdown",
   "id": "d30f1eee",
   "metadata": {
    "slideshow": {
     "slide_type": "fragment"
    }
   },
   "source": [
    "* Statistical hypotheses must be mathematically precise and they must correspond to specific claims about the characteristics of the data generating mechanism (i.e., the “population”). \n",
    "* Even so, the intent is that statistical hypotheses bear a clear relationship to the substantive research hypotheses that you care about.\n",
    "* Our hypothesis can be more or less expressed like this:\n",
    "> Our algorithm calculates a good enough manipulation solution with few re-grasps faster than a naive algorithm can calculate the same problem optimally (i.e. with no re-grasps). \n"
   ]
  },
  {
   "cell_type": "markdown",
   "id": "57e3e0b9",
   "metadata": {
    "slideshow": {
     "slide_type": "fragment"
    }
   },
   "source": [
    "\n",
    "* So let’s think about what our statistical hypothesis statement would be. \n",
    "\n",
    "* The quantity that we are interested in within the experiment are $P(regrasps)_{old}$ and $P(regrasps)_{new}$, the true-but-unknown probability with which the robot re-grasps in the experiment. \n",
    "\n"
   ]
  },
  {
   "cell_type": "markdown",
   "id": "cb3035e6",
   "metadata": {
    "slideshow": {
     "slide_type": "fragment"
    }
   },
   "source": [
    "$$P(regrasps)_{old}  > P(regrasps)_{new}$$"
   ]
  },
  {
   "cell_type": "markdown",
   "id": "260d91cd",
   "metadata": {
    "slideshow": {
     "slide_type": "slide"
    }
   },
   "source": [
    "# Task 2 \n",
    "\n",
    "\n",
    "> Convert your hypothesis from above to statistical hypothesis \n"
   ]
  },
  {
   "cell_type": "markdown",
   "id": "7c8e9e00",
   "metadata": {
    "slideshow": {
     "slide_type": "slide"
    }
   },
   "source": [
    "# Null Hypothesis Statistical Testing (NHST)?\n",
    "\n",
    "![](images/stages_of_empirial_research.png)\n"
   ]
  },
  {
   "cell_type": "markdown",
   "id": "8d23d19f",
   "metadata": {
    "slideshow": {
     "slide_type": "slide"
    }
   },
   "source": [
    "# Research Questions and Data Examples"
   ]
  },
  {
   "cell_type": "markdown",
   "id": "eb751852",
   "metadata": {
    "slideshow": {
     "slide_type": "slide"
    }
   },
   "source": [
    "## Experiment 1 : Weight Gain\n",
    "\n",
    "\n",
    "### References:\n",
    "\n",
    "* Moore, D. S., McCabe, G. P., and Craig, B. A. (2012). Introduction to the Practice of Statistics (7th ed.). New York: Freeman.\n",
    "* Levine, J. A., Eberhardt, N. L., and Jensen, M. D. (1999) Role of nonexcercise activity thermogenesis in resistance to fat gain in humans. Science, 283:212-214.\n"
   ]
  },
  {
   "cell_type": "markdown",
   "id": "919c4664",
   "metadata": {
    "slideshow": {
     "slide_type": "fragment"
    }
   },
   "source": [
    "\n",
    "### Description:  \n",
    "\"Weight Gain\", provides weights of 16 participants before and after an eight-week period of excessive calorie intake (Moore et al., 2012, p. 425). \n",
    "\n",
    "### Hypothesis: \n",
    "We will test the hypothesis that 1000 excess calorie intake per day over 8 weeks results in 16 pounds (approximately 7.2 kilograms) weight increase. \n"
   ]
  },
  {
   "cell_type": "markdown",
   "id": "d8788c4f",
   "metadata": {
    "slideshow": {
     "slide_type": "fragment"
    }
   },
   "source": [
    "### Variables:\n",
    "\n",
    "    Weight Before - Weight in pounds (lb) measured before eight weeks of excessive calorie intake.\n",
    "    Weight After - Weight in pounds (lb) measured after eight weeks of excessive calorie intake.\n",
    "    Difference - Weight After - Weight Before.\n",
    "\n"
   ]
  },
  {
   "cell_type": "code",
   "execution_count": 3,
   "id": "60c71a15",
   "metadata": {
    "slideshow": {
     "slide_type": "subslide"
    }
   },
   "outputs": [
    {
     "data": {
      "text/html": [
       "<div>\n",
       "<style scoped>\n",
       "    .dataframe tbody tr th:only-of-type {\n",
       "        vertical-align: middle;\n",
       "    }\n",
       "\n",
       "    .dataframe tbody tr th {\n",
       "        vertical-align: top;\n",
       "    }\n",
       "\n",
       "    .dataframe thead th {\n",
       "        text-align: right;\n",
       "    }\n",
       "</style>\n",
       "<table border=\"1\" class=\"dataframe\">\n",
       "  <thead>\n",
       "    <tr style=\"text-align: right;\">\n",
       "      <th></th>\n",
       "      <th>Weight Before</th>\n",
       "      <th>Weight After</th>\n",
       "      <th>Difference</th>\n",
       "    </tr>\n",
       "  </thead>\n",
       "  <tbody>\n",
       "    <tr>\n",
       "      <th>0</th>\n",
       "      <td>122.54</td>\n",
       "      <td>135.74</td>\n",
       "      <td>13.20</td>\n",
       "    </tr>\n",
       "    <tr>\n",
       "      <th>1</th>\n",
       "      <td>120.78</td>\n",
       "      <td>129.36</td>\n",
       "      <td>8.58</td>\n",
       "    </tr>\n",
       "    <tr>\n",
       "      <th>2</th>\n",
       "      <td>131.12</td>\n",
       "      <td>145.20</td>\n",
       "      <td>14.08</td>\n",
       "    </tr>\n",
       "    <tr>\n",
       "      <th>3</th>\n",
       "      <td>137.06</td>\n",
       "      <td>145.64</td>\n",
       "      <td>8.58</td>\n",
       "    </tr>\n",
       "    <tr>\n",
       "      <th>4</th>\n",
       "      <td>163.24</td>\n",
       "      <td>173.80</td>\n",
       "      <td>10.56</td>\n",
       "    </tr>\n",
       "  </tbody>\n",
       "</table>\n",
       "</div>"
      ],
      "text/plain": [
       "   Weight Before  Weight After  Difference\n",
       "0         122.54        135.74       13.20\n",
       "1         120.78        129.36        8.58\n",
       "2         131.12        145.20       14.08\n",
       "3         137.06        145.64        8.58\n",
       "4         163.24        173.80       10.56"
      ]
     },
     "execution_count": 3,
     "metadata": {},
     "output_type": "execute_result"
    }
   ],
   "source": [
    "weight_gain_data = pd.read_csv('https://raw.githubusercontent.com/jasp-stats/jasp-desktop/4527546659fdbd0849261f22ec84e9db76adc49d/Resources/Data%20Sets/Data%20Library/2.%20T-Tests/Weight%20Gain.csv')\n",
    "weight_gain_data.head()"
   ]
  },
  {
   "cell_type": "markdown",
   "id": "105a9e7f",
   "metadata": {
    "slideshow": {
     "slide_type": "slide"
    }
   },
   "source": [
    "# Experiment 2 : Response to Eye Color\n",
    "\n",
    "## Description:\n",
    "\n",
    "\"Response to Eye Color\", provides post-advertisement attitudes towards a brand expressed by four different groups - each group saw the same advertisement except for the aspect that was manipulated: the eye-color of the model.\n",
    "\n",
    "## Hypothesis:\n",
    "The null hypothesis that the attitudes are the same regardless of the eye-color of the model\n"
   ]
  },
  {
   "cell_type": "markdown",
   "id": "42253cc7",
   "metadata": {
    "slideshow": {
     "slide_type": "fragment"
    }
   },
   "source": [
    "\n",
    "## Variables:\n",
    "\n",
    "    Group - Experimental conditions (`Blue' = Model with blue eyes, `Brown' = Model with brown eyes, `Green'= Model with green eyes, `Down' = Model's eye color cannot be seen).\n",
    "    Subj - Participant number.\n",
    "    Score - An average of 10 survey questions about attitudes towards the brand (7-point Likert scale). Higher averages correspond to more positive attitudes.\n",
    "\n"
   ]
  },
  {
   "cell_type": "markdown",
   "id": "6caa30f4",
   "metadata": {
    "slideshow": {
     "slide_type": "subslide"
    }
   },
   "source": [
    "## Data "
   ]
  },
  {
   "cell_type": "code",
   "execution_count": 4,
   "id": "96634602",
   "metadata": {
    "slideshow": {
     "slide_type": "fragment"
    }
   },
   "outputs": [
    {
     "data": {
      "text/html": [
       "<div>\n",
       "<style scoped>\n",
       "    .dataframe tbody tr th:only-of-type {\n",
       "        vertical-align: middle;\n",
       "    }\n",
       "\n",
       "    .dataframe tbody tr th {\n",
       "        vertical-align: top;\n",
       "    }\n",
       "\n",
       "    .dataframe thead th {\n",
       "        text-align: right;\n",
       "    }\n",
       "</style>\n",
       "<table border=\"1\" class=\"dataframe\">\n",
       "  <thead>\n",
       "    <tr style=\"text-align: right;\">\n",
       "      <th></th>\n",
       "      <th>Group</th>\n",
       "      <th>Subj</th>\n",
       "      <th>Score</th>\n",
       "    </tr>\n",
       "  </thead>\n",
       "  <tbody>\n",
       "    <tr>\n",
       "      <th>0</th>\n",
       "      <td>Blue</td>\n",
       "      <td>1</td>\n",
       "      <td>1.3</td>\n",
       "    </tr>\n",
       "    <tr>\n",
       "      <th>1</th>\n",
       "      <td>Blue</td>\n",
       "      <td>2</td>\n",
       "      <td>1.0</td>\n",
       "    </tr>\n",
       "    <tr>\n",
       "      <th>2</th>\n",
       "      <td>Blue</td>\n",
       "      <td>3</td>\n",
       "      <td>7.0</td>\n",
       "    </tr>\n",
       "    <tr>\n",
       "      <th>3</th>\n",
       "      <td>Blue</td>\n",
       "      <td>4</td>\n",
       "      <td>4.2</td>\n",
       "    </tr>\n",
       "    <tr>\n",
       "      <th>4</th>\n",
       "      <td>Blue</td>\n",
       "      <td>5</td>\n",
       "      <td>5.4</td>\n",
       "    </tr>\n",
       "  </tbody>\n",
       "</table>\n",
       "</div>"
      ],
      "text/plain": [
       "  Group  Subj  Score\n",
       "0  Blue     1    1.3\n",
       "1  Blue     2    1.0\n",
       "2  Blue     3    7.0\n",
       "3  Blue     4    4.2\n",
       "4  Blue     5    5.4"
      ]
     },
     "execution_count": 4,
     "metadata": {},
     "output_type": "execute_result"
    }
   ],
   "source": [
    "eye_color_data = pd.read_csv('https://raw.githubusercontent.com/jasp-stats/jasp-desktop/4527546659fdbd0849261f22ec84e9db76adc49d/Resources/Data%20Sets/Data%20Library/3.%20ANOVA/Response%20to%20Eye%20Color.csv')\n",
    "eye_color_data.head()"
   ]
  },
  {
   "cell_type": "markdown",
   "id": "8b03d31f",
   "metadata": {
    "slideshow": {
     "slide_type": "fragment"
    }
   },
   "source": [
    "\n",
    "## References:\n",
    "\n",
    "Moore, D. S., McCabe, G. P., and Craig, B. A. (2012). Introduction to the Practice of Statistics (7th ed.). New York: Freeman.\n",
    "\n",
    "Simpson, P. M., Sturges, D. L., and Tanguma, J. (2008). The eyes have it, or do they? The effects of model eye color and eye gaze on consumer as response. The Journal of Applied Business and Economics, 8: 60-72."
   ]
  },
  {
   "cell_type": "markdown",
   "id": "03dac8c2",
   "metadata": {
    "slideshow": {
     "slide_type": "slide"
    }
   },
   "source": [
    "# Experiment 3 : Brain Size and Intelligence\n",
    "\n",
    "## Reference\n",
    "\n",
    "Willerman L, Schultz R, Rutledge JN, Bigler ED. In vivo brain size and intelligence. Intelligence. 1991 Apr 1;15(2):223-8."
   ]
  },
  {
   "cell_type": "markdown",
   "id": "473c9cc6",
   "metadata": {
    "slideshow": {
     "slide_type": "fragment"
    }
   },
   "source": [
    "## Description\n",
    "\n",
    "In this study by Willerman et al. (1991) the researchers use Magnetic Resonance Imaging (MRI) to determine the brain size of the subjects. \n",
    "The researchers take into account gender and body size to draw conclusions about the connection between brain size and intelligence.\n",
    "\n",
    "## Hypothesis\n",
    "\n",
    "Are the size and weight of your brain indicators of your mental capacity? \n"
   ]
  },
  {
   "cell_type": "markdown",
   "id": "c026f24a",
   "metadata": {
    "slideshow": {
     "slide_type": "fragment"
    }
   },
   "source": [
    "## Variable Names:\n",
    "\n",
    "1. Gender: Male or Female\n",
    "2. FSIQ: Full Scale IQ scores based on the four Wechsler (1981) subtests\n",
    "3. VIQ: Verbal IQ scores based on the four Wechsler (1981) subtests\n",
    "4. PIQ: Performance IQ scores based on the four Wechsler (1981) subtests\n",
    "5. Weight: body weight in pounds\n",
    "6. Height: height in inches\n",
    "7. MRI_Count: total pixel Count from the 18 MRI scans"
   ]
  },
  {
   "cell_type": "code",
   "execution_count": 5,
   "id": "4fe49426",
   "metadata": {
    "slideshow": {
     "slide_type": "subslide"
    }
   },
   "outputs": [
    {
     "data": {
      "text/html": [
       "<div>\n",
       "<style scoped>\n",
       "    .dataframe tbody tr th:only-of-type {\n",
       "        vertical-align: middle;\n",
       "    }\n",
       "\n",
       "    .dataframe tbody tr th {\n",
       "        vertical-align: top;\n",
       "    }\n",
       "\n",
       "    .dataframe thead th {\n",
       "        text-align: right;\n",
       "    }\n",
       "</style>\n",
       "<table border=\"1\" class=\"dataframe\">\n",
       "  <thead>\n",
       "    <tr style=\"text-align: right;\">\n",
       "      <th></th>\n",
       "      <th>Unnamed: 0</th>\n",
       "      <th>Gender</th>\n",
       "      <th>FSIQ</th>\n",
       "      <th>VIQ</th>\n",
       "      <th>PIQ</th>\n",
       "      <th>Weight</th>\n",
       "      <th>Height</th>\n",
       "      <th>MRI_Count</th>\n",
       "    </tr>\n",
       "  </thead>\n",
       "  <tbody>\n",
       "    <tr>\n",
       "      <th>0</th>\n",
       "      <td>1</td>\n",
       "      <td>Female</td>\n",
       "      <td>133</td>\n",
       "      <td>132</td>\n",
       "      <td>124</td>\n",
       "      <td>118.0</td>\n",
       "      <td>64.5</td>\n",
       "      <td>816932</td>\n",
       "    </tr>\n",
       "    <tr>\n",
       "      <th>1</th>\n",
       "      <td>2</td>\n",
       "      <td>Male</td>\n",
       "      <td>140</td>\n",
       "      <td>150</td>\n",
       "      <td>124</td>\n",
       "      <td>NaN</td>\n",
       "      <td>72.5</td>\n",
       "      <td>1001121</td>\n",
       "    </tr>\n",
       "    <tr>\n",
       "      <th>2</th>\n",
       "      <td>3</td>\n",
       "      <td>Male</td>\n",
       "      <td>139</td>\n",
       "      <td>123</td>\n",
       "      <td>150</td>\n",
       "      <td>143.0</td>\n",
       "      <td>73.3</td>\n",
       "      <td>1038437</td>\n",
       "    </tr>\n",
       "    <tr>\n",
       "      <th>3</th>\n",
       "      <td>4</td>\n",
       "      <td>Male</td>\n",
       "      <td>133</td>\n",
       "      <td>129</td>\n",
       "      <td>128</td>\n",
       "      <td>172.0</td>\n",
       "      <td>68.8</td>\n",
       "      <td>965353</td>\n",
       "    </tr>\n",
       "    <tr>\n",
       "      <th>4</th>\n",
       "      <td>5</td>\n",
       "      <td>Female</td>\n",
       "      <td>137</td>\n",
       "      <td>132</td>\n",
       "      <td>134</td>\n",
       "      <td>147.0</td>\n",
       "      <td>65.0</td>\n",
       "      <td>951545</td>\n",
       "    </tr>\n",
       "  </tbody>\n",
       "</table>\n",
       "</div>"
      ],
      "text/plain": [
       "   Unnamed: 0  Gender  FSIQ  VIQ  PIQ  Weight  Height  MRI_Count\n",
       "0           1  Female   133  132  124   118.0    64.5     816932\n",
       "1           2    Male   140  150  124     NaN    72.5    1001121\n",
       "2           3    Male   139  123  150   143.0    73.3    1038437\n",
       "3           4    Male   133  129  128   172.0    68.8     965353\n",
       "4           5  Female   137  132  134   147.0    65.0     951545"
      ]
     },
     "execution_count": 5,
     "metadata": {},
     "output_type": "execute_result"
    }
   ],
   "source": [
    "brain_data = pd.read_csv('https://scipy-lectures.org/_downloads/brain_size.csv', sep=';', na_values=\".\")\n",
    "brain_data.head()"
   ]
  },
  {
   "cell_type": "markdown",
   "id": "b451863f",
   "metadata": {
    "slideshow": {
     "slide_type": "slide"
    }
   },
   "source": [
    " # Statistical Testing "
   ]
  },
  {
   "cell_type": "markdown",
   "id": "3e4b7855",
   "metadata": {
    "slideshow": {
     "slide_type": "fragment"
    }
   },
   "source": [
    "# 1. Descriptive Statistics\n",
    "\n",
    "* counts\n",
    "* mean\n",
    "* median\n",
    "* max \n",
    "* min\n",
    "* ....\n",
    "\n"
   ]
  },
  {
   "cell_type": "markdown",
   "id": "2ede8916",
   "metadata": {
    "slideshow": {
     "slide_type": "slide"
    }
   },
   "source": [
    "![](images/descriptive_statistics_metrics.png)"
   ]
  },
  {
   "cell_type": "code",
   "execution_count": 6,
   "id": "a8705416",
   "metadata": {
    "slideshow": {
     "slide_type": "subslide"
    }
   },
   "outputs": [
    {
     "data": {
      "text/html": [
       "<div>\n",
       "<style scoped>\n",
       "    .dataframe tbody tr th:only-of-type {\n",
       "        vertical-align: middle;\n",
       "    }\n",
       "\n",
       "    .dataframe tbody tr th {\n",
       "        vertical-align: top;\n",
       "    }\n",
       "\n",
       "    .dataframe thead th {\n",
       "        text-align: right;\n",
       "    }\n",
       "</style>\n",
       "<table border=\"1\" class=\"dataframe\">\n",
       "  <thead>\n",
       "    <tr style=\"text-align: right;\">\n",
       "      <th></th>\n",
       "      <th>Unnamed: 0</th>\n",
       "      <th>FSIQ</th>\n",
       "      <th>VIQ</th>\n",
       "      <th>PIQ</th>\n",
       "      <th>Weight</th>\n",
       "      <th>Height</th>\n",
       "      <th>MRI_Count</th>\n",
       "    </tr>\n",
       "  </thead>\n",
       "  <tbody>\n",
       "    <tr>\n",
       "      <th>count</th>\n",
       "      <td>40.000000</td>\n",
       "      <td>40.000000</td>\n",
       "      <td>40.000000</td>\n",
       "      <td>40.00000</td>\n",
       "      <td>38.000000</td>\n",
       "      <td>39.000000</td>\n",
       "      <td>4.000000e+01</td>\n",
       "    </tr>\n",
       "    <tr>\n",
       "      <th>mean</th>\n",
       "      <td>20.500000</td>\n",
       "      <td>113.450000</td>\n",
       "      <td>112.350000</td>\n",
       "      <td>111.02500</td>\n",
       "      <td>151.052632</td>\n",
       "      <td>68.525641</td>\n",
       "      <td>9.087550e+05</td>\n",
       "    </tr>\n",
       "    <tr>\n",
       "      <th>std</th>\n",
       "      <td>11.690452</td>\n",
       "      <td>24.082071</td>\n",
       "      <td>23.616107</td>\n",
       "      <td>22.47105</td>\n",
       "      <td>23.478509</td>\n",
       "      <td>3.994649</td>\n",
       "      <td>7.228205e+04</td>\n",
       "    </tr>\n",
       "    <tr>\n",
       "      <th>min</th>\n",
       "      <td>1.000000</td>\n",
       "      <td>77.000000</td>\n",
       "      <td>71.000000</td>\n",
       "      <td>72.00000</td>\n",
       "      <td>106.000000</td>\n",
       "      <td>62.000000</td>\n",
       "      <td>7.906190e+05</td>\n",
       "    </tr>\n",
       "    <tr>\n",
       "      <th>25%</th>\n",
       "      <td>10.750000</td>\n",
       "      <td>89.750000</td>\n",
       "      <td>90.000000</td>\n",
       "      <td>88.25000</td>\n",
       "      <td>135.250000</td>\n",
       "      <td>66.000000</td>\n",
       "      <td>8.559185e+05</td>\n",
       "    </tr>\n",
       "    <tr>\n",
       "      <th>50%</th>\n",
       "      <td>20.500000</td>\n",
       "      <td>116.500000</td>\n",
       "      <td>113.000000</td>\n",
       "      <td>115.00000</td>\n",
       "      <td>146.500000</td>\n",
       "      <td>68.000000</td>\n",
       "      <td>9.053990e+05</td>\n",
       "    </tr>\n",
       "    <tr>\n",
       "      <th>75%</th>\n",
       "      <td>30.250000</td>\n",
       "      <td>135.500000</td>\n",
       "      <td>129.750000</td>\n",
       "      <td>128.00000</td>\n",
       "      <td>172.000000</td>\n",
       "      <td>70.500000</td>\n",
       "      <td>9.500780e+05</td>\n",
       "    </tr>\n",
       "    <tr>\n",
       "      <th>max</th>\n",
       "      <td>40.000000</td>\n",
       "      <td>144.000000</td>\n",
       "      <td>150.000000</td>\n",
       "      <td>150.00000</td>\n",
       "      <td>192.000000</td>\n",
       "      <td>77.000000</td>\n",
       "      <td>1.079549e+06</td>\n",
       "    </tr>\n",
       "  </tbody>\n",
       "</table>\n",
       "</div>"
      ],
      "text/plain": [
       "       Unnamed: 0        FSIQ         VIQ        PIQ      Weight     Height  \\\n",
       "count   40.000000   40.000000   40.000000   40.00000   38.000000  39.000000   \n",
       "mean    20.500000  113.450000  112.350000  111.02500  151.052632  68.525641   \n",
       "std     11.690452   24.082071   23.616107   22.47105   23.478509   3.994649   \n",
       "min      1.000000   77.000000   71.000000   72.00000  106.000000  62.000000   \n",
       "25%     10.750000   89.750000   90.000000   88.25000  135.250000  66.000000   \n",
       "50%     20.500000  116.500000  113.000000  115.00000  146.500000  68.000000   \n",
       "75%     30.250000  135.500000  129.750000  128.00000  172.000000  70.500000   \n",
       "max     40.000000  144.000000  150.000000  150.00000  192.000000  77.000000   \n",
       "\n",
       "          MRI_Count  \n",
       "count  4.000000e+01  \n",
       "mean   9.087550e+05  \n",
       "std    7.228205e+04  \n",
       "min    7.906190e+05  \n",
       "25%    8.559185e+05  \n",
       "50%    9.053990e+05  \n",
       "75%    9.500780e+05  \n",
       "max    1.079549e+06  "
      ]
     },
     "execution_count": 6,
     "metadata": {},
     "output_type": "execute_result"
    }
   ],
   "source": [
    "brain_data.describe()"
   ]
  },
  {
   "cell_type": "markdown",
   "id": "1d5c7045",
   "metadata": {
    "slideshow": {
     "slide_type": "slide"
    }
   },
   "source": [
    "# Mean vs Median\n",
    "\n",
    "![](images/mean_vs_median.png)\n",
    "\n",
    "* Learning Statistics with JASP - Page 61"
   ]
  },
  {
   "cell_type": "markdown",
   "id": "c529b117",
   "metadata": {
    "slideshow": {
     "slide_type": "slide"
    }
   },
   "source": [
    "# Inter Quantile Region\n",
    "\n",
    "* The interquartile range (IQR) is like the range, but instead of the difference between the biggest and smallest value the difference between the 25th percentile and the 75th percentile is taken. \n",
    "* Percentile : Arange the data in asceding order, then 25th percentile is 25% data is less than this value\n",
    "* In fact, we’ve already come across the idea. The median of a data set is its 50th percentile!"
   ]
  },
  {
   "cell_type": "markdown",
   "id": "85f4a6d2",
   "metadata": {
    "slideshow": {
     "slide_type": "slide"
    }
   },
   "source": [
    "# Standard Deviation\n",
    "\n",
    "* In general, you should expect 68% of the data to fall within 1 standard deviation of the mean,\n",
    "* 95% of the data to fall within 2 standard deviation of the mean, and\n",
    "* 99.7% of the data to fall within 3 standard deviations of the mean. \n",
    "\n"
   ]
  },
  {
   "cell_type": "markdown",
   "id": "2d744c3f",
   "metadata": {
    "slideshow": {
     "slide_type": "fragment"
    }
   },
   "source": [
    "* This rule tends to work pretty well most of the time, but it’s not exact. \n",
    "\n",
    "* It’s actually calculated based on an assumption that the histogram is symmetric and “bell shaped”.\n"
   ]
  },
  {
   "cell_type": "markdown",
   "id": "ba5f0b59",
   "metadata": {
    "slideshow": {
     "slide_type": "subslide"
    }
   },
   "source": [
    "\n",
    "![](images/sd.png)\n",
    "* Learning Statistics with JASP - Page 64"
   ]
  },
  {
   "cell_type": "markdown",
   "id": "3d0a9b34",
   "metadata": {
    "slideshow": {
     "slide_type": "slide"
    }
   },
   "source": [
    "## Plotting \n",
    "\n",
    "* Try plotting the data to get a complete picture\n",
    "\n",
    "![](images/DinoSequentialSmaller.gif)\n",
    "\n",
    "Matejka, J., & Fitzmaurice, G.W. (2017). Same Stats, Different Graphs: Generating Datasets with Varied Appearance and Identical Statistics through Simulated Annealing. Proceedings of the 2017 CHI Conference on Human Factors in Computing Systems."
   ]
  },
  {
   "cell_type": "markdown",
   "id": "65b2e707",
   "metadata": {
    "slideshow": {
     "slide_type": "slide"
    }
   },
   "source": [
    "# Plots\n",
    "\n",
    "1. Scatter plot\n",
    "2. Box PLot\n",
    "3. Density Plots\n",
    "4. Rain cloud plots"
   ]
  },
  {
   "cell_type": "markdown",
   "id": "e06d55d4",
   "metadata": {
    "slideshow": {
     "slide_type": "slide"
    }
   },
   "source": [
    "# Scatter Plot"
   ]
  },
  {
   "cell_type": "code",
   "execution_count": 7,
   "id": "02a6c348",
   "metadata": {
    "slideshow": {
     "slide_type": "fragment"
    }
   },
   "outputs": [
    {
     "data": {
      "text/plain": [
       "<matplotlib.collections.PathCollection at 0x7f0910a22fa0>"
      ]
     },
     "execution_count": 7,
     "metadata": {},
     "output_type": "execute_result"
    },
    {
     "data": {
      "image/png": "[encoded data removed]",
      "text/plain": [
       "<Figure size 432x288 with 1 Axes>"
      ]
     },
     "metadata": {
      "needs_background": "light"
     },
     "output_type": "display_data"
    }
   ],
   "source": [
    "# Scater plot \n",
    "#todo\n",
    "plt.scatter(range(weight_gain_data.Difference.size), weight_gain_data.Difference)"
   ]
  },
  {
   "cell_type": "code",
   "execution_count": 8,
   "id": "dfbae7cb",
   "metadata": {
    "slideshow": {
     "slide_type": "subslide"
    }
   },
   "outputs": [
    {
     "data": {
      "text/plain": [
       "<matplotlib.collections.PathCollection at 0x7f090e936910>"
      ]
     },
     "execution_count": 8,
     "metadata": {},
     "output_type": "execute_result"
    },
    {
     "data": {
      "image/png": "[encoded data removed]",
      "text/plain": [
       "<Figure size 432x288 with 1 Axes>"
      ]
     },
     "metadata": {
      "needs_background": "light"
     },
     "output_type": "display_data"
    }
   ],
   "source": [
    "plt.scatter( weight_gain_data.Difference, np.zeros(weight_gain_data.Difference.size))"
   ]
  },
  {
   "cell_type": "markdown",
   "id": "d01fd1d7",
   "metadata": {
    "slideshow": {
     "slide_type": "slide"
    }
   },
   "source": [
    "# Box Plot"
   ]
  },
  {
   "cell_type": "code",
   "execution_count": 9,
   "id": "51f6e914",
   "metadata": {
    "slideshow": {
     "slide_type": "fragment"
    }
   },
   "outputs": [
    {
     "data": {
      "text/plain": [
       "<AxesSubplot:xlabel='Difference'>"
      ]
     },
     "execution_count": 9,
     "metadata": {},
     "output_type": "execute_result"
    },
    {
     "data": {
      "image/png": "[encoded data removed]",
      "text/plain": [
       "<Figure size 432x288 with 1 Axes>"
      ]
     },
     "metadata": {
      "needs_background": "light"
     },
     "output_type": "display_data"
    }
   ],
   "source": [
    "#Box plot\n",
    "sns.boxplot(x=weight_gain_data[\"Difference\"])"
   ]
  },
  {
   "cell_type": "markdown",
   "id": "374dff19",
   "metadata": {
    "slideshow": {
     "slide_type": "subslide"
    }
   },
   "source": [
    "# Box plot\n",
    "\n",
    "![](https://chartio.com/assets/79165a/tutorials/charts/box-plots/e30a92b3850d486bef6d0752caaa3d110944b25c9ef3043d821a4998c32bb526/box-plot-construction.png)\n",
    "\n",
    "* https://chartio.com/learn/charts/box-plot-complete-guide/"
   ]
  },
  {
   "cell_type": "code",
   "execution_count": 10,
   "id": "36b90c94",
   "metadata": {
    "slideshow": {
     "slide_type": "subslide"
    }
   },
   "outputs": [
    {
     "data": {
      "text/plain": [
       "<AxesSubplot:>"
      ]
     },
     "execution_count": 10,
     "metadata": {},
     "output_type": "execute_result"
    },
    {
     "data": {
      "image/png": "[encoded data removed]",
      "text/plain": [
       "<Figure size 432x288 with 1 Axes>"
      ]
     },
     "metadata": {
      "needs_background": "light"
     },
     "output_type": "display_data"
    }
   ],
   "source": [
    "sns.boxplot(data=weight_gain_data[[\"Weight Before\", \"Weight After\"]])"
   ]
  },
  {
   "cell_type": "code",
   "execution_count": 11,
   "id": "f941b370",
   "metadata": {
    "slideshow": {
     "slide_type": "subslide"
    }
   },
   "outputs": [
    {
     "data": {
      "text/plain": [
       "<AxesSubplot:>"
      ]
     },
     "execution_count": 11,
     "metadata": {},
     "output_type": "execute_result"
    },
    {
     "data": {
      "image/png": "[encoded data removed]",
      "text/plain": [
       "<Figure size 432x288 with 1 Axes>"
      ]
     },
     "metadata": {
      "needs_background": "light"
     },
     "output_type": "display_data"
    }
   ],
   "source": [
    "sns.violinplot(data=weight_gain_data[[\"Weight Before\", \"Weight After\"]])"
   ]
  },
  {
   "cell_type": "markdown",
   "id": "9661a95f",
   "metadata": {
    "slideshow": {
     "slide_type": "slide"
    }
   },
   "source": [
    "# Density plot"
   ]
  },
  {
   "cell_type": "code",
   "execution_count": 12,
   "id": "4b4b376c",
   "metadata": {
    "slideshow": {
     "slide_type": "fragment"
    }
   },
   "outputs": [
    {
     "data": {
      "text/plain": [
       "<seaborn.axisgrid.FacetGrid at 0x7f090c7c1310>"
      ]
     },
     "execution_count": 12,
     "metadata": {},
     "output_type": "execute_result"
    },
    {
     "data": {
      "image/png": "[encoded data removed]",
      "text/plain": [
       "<Figure size 360x360 with 1 Axes>"
      ]
     },
     "metadata": {
      "needs_background": "light"
     },
     "output_type": "display_data"
    }
   ],
   "source": [
    "sns.displot(data=weight_gain_data, x=\"Weight Before\")"
   ]
  },
  {
   "cell_type": "code",
   "execution_count": 13,
   "id": "6a75e106",
   "metadata": {
    "slideshow": {
     "slide_type": "slide"
    }
   },
   "outputs": [
    {
     "data": {
      "text/plain": [
       "<seaborn.axisgrid.FacetGrid at 0x7f090e8ed2b0>"
      ]
     },
     "execution_count": 13,
     "metadata": {},
     "output_type": "execute_result"
    },
    {
     "data": {
      "image/png": "[encoded data removed]",
      "text/plain": [
       "<Figure size 360x360 with 1 Axes>"
      ]
     },
     "metadata": {
      "needs_background": "light"
     },
     "output_type": "display_data"
    }
   ],
   "source": [
    "sns.displot(data=weight_gain_data, x=\"Weight Before\", kde=True)"
   ]
  },
  {
   "cell_type": "code",
   "execution_count": 14,
   "id": "753bd229",
   "metadata": {
    "slideshow": {
     "slide_type": "slide"
    }
   },
   "outputs": [
    {
     "data": {
      "text/plain": [
       "<seaborn.axisgrid.FacetGrid at 0x7f090c6e6520>"
      ]
     },
     "execution_count": 14,
     "metadata": {},
     "output_type": "execute_result"
    },
    {
     "data": {
      "image/png": "[encoded data removed]",
      "text/plain": [
       "<Figure size 466.625x360 with 1 Axes>"
      ]
     },
     "metadata": {
      "needs_background": "light"
     },
     "output_type": "display_data"
    }
   ],
   "source": [
    "sns.displot(data=weight_gain_data[[\"Weight Before\", \"Weight After\"]], kind='kde')"
   ]
  },
  {
   "cell_type": "markdown",
   "id": "ab973e15",
   "metadata": {
    "slideshow": {
     "slide_type": "slide"
    }
   },
   "source": [
    "\n",
    "# Do you remember any other plot seeing this plot ? \n",
    "\n",
    "\n"
   ]
  },
  {
   "cell_type": "markdown",
   "id": "92814da3",
   "metadata": {
    "slideshow": {
     "slide_type": "fragment"
    }
   },
   "source": [
    "![](images/alpha_level.png)"
   ]
  },
  {
   "cell_type": "markdown",
   "id": "b7b1533f",
   "metadata": {
    "slideshow": {
     "slide_type": "slide"
    }
   },
   "source": [
    "# Some plots lie !\n",
    "\n"
   ]
  },
  {
   "cell_type": "markdown",
   "id": "083b4ddf",
   "metadata": {
    "slideshow": {
     "slide_type": "fragment"
    }
   },
   "source": [
    "![](images/boxplotproblem.png)\n",
    "\n",
    "Matejka, J., & Fitzmaurice, G.W. (2017). Same Stats, Different Graphs: Generating Datasets with Varied Appearance and Identical Statistics through Simulated Annealing. Proceedings of the 2017 CHI Conference on Human Factors in Computing Systems."
   ]
  },
  {
   "cell_type": "markdown",
   "id": "eb7c37b2",
   "metadata": {
    "slideshow": {
     "slide_type": "slide"
    }
   },
   "source": [
    "# Rain cloud Plot \n",
    "\n",
    "* Combining all the thre plots together.\n",
    "* scatter + density + box plot"
   ]
  },
  {
   "cell_type": "markdown",
   "id": "fa9185f3",
   "metadata": {
    "slideshow": {
     "slide_type": "fragment"
    }
   },
   "source": [
    "![](images/raincloud.png)"
   ]
  },
  {
   "cell_type": "markdown",
   "id": "06f005a7",
   "metadata": {
    "slideshow": {
     "slide_type": "slide"
    }
   },
   "source": [
    "# Why statistical test why not compare mean?\n",
    "\n",
    "* For example our Weight Gain Dataset. \n",
    "* Mean(weight before ) = 144.63\n",
    "* Mean(weight after) = 155.045 \n",
    "* Difference of Means = 10.408 \n",
    "\n",
    "Can you conclude that there is conclusive evidence that the weights increase with the diet ?\n"
   ]
  },
  {
   "cell_type": "markdown",
   "id": "333d3c37",
   "metadata": {
    "slideshow": {
     "slide_type": "fragment"
    }
   },
   "source": [
    "\n",
    "The fundamental question underlying statistical analysis: \n",
    "\n",
    ">estimating the amount of evidence in support of our hypothesis, even in the presence of noise.\n",
    "\n"
   ]
  },
  {
   "cell_type": "code",
   "execution_count": 15,
   "id": "749ab15c",
   "metadata": {
    "slideshow": {
     "slide_type": "subslide"
    }
   },
   "outputs": [
    {
     "data": {
      "text/html": [
       "<div>\n",
       "<style scoped>\n",
       "    .dataframe tbody tr th:only-of-type {\n",
       "        vertical-align: middle;\n",
       "    }\n",
       "\n",
       "    .dataframe tbody tr th {\n",
       "        vertical-align: top;\n",
       "    }\n",
       "\n",
       "    .dataframe thead th {\n",
       "        text-align: right;\n",
       "    }\n",
       "</style>\n",
       "<table border=\"1\" class=\"dataframe\">\n",
       "  <thead>\n",
       "    <tr style=\"text-align: right;\">\n",
       "      <th></th>\n",
       "      <th>Weight Before</th>\n",
       "      <th>Weight After</th>\n",
       "      <th>Difference</th>\n",
       "    </tr>\n",
       "  </thead>\n",
       "  <tbody>\n",
       "    <tr>\n",
       "      <th>count</th>\n",
       "      <td>16.000000</td>\n",
       "      <td>16.000000</td>\n",
       "      <td>16.000000</td>\n",
       "    </tr>\n",
       "    <tr>\n",
       "      <th>mean</th>\n",
       "      <td>144.636250</td>\n",
       "      <td>155.045000</td>\n",
       "      <td>10.408750</td>\n",
       "    </tr>\n",
       "    <tr>\n",
       "      <th>std</th>\n",
       "      <td>22.704877</td>\n",
       "      <td>21.438057</td>\n",
       "      <td>3.840639</td>\n",
       "    </tr>\n",
       "    <tr>\n",
       "      <th>min</th>\n",
       "      <td>117.260000</td>\n",
       "      <td>129.360000</td>\n",
       "      <td>3.080000</td>\n",
       "    </tr>\n",
       "    <tr>\n",
       "      <th>25%</th>\n",
       "      <td>126.115000</td>\n",
       "      <td>137.885000</td>\n",
       "      <td>7.700000</td>\n",
       "    </tr>\n",
       "    <tr>\n",
       "      <th>50%</th>\n",
       "      <td>138.270000</td>\n",
       "      <td>147.840000</td>\n",
       "      <td>11.110000</td>\n",
       "    </tr>\n",
       "    <tr>\n",
       "      <th>75%</th>\n",
       "      <td>161.480000</td>\n",
       "      <td>170.335000</td>\n",
       "      <td>13.420000</td>\n",
       "    </tr>\n",
       "    <tr>\n",
       "      <th>max</th>\n",
       "      <td>201.740000</td>\n",
       "      <td>204.820000</td>\n",
       "      <td>15.620000</td>\n",
       "    </tr>\n",
       "  </tbody>\n",
       "</table>\n",
       "</div>"
      ],
      "text/plain": [
       "       Weight Before  Weight After  Difference\n",
       "count      16.000000     16.000000   16.000000\n",
       "mean      144.636250    155.045000   10.408750\n",
       "std        22.704877     21.438057    3.840639\n",
       "min       117.260000    129.360000    3.080000\n",
       "25%       126.115000    137.885000    7.700000\n",
       "50%       138.270000    147.840000   11.110000\n",
       "75%       161.480000    170.335000   13.420000\n",
       "max       201.740000    204.820000   15.620000"
      ]
     },
     "execution_count": 15,
     "metadata": {},
     "output_type": "execute_result"
    }
   ],
   "source": [
    "weight_gain_data.describe()"
   ]
  },
  {
   "cell_type": "markdown",
   "id": "e0d581e9",
   "metadata": {
    "slideshow": {
     "slide_type": "slide"
    }
   },
   "source": [
    "# Statistical Testing for Evaluating Experiments\n",
    "\n",
    "* Deals with the relationship between the value of data, its variance, and the confidence of a conclusion\n",
    "\n",
    "## A typical situation:\n",
    "* Existing technique A\n",
    "* You developed a new technique B\n",
    "* Key question: Is B better than A?\n"
   ]
  },
  {
   "cell_type": "markdown",
   "id": "3ff94e45",
   "metadata": {
    "slideshow": {
     "slide_type": "slide"
    }
   },
   "source": [
    "\n",
    "# Evaluating Experiments\n",
    "\n",
    "## 1.  Define a performance measure, e.g.\n",
    "* Run-time\n",
    "* Error\n",
    "* Accuracy\n",
    "* Robustness (success rate, MTBF, …)\n",
    "\n",
    "## 2. Collect data d\n",
    "* Run both techniques on the data d\n",
    "* How to compare the obtained results\n",
    "$A(d), B(d)$?\n"
   ]
  },
  {
   "cell_type": "markdown",
   "id": "091e7131",
   "metadata": {
    "slideshow": {
     "slide_type": "slide"
    }
   },
   "source": [
    "\n",
    "# 1st Example\n",
    "## Scenario\n",
    "* A, B are two HRI techniques\n",
    "* Score is the audience response time\n",
    "* Data d is a given map, start and goal pose\n",
    "\n",
    "## Example\n",
    "* A(d) = 0.5 s\n",
    "* B(d) = 0.6 s What does that mean?"
   ]
  },
  {
   "cell_type": "markdown",
   "id": "7d388241",
   "metadata": {
    "slideshow": {
     "slide_type": "slide"
    }
   },
   "source": [
    "# 2nd Example\n",
    "\n",
    "* Same scenario but four tasks\n",
    "\n",
    "## Example\n",
    "* A(d) = 0.5 s, 0.4 s, 0.6 s, 0.4 s\n",
    "* B(d) = 0.4 s, 0.3 s, 0.6 s, 0.5 s\n",
    "\n",
    "## Mean of the planning time is\n",
    "* $μ_A$ = 1.9 s/4 = 0.475 s\n",
    "* $μ_B$ = 1.8 s/4 = 0.45 s\n",
    "\n",
    "Is B really better than A?"
   ]
  },
  {
   "cell_type": "markdown",
   "id": "c14b5768",
   "metadata": {
    "slideshow": {
     "slide_type": "slide"
    }
   },
   "source": [
    "\n",
    "# Is B better than A?\n",
    "* $μ_A$ = 0.475 s, $μ_B$ = 0.45 s\n",
    "* $μ_A$ > $μ_B$, so B is better than A?!\n",
    "* We just evaluated four tests, thus\n",
    "$μ_A$ and $μ_B$ are rough estimates only\n",
    "* We saw too few data to make statements with high confidence\n",
    "* How can we make a confident statement that B is better than A?\n"
   ]
  },
  {
   "cell_type": "markdown",
   "id": "1245abff",
   "metadata": {
    "slideshow": {
     "slide_type": "slide"
    }
   },
   "source": [
    "\n",
    "# Hypothesis Testing\n",
    "> “Answer a yes-no question about a population and assess that the answer is wrong.” [Cohen’ 95]\n",
    "\n",
    "* Example: To test that B is different from A, assume they are truly equal.\n",
    "\n",
    "Then, assess the probability of the obtained result. If the probability is small, reject the hypothesis."
   ]
  },
  {
   "cell_type": "markdown",
   "id": "22bb7250",
   "metadata": {
    "slideshow": {
     "slide_type": "slide"
    }
   },
   "source": [
    "\n",
    "# The Null Hypothesis $H_0$\n",
    "\n",
    "* The null hypothesis is the hypothesis that one wants to reject by analyzing data (from experiments)\n",
    "* $H_0$ is the default state\n",
    "* A statistical test can never proof $H_0$\n",
    "* A statistical test can only reject or fail to reject $H_0$\n",
    "* Example: to show that method A is better than B, use $H_0$: A=B"
   ]
  },
  {
   "cell_type": "markdown",
   "id": "dcbfbfa3",
   "metadata": {
    "slideshow": {
     "slide_type": "slide"
    }
   },
   "source": [
    "\n",
    "# Typical/Popular Null Hypotheses\n",
    "\n",
    "### Example 1 : Comparing one sample to a known or hypothesized population mean.\n",
    "\n",
    " $$ H_0 : \\mu = 0 $$\n",
    " $ H_1 : \\mu \\neq 0 $  (two-tailored test )\n",
    " \n",
    " $ H_1 : \\mu < 0 $  (one-tailored test )\n",
    " \n",
    " $ H_1 : \\mu > 0 $  (one-tailored test )\n",
    " \n",
    " "
   ]
  },
  {
   "cell_type": "markdown",
   "id": "76b2e12c",
   "metadata": {
    "slideshow": {
     "slide_type": "fragment"
    }
   },
   "source": [
    "### Example 2 : Testing relationships between two or more variables\n",
    "\n",
    " $$ H_0 : \\mu_1 = \\mu_2 $$\n",
    " $ H_1 : \\mu_1 \\neq \\mu_2 $  (two-tailored test )\n",
    " \n",
    " $ H_1 : \\mu_1 < \\mu_2 $  (one-tailored test )\n",
    " \n",
    " \n",
    " $ H_1 : \\mu_1 > \\mu_2 $  (one-tailored test )\n"
   ]
  },
  {
   "cell_type": "markdown",
   "id": "1d22644f",
   "metadata": {
    "slideshow": {
     "slide_type": "slide"
    }
   },
   "source": [
    "# P Value\n"
   ]
  },
  {
   "cell_type": "markdown",
   "id": "60589de4",
   "metadata": {
    "slideshow": {
     "slide_type": "fragment"
    }
   },
   "source": [
    "![](images/pvalue.png)\n",
    "\n",
    "Learning Statistics with JASP, Page 169"
   ]
  },
  {
   "cell_type": "markdown",
   "id": "7673c93c",
   "metadata": {
    "slideshow": {
     "slide_type": "slide"
    }
   },
   "source": [
    "# Statistical Tests"
   ]
  },
  {
   "cell_type": "markdown",
   "id": "5102ccf2",
   "metadata": {
    "slideshow": {
     "slide_type": "slide"
    }
   },
   "source": [
    "# Student’s t-tests\n"
   ]
  },
  {
   "cell_type": "markdown",
   "id": "9708c955",
   "metadata": {
    "slideshow": {
     "slide_type": "fragment"
    }
   },
   "source": [
    "## One sample location test\n",
    "Research is normally carried out in sample populations, but how close does the sample reflect the\n",
    "whole population? The parametric one-sample t-test determines whether the sample mean is\n",
    "statistically different from a known or hypothesized population mean.\n",
    "The null hypothesis (Ho) tested is that the sample mean is equal to the population mean.\n",
    "\n",
    "* Given a µ and σ of a population\n",
    "* Test if a sample (from the population) has a significantly different mean than the population\n",
    "* Sample of size N\n",
    "\n",
    " $$ H_0 : \\mu = K $$\n",
    " $ H_1 : \\mu \\neq K $  (two-tailored test )\n",
    " \n",
    " $ H_1 : \\mu < K $  (one-tailored test )\n",
    " \n",
    " $ H_1 : \\mu > K $  (one-tailored test )\n",
    "\n",
    "\n"
   ]
  },
  {
   "cell_type": "markdown",
   "id": "806aa901",
   "metadata": {
    "slideshow": {
     "slide_type": "slide"
    }
   },
   "source": [
    "## 1-sample t-test: testing the value of a population mean\n",
    "\n",
    "scipy.stats.ttest_1samp() tests if the population mean of data is likely to be equal to a given value (technically if observations are drawn from a Gaussian distributions of given population mean). It returns the T statistic, and the p-value (see the function’s help):"
   ]
  },
  {
   "cell_type": "code",
   "execution_count": 16,
   "id": "60335d28",
   "metadata": {
    "slideshow": {
     "slide_type": "fragment"
    }
   },
   "outputs": [
    {
     "data": {
      "text/plain": [
       "TtestResult(statistic=30.08809997084933, pvalue=1.3289196468727879e-28, df=39)"
      ]
     },
     "execution_count": 16,
     "metadata": {},
     "output_type": "execute_result"
    }
   ],
   "source": [
    "from scipy import stats\n",
    "stats.ttest_1samp(brain_data['VIQ'], 0)   \n"
   ]
  },
  {
   "cell_type": "markdown",
   "id": "f0a422bd",
   "metadata": {
    "slideshow": {
     "slide_type": "fragment"
    }
   },
   "source": [
    "### Reporting/Conclusion\n",
    "\n",
    "With a p-value of 10^-28 we can claim that the population mean for the IQ (VIQ measure) is not 0. "
   ]
  },
  {
   "cell_type": "markdown",
   "id": "f70d2f22",
   "metadata": {
    "slideshow": {
     "slide_type": "slide"
    }
   },
   "source": [
    "# One Sample t-Test: Assumptions\n",
    "*  Independently generated samples\n",
    "*  The population distribution is Gaussian (otherwise the t-distribution is not the correct choice)\n",
    "*  Mean is known\n",
    "\n",
    "## Comments\n",
    "*  The t-Test is quite robust under non-Gaussian distributions\n",
    "*  Often a 95% or 99% confidence (=5% or 1% significance) level is used\n",
    "* t-Test is one of the most frequently used tests in science "
   ]
  },
  {
   "cell_type": "markdown",
   "id": "6bce8a25",
   "metadata": {
    "slideshow": {
     "slide_type": "slide"
    }
   },
   "source": [
    "# BINOMIAL TEST"
   ]
  },
  {
   "cell_type": "markdown",
   "id": "29d9ed2b",
   "metadata": {
    "slideshow": {
     "slide_type": "fragment"
    }
   },
   "source": [
    "* The binomial test is effectively a non-parametric version of the one-sample t-test for use with dichotomous (i.e. yes/no) categorical datasets. \n",
    "* This tests whether or not the sample frequency is statistically different from a known or hypothesized population frequency.\n",
    "* The null hypothesis (Ho) tested is that the sample data frequency is equal to the expected population frequency.\n"
   ]
  },
  {
   "cell_type": "markdown",
   "id": "f10d24db",
   "metadata": {
    "slideshow": {
     "slide_type": "fragment"
    }
   },
   "source": [
    "\n",
    "## ASSUMPTIONS\n",
    "Three assumptions are required for a binomial test to provide a valid result:\n",
    "* The test variable should be a dichotomous scale (such as yes/no, male/female etc.).\n",
    "* The sample responses should be independent\n",
    "* The sample size is less, but representative of the population"
   ]
  },
  {
   "cell_type": "markdown",
   "id": "7bb2d20f",
   "metadata": {
    "slideshow": {
     "slide_type": "slide"
    }
   },
   "source": [
    "# Example : Laptop\n",
    "* Open binomial.csv, this contains one column of data showing the number of students using either a Windows laptop or a MacBook at University. \n",
    "* In January 2018, when comparing just the two operating systems, the UK market share of Windows was 86% and Mac IOS 14%.\n",
    "\n",
    "* Null hypothesis $H_0 = 0.86$\n",
    "* Alternate hypothesis $H_0 \\neq 0.86$"
   ]
  },
  {
   "cell_type": "code",
   "execution_count": 17,
   "id": "f2649b55",
   "metadata": {
    "slideshow": {
     "slide_type": "fragment"
    }
   },
   "outputs": [
    {
     "data": {
      "text/html": [
       "<div>\n",
       "<style scoped>\n",
       "    .dataframe tbody tr th:only-of-type {\n",
       "        vertical-align: middle;\n",
       "    }\n",
       "\n",
       "    .dataframe tbody tr th {\n",
       "        vertical-align: top;\n",
       "    }\n",
       "\n",
       "    .dataframe thead th {\n",
       "        text-align: right;\n",
       "    }\n",
       "</style>\n",
       "<table border=\"1\" class=\"dataframe\">\n",
       "  <thead>\n",
       "    <tr style=\"text-align: right;\">\n",
       "      <th></th>\n",
       "      <th>Laptop</th>\n",
       "    </tr>\n",
       "  </thead>\n",
       "  <tbody>\n",
       "    <tr>\n",
       "      <th>count</th>\n",
       "      <td>90</td>\n",
       "    </tr>\n",
       "    <tr>\n",
       "      <th>unique</th>\n",
       "      <td>2</td>\n",
       "    </tr>\n",
       "    <tr>\n",
       "      <th>top</th>\n",
       "      <td>Windows</td>\n",
       "    </tr>\n",
       "    <tr>\n",
       "      <th>freq</th>\n",
       "      <td>54</td>\n",
       "    </tr>\n",
       "  </tbody>\n",
       "</table>\n",
       "</div>"
      ],
      "text/plain": [
       "         Laptop\n",
       "count        90\n",
       "unique        2\n",
       "top     Windows\n",
       "freq         54"
      ]
     },
     "execution_count": 17,
     "metadata": {},
     "output_type": "execute_result"
    }
   ],
   "source": [
    "laptop_data = pd.read_csv('Binomial.csv')\n",
    "laptop_data\n",
    "laptop_data.describe()"
   ]
  },
  {
   "cell_type": "code",
   "execution_count": 18,
   "id": "48db496b",
   "metadata": {
    "slideshow": {
     "slide_type": "fragment"
    }
   },
   "outputs": [
    {
     "data": {
      "text/plain": [
       "Laptop \n",
       "Windows    54\n",
       "Mac        36\n",
       "dtype: int64"
      ]
     },
     "execution_count": 18,
     "metadata": {},
     "output_type": "execute_result"
    }
   ],
   "source": [
    "laptop_data.value_counts()"
   ]
  },
  {
   "cell_type": "code",
   "execution_count": 19,
   "id": "5eb32e9a",
   "metadata": {
    "slideshow": {
     "slide_type": "slide"
    }
   },
   "outputs": [
    {
     "name": "stdout",
     "output_type": "stream",
     "text": [
      "pvalue :  1.1957465473118124e-09\n",
      "95% confidence level ConfidenceInterval(low=0.4913413183034394, high=0.7018860844296883)\n",
      "proportion estimate  0.6\n"
     ]
    }
   ],
   "source": [
    "result = stats.binomtest(54, n=90, p=0.86, alternative='two-sided')\n",
    "print ('pvalue : ', result.pvalue)\n",
    "print ('95% confidence level' ,result.proportion_ci(confidence_level=0.95))\n",
    "print ('proportion estimate ', result.proportion_estimate)"
   ]
  },
  {
   "cell_type": "markdown",
   "id": "7f3844df",
   "metadata": {
    "slideshow": {
     "slide_type": "fragment"
    }
   },
   "source": [
    "# REPORTING THE RESULTS\n",
    "The UK proportion of Windows and MacBook users was reported to be 86% and 14% respectively. In\n",
    "a cohort of University students (N=90), a Binomial test revealed that the proportion of students using\n",
    "Windows laptops was significantly less (60%, p<.001) and those using MacBooks significantly more\n",
    "(40.4%, p<.001) than expected."
   ]
  },
  {
   "cell_type": "markdown",
   "id": "9374ddc5",
   "metadata": {
    "slideshow": {
     "slide_type": "slide"
    }
   },
   "source": [
    "# Two Sample t-Test\n"
   ]
  },
  {
   "cell_type": "markdown",
   "id": "626cbefc",
   "metadata": {
    "slideshow": {
     "slide_type": "slide"
    }
   },
   "source": [
    "* Often, one wants to compare the means of two samples to see if both are drawn from populations with equal means\n",
    "* Example: Compare two estimation procedures (operating on potentially different data sets) \n",
    "* Typical Hypotheses\n",
    " $$ H_0 : \\mu_1 = \\mu_2 $$\n",
    " $ H_1 : \\mu_1 \\neq \\mu_2 $  (two-tailored test )\n",
    " \n",
    " $ H_1 : \\mu_1 < \\mu_2 $  (one-tailored test )\n",
    " \n",
    " $ H_1 : \\mu_1 > \\mu_2 $  (one-tailored test )"
   ]
  },
  {
   "cell_type": "markdown",
   "id": "06820164",
   "metadata": {
    "slideshow": {
     "slide_type": "fragment"
    }
   },
   "source": [
    "* This test produces a t-score which is a ration of the differences between the two groups and the differences within the two groups:\n",
    "* A large t-score indicates that there is a greater difference between groups. The smaller the t-score, the more similarity there is between groups. \n",
    "* A t-score of 5 means that the groups are five times as different from each other as they are within each other.\n",
    "* The null hypothesis (Ho) tested is that the population means from the two unrelated groups are equal"
   ]
  },
  {
   "cell_type": "markdown",
   "id": "92c6b11e",
   "metadata": {
    "slideshow": {
     "slide_type": "slide"
    }
   },
   "source": [
    "## 2-sample t-test: testing for difference across populations\n",
    "\n",
    "We have seen above that the mean VIQ in the male and female populations were different. \n",
    "To test if this is significant, we do a 2-sample t-test with scipy.stats.ttest_ind():"
   ]
  },
  {
   "cell_type": "code",
   "execution_count": 20,
   "id": "51576fed",
   "metadata": {
    "slideshow": {
     "slide_type": "fragment"
    }
   },
   "outputs": [
    {
     "data": {
      "text/plain": [
       "Ttest_indResult(statistic=-0.7726161723275012, pvalue=0.44452876778583217)"
      ]
     },
     "execution_count": 20,
     "metadata": {},
     "output_type": "execute_result"
    }
   ],
   "source": [
    "female_viq = brain_data[brain_data['Gender'] == 'Female']['VIQ']\n",
    "\n",
    "male_viq = brain_data[brain_data['Gender'] == 'Male']['VIQ']\n",
    "\n",
    "stats.ttest_ind(female_viq, male_viq)  "
   ]
  },
  {
   "cell_type": "markdown",
   "id": "cda61566",
   "metadata": {
    "slideshow": {
     "slide_type": "slide"
    }
   },
   "source": [
    "\n",
    "## Paired tests: repeated measurements on the same individuals\n",
    "\n",
    "PIQ, VIQ, and FSIQ give 3 measures of IQ. Let us test if FISQ and PIQ are significantly different. We can use a 2 sample test:\n"
   ]
  },
  {
   "cell_type": "code",
   "execution_count": 21,
   "id": "4633921b",
   "metadata": {
    "slideshow": {
     "slide_type": "fragment"
    }
   },
   "outputs": [
    {
     "data": {
      "text/plain": [
       "Ttest_indResult(statistic=0.465637596380964, pvalue=0.6427725009414841)"
      ]
     },
     "execution_count": 21,
     "metadata": {},
     "output_type": "execute_result"
    }
   ],
   "source": [
    "stats.ttest_ind(brain_data['FSIQ'], brain_data['PIQ'])   "
   ]
  },
  {
   "cell_type": "markdown",
   "id": "796a61db",
   "metadata": {
    "slideshow": {
     "slide_type": "fragment"
    }
   },
   "source": [
    "The problem with this approach is that it forgets that there are links between observations: FSIQ and PIQ are measured on the same individuals. Thus the variance due to inter-subject variability is confounding, and can be removed, using a “paired test”, or “repeated measures test”:\n",
    "\n"
   ]
  },
  {
   "cell_type": "code",
   "execution_count": 22,
   "id": "b13ed7ed",
   "metadata": {
    "slideshow": {
     "slide_type": "fragment"
    }
   },
   "outputs": [
    {
     "data": {
      "text/plain": [
       "TtestResult(statistic=1.7842019405859857, pvalue=0.08217263818364236, df=39)"
      ]
     },
     "execution_count": 22,
     "metadata": {},
     "output_type": "execute_result"
    }
   ],
   "source": [
    "stats.ttest_rel(brain_data['FSIQ'], brain_data['PIQ'])   "
   ]
  },
  {
   "cell_type": "markdown",
   "id": "17b0b0c1",
   "metadata": {
    "slideshow": {
     "slide_type": "slide"
    }
   },
   "source": [
    "# One-way ANOVA"
   ]
  },
  {
   "cell_type": "markdown",
   "id": "87731b85",
   "metadata": {
    "slideshow": {
     "slide_type": "fragment"
    }
   },
   "source": [
    "* Whereas t-tests compare the means of two groups/conditions, one-way analysis of variance (ANOVA) compares the means of 3 or more groups/conditions. \n",
    "* The null hypothesis tested is that there is no significant difference between the means of all the groups. If the null hypothesis is rejected,.\n",
    "* ANOVA just states that there is a significant difference between the groups but not where those differences occur. * To determine where the group differences are, post hoc (From the Latin post hoc, \"after this\") tests are subsequently used.\n",
    "\n",
    "$$H_0 : \\mu_1 = \\mu_2 = \\mu_n $$"
   ]
  },
  {
   "cell_type": "markdown",
   "id": "672db9f6",
   "metadata": {
    "slideshow": {
     "slide_type": "subslide"
    }
   },
   "source": [
    "## ASSUMPTIONS\n",
    "\n",
    "The independent ANOVA makes the same assumptions as most other parametric tests.\n",
    "* The independent variable must be categorical and the dependent variable must be continuous.\n",
    "* The groups should be independent of each other.\n",
    "* The dependent variable should be approximately normally distributed.\n",
    "* There should be no significant outliers.\n",
    "* There should be homogeneity of variance between the groups otherwise the p-value for the F-statistic may not be reliable.\n",
    "\n",
    "* The first 2 assumptions are usually controlled through the use of appropriate research method design.\n",
    "* If the last three assumptions are violated then the non-parametric equivalent, Kruskal-Wallis should be considered instead."
   ]
  },
  {
   "cell_type": "markdown",
   "id": "4ad3db27",
   "metadata": {
    "slideshow": {
     "slide_type": "subslide"
    }
   },
   "source": [
    "Data : ANOVA diets.csv. \n",
    "* This contains A column containing the 3 diets used (A, B and C)\n",
    "* another column containing the absolute amount of weight loss after 8 weeks on one of 3 differentdiets.\n",
    "* For good practice check the descriptive statistics and the boxplots for any extreme outliers"
   ]
  },
  {
   "cell_type": "code",
   "execution_count": 23,
   "id": "deacb8d6",
   "metadata": {
    "slideshow": {
     "slide_type": "fragment"
    }
   },
   "outputs": [
    {
     "data": {
      "text/html": [
       "<div>\n",
       "<style scoped>\n",
       "    .dataframe tbody tr th:only-of-type {\n",
       "        vertical-align: middle;\n",
       "    }\n",
       "\n",
       "    .dataframe tbody tr th {\n",
       "        vertical-align: top;\n",
       "    }\n",
       "\n",
       "    .dataframe thead th {\n",
       "        text-align: right;\n",
       "    }\n",
       "</style>\n",
       "<table border=\"1\" class=\"dataframe\">\n",
       "  <thead>\n",
       "    <tr style=\"text-align: right;\">\n",
       "      <th></th>\n",
       "      <th>Diet</th>\n",
       "      <th>Weight loss kg</th>\n",
       "    </tr>\n",
       "  </thead>\n",
       "  <tbody>\n",
       "    <tr>\n",
       "      <th>0</th>\n",
       "      <td>Diet A</td>\n",
       "      <td>3.8</td>\n",
       "    </tr>\n",
       "    <tr>\n",
       "      <th>1</th>\n",
       "      <td>Diet A</td>\n",
       "      <td>6.0</td>\n",
       "    </tr>\n",
       "    <tr>\n",
       "      <th>2</th>\n",
       "      <td>Diet A</td>\n",
       "      <td>0.7</td>\n",
       "    </tr>\n",
       "    <tr>\n",
       "      <th>3</th>\n",
       "      <td>Diet A</td>\n",
       "      <td>2.9</td>\n",
       "    </tr>\n",
       "    <tr>\n",
       "      <th>4</th>\n",
       "      <td>Diet A</td>\n",
       "      <td>2.8</td>\n",
       "    </tr>\n",
       "    <tr>\n",
       "      <th>...</th>\n",
       "      <td>...</td>\n",
       "      <td>...</td>\n",
       "    </tr>\n",
       "    <tr>\n",
       "      <th>67</th>\n",
       "      <td>Diet C</td>\n",
       "      <td>2.8</td>\n",
       "    </tr>\n",
       "    <tr>\n",
       "      <th>68</th>\n",
       "      <td>Diet C</td>\n",
       "      <td>4.1</td>\n",
       "    </tr>\n",
       "    <tr>\n",
       "      <th>69</th>\n",
       "      <td>Diet C</td>\n",
       "      <td>5.3</td>\n",
       "    </tr>\n",
       "    <tr>\n",
       "      <th>70</th>\n",
       "      <td>Diet C</td>\n",
       "      <td>9.2</td>\n",
       "    </tr>\n",
       "    <tr>\n",
       "      <th>71</th>\n",
       "      <td>Diet C</td>\n",
       "      <td>6.1</td>\n",
       "    </tr>\n",
       "  </tbody>\n",
       "</table>\n",
       "<p>72 rows × 2 columns</p>\n",
       "</div>"
      ],
      "text/plain": [
       "      Diet  Weight loss kg\n",
       "0   Diet A             3.8\n",
       "1   Diet A             6.0\n",
       "2   Diet A             0.7\n",
       "3   Diet A             2.9\n",
       "4   Diet A             2.8\n",
       "..     ...             ...\n",
       "67  Diet C             2.8\n",
       "68  Diet C             4.1\n",
       "69  Diet C             5.3\n",
       "70  Diet C             9.2\n",
       "71  Diet C             6.1\n",
       "\n",
       "[72 rows x 2 columns]"
      ]
     },
     "execution_count": 23,
     "metadata": {},
     "output_type": "execute_result"
    }
   ],
   "source": [
    "diet_loss_data = pd.read_csv('Independent ANOVA diets.csv')\n",
    "diet_loss_data"
   ]
  },
  {
   "cell_type": "code",
   "execution_count": 24,
   "id": "2bebd8f5",
   "metadata": {
    "slideshow": {
     "slide_type": "subslide"
    }
   },
   "outputs": [
    {
     "data": {
      "text/plain": [
       "<AxesSubplot:xlabel='Diet', ylabel='Weight loss kg'>"
      ]
     },
     "execution_count": 24,
     "metadata": {},
     "output_type": "execute_result"
    },
    {
     "data": {
      "image/png": "[encoded data removed]",
      "text/plain": [
       "<Figure size 432x288 with 1 Axes>"
      ]
     },
     "metadata": {
      "needs_background": "light"
     },
     "output_type": "display_data"
    }
   ],
   "source": [
    "sns.boxplot(data=diet_loss_data, x='Diet', y='Weight loss kg')"
   ]
  },
  {
   "cell_type": "code",
   "execution_count": 25,
   "id": "be7f0bd5",
   "metadata": {
    "slideshow": {
     "slide_type": "fragment"
    }
   },
   "outputs": [
    {
     "data": {
      "text/plain": [
       "F_onewayResult(statistic=10.825519115627964, pvalue=8.145779232433143e-05)"
      ]
     },
     "execution_count": 25,
     "metadata": {},
     "output_type": "execute_result"
    }
   ],
   "source": [
    "stats.f_oneway(diet_loss_data[diet_loss_data['Diet'] == 'Diet A']['Weight loss kg'],\n",
    "               diet_loss_data[diet_loss_data['Diet'] == 'Diet B']['Weight loss kg'],\n",
    "               diet_loss_data[diet_loss_data['Diet'] == 'Diet C']['Weight loss kg'])"
   ]
  },
  {
   "cell_type": "markdown",
   "id": "b023eb80",
   "metadata": {
    "slideshow": {
     "slide_type": "fragment"
    }
   },
   "source": [
    "# Results \n",
    "\n",
    "The main ANOVA table shows that the F-statistic is significant (p<.001) and that there is a large effect\n",
    "size. Therefore, there is a significant difference between the means of the 3 diet groups."
   ]
  },
  {
   "cell_type": "markdown",
   "id": "68d0a7ea",
   "metadata": {
    "slideshow": {
     "slide_type": "slide"
    }
   },
   "source": [
    "# Post hoc Anlysis : tukey_hsd\n",
    "\n",
    "* Tukey’s honestly significant difference (HSD) test performs pairwise comparison of means for a set of samples.\n",
    "* Whereas ANOVA (e.g. f_oneway) assesses whether the true means underlying each sample are identical, Tukey’s HSD is a post hoc test used to compare the mean of each sample to the mean of each other sample.\n",
    "\n",
    "* The null hypothesis is that the distributions underlying the samples all have the same mean. \n",
    "* The test statistic, which is computed for every possible pairing of samples, is simply the difference between the sample means. \n",
    "* For each pair, the p-value is the probability under the null hypothesis (and other assumptions; see notes) of observing such an extreme value of the statistic, considering that many pairwise comparisons are being performed. \n",
    "* Confidence intervals for the difference between each pair of means are also available.\n",
    "\n",
    "* https://docs.scipy.org/doc/scipy/reference/generated/scipy.stats.tukey_hsd.html#scipy.stats.tukey_hsd"
   ]
  },
  {
   "cell_type": "code",
   "execution_count": 29,
   "id": "570ad751",
   "metadata": {
    "slideshow": {
     "slide_type": "subslide"
    }
   },
   "outputs": [
    {
     "name": "stdout",
     "output_type": "stream",
     "text": [
      "Tukey's HSD Pairwise Group Comparisons (95.0% Confidence Interval)\n",
      "Comparison  Statistic  p-value  Lower CI  Upper CI\n",
      " (0 - 1)     -0.404     0.777    -1.832     1.024\n",
      " (0 - 2)     -2.579     0.000    -4.007    -1.151\n",
      " (1 - 0)      0.404     0.777    -1.024     1.832\n",
      " (1 - 2)     -2.175     0.001    -3.603    -0.747\n",
      " (2 - 0)      2.579     0.000     1.151     4.007\n",
      " (2 - 1)      2.175     0.001     0.747     3.603\n",
      "\n"
     ]
    }
   ],
   "source": [
    "res = stats.tukey_hsd(diet_loss_data[diet_loss_data['Diet'] == 'Diet A']['Weight loss kg'],\n",
    "               diet_loss_data[diet_loss_data['Diet'] == 'Diet B']['Weight loss kg'],\n",
    "               diet_loss_data[diet_loss_data['Diet'] == 'Diet C']['Weight loss kg'])\n",
    "print (res)"
   ]
  },
  {
   "cell_type": "markdown",
   "id": "bac771fa",
   "metadata": {
    "slideshow": {
     "slide_type": "fragment"
    }
   },
   "source": [
    "# Output\n",
    "\n",
    "* Post hoc testing shows that there is no significant difference between weight loss on diets A and B.\n",
    "* However, It is significantly higher in diet C compared to diet A (p<.001) and diet B (p=.001). Cohen’s d shows that these differences have a large effect size.\n",
    "\n",
    "# Reporting \n",
    "* Independent one way ANOVA showed a significant effect of the type of diet on weight loss after 10 weeks (F (2, 69) =46.184, p<.001, ω2 = 0.214.\n",
    "* Post hoc testing using Tukey’s correction revealed that diet C resulted in significantly greater weight loss than diet A (p<.001) or diet B (p=.001). \n",
    "* There were no significant differences in weight loss between diets A and B (p=.777)"
   ]
  },
  {
   "cell_type": "code",
   "execution_count": 27,
   "id": "aac48a4a",
   "metadata": {
    "slideshow": {
     "slide_type": "skip"
    }
   },
   "outputs": [
    {
     "name": "stdout",
     "output_type": "stream",
     "text": [
      "Requirement already up-to-date: scipy in /home/deebuls/.local/lib/python3.8/site-packages (1.10.1)\r\n",
      "Requirement already satisfied, skipping upgrade: numpy<1.27.0,>=1.19.5 in /home/deebuls/.local/lib/python3.8/site-packages (from scipy) (1.22.4)\r\n"
     ]
    }
   ],
   "source": [
    "!pip3 install --upgrade scipy"
   ]
  },
  {
   "cell_type": "markdown",
   "id": "de1b01fd",
   "metadata": {
    "slideshow": {
     "slide_type": "slide"
    }
   },
   "source": [
    "# Linear Regression\n",
    "\n",
    "* This approach is founded on the insight that t-tests and one-way ANOVAs  are all special cases of a general linear regression model. \n",
    "* Using regression analysis can help ensure consistency in analyzing and comparing results across studies. \n",
    "* It also offers a straightforward way to control for confounding variables.\n",
    "* Regression tests the null hypothesis (Ho) that there will be no significant prediction of the dependent(outcome) variable by the predictor variable(s)."
   ]
  },
  {
   "cell_type": "code",
   "execution_count": 28,
   "id": "99e3e15b",
   "metadata": {
    "slideshow": {
     "slide_type": "slide"
    }
   },
   "outputs": [
    {
     "data": {
      "image/png": "[encoded data removed]",
      "text/plain": [
       "<Figure size 432x288 with 1 Axes>"
      ]
     },
     "metadata": {
      "needs_background": "light"
     },
     "output_type": "display_data"
    }
   ],
   "source": [
    "g = sns.scatterplot(data=weight_gain_data, x=\"Weight Before\", y=\"Weight After\")\n"
   ]
  },
  {
   "cell_type": "code",
   "execution_count": 32,
   "id": "8e8c5086",
   "metadata": {
    "slideshow": {
     "slide_type": "fragment"
    }
   },
   "outputs": [
    {
     "name": "stdout",
     "output_type": "stream",
     "text": [
      "20.32287010489955 6.04654012186869 2.1185490670472105e-12\n"
     ]
    }
   ],
   "source": [
    "result = stats.linregress(weight_gain_data['Weight Before'], weight_gain_data['Weight After'])\n",
    "print(result.intercept, result.intercept_stderr, result.pvalue)"
   ]
  },
  {
   "cell_type": "code",
   "execution_count": 34,
   "id": "bf2bf44c",
   "metadata": {
    "slideshow": {
     "slide_type": "fragment"
    }
   },
   "outputs": [
    {
     "data": {
      "image/png": "[encoded data removed]",
      "text/plain": [
       "<Figure size 432x288 with 1 Axes>"
      ]
     },
     "metadata": {
      "needs_background": "light"
     },
     "output_type": "display_data"
    }
   ],
   "source": [
    "plt.plot(weight_gain_data['Weight Before'], weight_gain_data['Weight After'], 'o', label='original data')\n",
    "\n",
    "plt.plot(weight_gain_data['Weight Before'], result.intercept + result.slope*weight_gain_data['Weight Before'], 'r', label='fitted line')\n",
    "\n",
    "plt.legend()\n",
    "\n",
    "plt.show()"
   ]
  },
  {
   "cell_type": "markdown",
   "id": "6ee0372b",
   "metadata": {
    "slideshow": {
     "slide_type": "slide"
    }
   },
   "source": [
    "# Assumptions of Statistical Tests\n",
    "\n",
    "* All of the above-mentioned statistical tests are only valid given certain assumptions. \n",
    "* For example, ANOVA assumes independence of observations, a normal distribution of residuals, and ho-\n",
    "moscedasticity of variances. \n",
    "* There exist statistical methods that check for violations of these assumptions."
   ]
  },
  {
   "cell_type": "markdown",
   "id": "d7f6c82c",
   "metadata": {
    "slideshow": {
     "slide_type": "slide"
    }
   },
   "source": [
    "# Normality Test\n",
    "\n",
    "* Before running the data we have to do the Normality Test \n",
    "* How to check if the data is normal \n",
    "* scipy.stats.normal_\n",
    "* Test whether a sample differs from a normal distribution.\n",
    "\n",
    "* This function tests the null hypothesis that a sample comes from a normal distribution. \n",
    "* It is based on D’Agostino and Pearson’s test that combines skew and kurtosis to produce an omnibus test of normality."
   ]
  },
  {
   "cell_type": "code",
   "execution_count": 35,
   "id": "1482255f",
   "metadata": {
    "slideshow": {
     "slide_type": "fragment"
    }
   },
   "outputs": [
    {
     "name": "stdout",
     "output_type": "stream",
     "text": [
      "pvalue  0.992891828851092\n"
     ]
    }
   ],
   "source": [
    "k2, p = stats.normaltest(diet_loss_data[diet_loss_data['Diet'] == 'Diet A']['Weight loss kg'])\n",
    "print ('pvalue ', p)"
   ]
  },
  {
   "cell_type": "markdown",
   "id": "45bc5a86",
   "metadata": {
    "slideshow": {
     "slide_type": "fragment"
    }
   },
   "source": [
    "# Reporting \n",
    "\n",
    "p value reported is higher than 0.05 so we have to accept the hypothesis that the data is normally distirbuted "
   ]
  },
  {
   "cell_type": "markdown",
   "id": "af4b6e89",
   "metadata": {
    "slideshow": {
     "slide_type": "slide"
    }
   },
   "source": [
    "# Other Test\n",
    "\n",
    "* COMPARING MORE THAN TWO RELATED GROUPS - RMANOVA\n",
    "* COMPARING INDEPENDENT GROUPS AND THE EFFECTS OF COVARIATES : ANCOVA\n",
    "    * ANOVA can be used to compare the means of one variable (dependent) in two or more groups,\n",
    "    * whereas analysis of covariance (ANCOVA) sits between ANOVA and regression and compares the means of one (dependent) variable in two or more groups while taking into account the variability of other continuous variables (COVARIATES). \n",
    "* TWO-WAY INDEPENDENT ANOVA\n",
    "    * One-way ANOVA tests situations when only one independent variable is manipulated, \n",
    "    * two-way ANOVA is used when more than 1 independent variable has been manipulated. \n",
    "    * In this case, independent variables are known as factors."
   ]
  },
  {
   "cell_type": "markdown",
   "id": "8823ec23",
   "metadata": {
    "slideshow": {
     "slide_type": "slide"
    }
   },
   "source": [
    "# Bayesian Statistics\n",
    "\n",
    "![](bayesian_statistics.png)\n",
    "\n",
    "[Bayesian Data Analysis with JASP](https://osf.io/zkybj)\n",
    "\n"
   ]
  },
  {
   "cell_type": "markdown",
   "id": "dd8ed630",
   "metadata": {
    "slideshow": {
     "slide_type": "slide"
    }
   },
   "source": [
    "# Bayesian Statistics\n",
    "\n",
    "1. Bayesian Binomial test\n",
    "2. Bayesian ANOVA test \n",
    "3. Bayesian Regression test \n",
    "4. ...."
   ]
  },
  {
   "cell_type": "markdown",
   "id": "752740ac",
   "metadata": {
    "slideshow": {
     "slide_type": "subslide"
    }
   },
   "source": [
    "# Bayesian T-test\n",
    "\n",
    "![](https://best.readthedocs.io/en/latest/_images/smart_drug.png)\n",
    "\n",
    "[BEST: Bayesian Estimation Supersedes the t-test](https://best.readthedocs.io/en/latest/)"
   ]
  },
  {
   "cell_type": "markdown",
   "id": "961be19c",
   "metadata": {
    "slideshow": {
     "slide_type": "slide"
    }
   },
   "source": [
    "# Which Test should I use ?\n"
   ]
  },
  {
   "cell_type": "markdown",
   "id": "d3d94b93",
   "metadata": {
    "slideshow": {
     "slide_type": "fragment"
    }
   },
   "source": [
    "## Step 1 : Type of test \n",
    "* Comparing one sample to a known or hypothesized population mean.\n",
    "* Testing relationships between two or more variables\n",
    "* Predicting outcomes\n",
    "* Testing for differences between two independent groups\n",
    "* Testing for differences between two related groups\n",
    "* Testing for differences between three or more independent groups\n",
    "* Testing for differences between three or more related groups\n",
    "* Test for interactions between 2 or more independent variables\n",
    "*  ... "
   ]
  },
  {
   "cell_type": "markdown",
   "id": "dafd75c7",
   "metadata": {
    "slideshow": {
     "slide_type": "slide"
    }
   },
   "source": [
    "\n",
    "# Comparing one sample to a known or hypothesized population mean.\n",
    "![](onesampletestselection.png)\n",
    "\n",
    "- [Statistical-Analysis-in-JASP-A-Students-Guide-v14-Nov2020](https://jasp-stats.org/wp-content/uploads/2020/11/Statistical-Analysis-in-JASP-A-Students-Guide-v14-Nov2020.pdf) Page 165"
   ]
  },
  {
   "cell_type": "markdown",
   "id": "7825eb1f",
   "metadata": {
    "slideshow": {
     "slide_type": "slide"
    }
   },
   "source": [
    "# Task \n",
    "\n",
    "## Find the statistical test ?\n"
   ]
  },
  {
   "cell_type": "markdown",
   "id": "f5f272a0",
   "metadata": {
    "slideshow": {
     "slide_type": "fragment"
    }
   },
   "source": [
    "\n",
    "1. Experiment 1 : Weight Gain ?"
   ]
  },
  {
   "cell_type": "markdown",
   "id": "16e3f52e",
   "metadata": {
    "slideshow": {
     "slide_type": "fragment"
    }
   },
   "source": [
    "2. Experiment 2 : Response to eqye color \n"
   ]
  },
  {
   "cell_type": "markdown",
   "id": "b026fcb5",
   "metadata": {
    "slideshow": {
     "slide_type": "fragment"
    }
   },
   "source": [
    "3. Experiment 3: Brain size Inteligence "
   ]
  },
  {
   "cell_type": "markdown",
   "id": "79390cff",
   "metadata": {
    "slideshow": {
     "slide_type": "slide"
    }
   },
   "source": [
    "# What Happens for Large N?\n",
    "\n",
    "* Have you seen p-value, statistical test in the papers you have read ? \n",
    "* Any Deep learning paper ?\n"
   ]
  },
  {
   "cell_type": "markdown",
   "id": "112a4408",
   "metadata": {
    "slideshow": {
     "slide_type": "fragment"
    }
   },
   "source": [
    "* The larger the sample size, the easier it is to show differences…\n",
    "*  … but for large sample sizes, we can show any statistical significant difference no matter how small it is\n",
    "*  A statistically significant difference does not tell anything about if the difference is meaningful!\n",
    "* See concept of “informativeness”\n",
    "* For large N, differences may by statistically significant but practically meaningless!"
   ]
  },
  {
   "cell_type": "markdown",
   "id": "0897e5a3",
   "metadata": {
    "slideshow": {
     "slide_type": "slide"
    }
   },
   "source": [
    "# Ethical Question \n",
    "\n",
    "\n",
    "* Dark side of statistics \n",
    "* https://en.wikipedia.org/wiki/How_to_Lie_with_Statistics\n",
    "* https://genomicsclass.github.io/book/pages/plots_to_avoid.html\n",
    "* https://www.nature.com/articles/s41467-020-19160-7\n",
    "\n"
   ]
  },
  {
   "cell_type": "markdown",
   "id": "4926c9ad",
   "metadata": {
    "slideshow": {
     "slide_type": "slide"
    }
   },
   "source": [
    "# Conclusion \n",
    "\n",
    "\n",
    "* When to use NHST?\n",
    "* [Statistical-Analysis-in-JASP-A-Students-Guide](https://jasp-stats.org/wp-content/uploads/2020/11/Statistical-Analysis-in-JASP-A-Students-Guide-v14-Nov2020.pdf)\n",
    "    * Select the test you should do\n",
    "    * Prepare your experiments and dataset \n",
    "    * Do the test\n",
    "    "
   ]
  },
  {
   "cell_type": "markdown",
   "id": "1b9eb231",
   "metadata": {
    "slideshow": {
     "slide_type": "fragment"
    }
   },
   "source": [
    "* Dont stop here\n",
    "* [Statistical Analysis Bayesian Guide Jasp](http://static.jasp-stats.org/Manuals/Bayesian_Guide_v0_12_2_1.pdf)\n",
    "\n"
   ]
  },
  {
   "cell_type": "markdown",
   "id": "1d2a5e83",
   "metadata": {
    "slideshow": {
     "slide_type": "slide"
    }
   },
   "source": [
    "# Thank You "
   ]
  },
  {
   "cell_type": "markdown",
   "id": "28f00a3a",
   "metadata": {
    "slideshow": {
     "slide_type": "slide"
    }
   },
   "source": [
    "# References\n",
    "\n",
    "* https://scipy-lectures.org/packages/statistics/index.html\n",
    "* https://ethanweed.github.io/pythonbook/landingpage.html\n",
    "* https://scientistseessquirrel.wordpress.com/2018/10/02/presenting-statistical-results-pointers-in-scientific-writing/\n",
    "* https://web.archive.org/web/20091029162244/http://www.wiwi.uni-muenster.de/ioeb/en/organisation/pfaff/stat_overview_table.html\n",
    "* https://www.jmp.com/en_sg/statistics-knowledge-portal/t-test.html\n",
    "\n",
    "* [Writing Good hypothesis for robotics experiments](https://blog.robotiq.com/this-single-statement-generates-great-robotics-research)\n",
    "* [Hypothesis Testing](http://ais.informatik.uni-freiburg.de/teaching/ws11/robotics2/pdfs/rob2-22-testing.pdf)"
   ]
  },
  {
   "cell_type": "markdown",
   "id": "a5dab8b3",
   "metadata": {
    "slideshow": {
     "slide_type": "slide"
    }
   },
   "source": [
    "# Lab Class\n",
    "\n",
    "1. Statistics with JASP\n",
    "2. Exercise 1  \n"
   ]
  },
  {
   "cell_type": "markdown",
   "id": "bda51958",
   "metadata": {
    "slideshow": {
     "slide_type": "slide"
    }
   },
   "source": [
    "# Exercise:  Statiscital Test 1\n",
    "    \n",
    "‘Therapeutic Touch’ (TT) is a nursing practice rooted in mysticism but alleged to have a\n",
    "scientific basis. Practitioners of TT claim to treat medical conditions by using their hands to\n",
    "manipulate a ‘human energy field’ perceptible above the patients’ skin. Being a skeptical\n",
    "mind, 9-year old Emily Rosa ventured to test these claims by designing an experiment where\n",
    "TT practitioners had to correctly identify the location of the experimenter’s hand (above\n",
    "their left or right hand) while being blinded by a screen. The results of this experiment were\n",
    "later published in the prestigious Journal of the American Medical Association (Rosa et al.,\n",
    "1998).\n",
    "\n",
    "* (1) Open the “Emily Rosa” dataset  https://osf.io/3wg6m/m (under “5. Frequencies”).\n",
    "* (2) Get a descriptive overview of the data by producing a frequency table of the variable\n",
    "Outcome. How many percent of practitioners guessed correctly?\n",
    "* (3) What is the type of test ? Which test will you use ? Explain your answer ?\n",
    "* (4) State the null and alternate huypothesis.\n",
    "* (5) Conduct the test . Report will you accept the Null hypothesis? \n"
   ]
  },
  {
   "cell_type": "markdown",
   "id": "35f05266",
   "metadata": {
    "slideshow": {
     "slide_type": "slide"
    }
   },
   "source": [
    "# Exercise: Statistical Test 2 \n",
    "A teacher believes that directed reading activities in the classroom can improve the reading\n",
    "ability of elementary school children. She convinces her colleagues to give her the chance to\n",
    "try out the new method on a random sample of 21 third-graders. After they participated for\n",
    "8 weeks in the program, the children take the Degree of Reading Power test (DRP). Their\n",
    "scores are compared to a control group of 23 children who took the test on the same day\n",
    "and followed the same curriculum apart from the reading activities.\n",
    "\n",
    "* (1) Open the “Directed Reading Activities” or https://osf.io/3wg6m/ (under “2. T-Tests”).\n",
    "* (2) Get a descriptive overview of the data.\n",
    "    * a. Create a table that shows the means and standard deviations of DRP scores in the control and treatment group.\n",
    "    * b. Create a boxplot that shows the distribution of DRP scores for each group\n",
    "* (3) What is the type of test ? Which test will you use ? Explain your answer ?\n",
    "* (4) State the null and alternate huypothesis.\n",
    "* (5) Conduct the test . Report will you accept the Null hypothesis? \n"
   ]
  },
  {
   "cell_type": "markdown",
   "id": "ff11c935",
   "metadata": {
    "slideshow": {
     "slide_type": "slide"
    }
   },
   "source": [
    "# Exercise : \n",
    "\n",
    "A researcher is interested in what attributes people look for in a prospective partner.\n",
    "Specifically, the researcher wants to know whether looks or personality play an important\n",
    "role in this selection process, and whether the importance of these factors differs between\n",
    "men and women. They decide to design a speed-dating study where 20 people – 10 men\n",
    "and 10 women – each have speed-dates with 9 other people, who differ in attractiveness\n",
    "(either attractive, average, or ugly) and charisma (either high charisma, some charisma, or\n",
    "no charisma). After each speed date, the participants of the study rate their preference for\n",
    "each date, allowing the researcher to assess the influence of attractiveness and charisma on\n",
    "dating preference, and whether the influence differs between male and female raters.\n",
    "(Note that this is a fictional data set created by Andy Field.)\n",
    "\n",
    "* (1) Open the “Looks or Personality” dataset https://osf.io/3wg6m/ (under “3. ANOVA”).\n",
    "* (2) Create a table that shows the means and standard deviations of preference scores\n",
    "across attractiveness, charisma, and gender. Is this table easy to interpret? What\n",
    "might be an alternative method for obtaining a descriptive overview of the data?\n",
    "* (3) What is the type of test ? Which test will you use ? Explain your answer ?\n",
    "* (4) State the null and alternate huypothesis.\n",
    "* (5) Conduct the test . Report will you accept the Null hypothesis? "
   ]
  }
 ],
 "metadata": {
  "celltoolbar": "Slideshow",
  "kernelspec": {
   "display_name": "Python 3 (ipykernel)",
   "language": "python",
   "name": "python3"
  },
  "language_info": {
   "codemirror_mode": {
    "name": "ipython",
    "version": 3
   },
   "file_extension": ".py",
   "mimetype": "text/x-python",
   "name": "python",
   "nbconvert_exporter": "python",
   "pygments_lexer": "ipython3",
   "version": "3.8.10"
  }
 },
 "nbformat": 4,
 "nbformat_minor": 5
}
