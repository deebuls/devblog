{
  "nbformat": 4,
  "nbformat_minor": 0,
  "metadata": {
    "colab": {
      "provenance": [],
      "authorship_tag": "ABX9TyOiAlIxk1sGSsasG2vqvYDg",
      "include_colab_link": true
    },
    "kernelspec": {
      "name": "python3",
      "display_name": "Python 3"
    },
    "language_info": {
      "name": "python"
    }
  },
  "cells": [
    {
      "cell_type": "markdown",
      "metadata": {
        "id": "view-in-github",
        "colab_type": "text"
      },
      "source": [
        "<a href=\"https://colab.research.google.com/github/deebuls/devblog/blob/main/posts/notebooks/2023-08-21-non-linear-system-definitions.ipynb\" target=\"_parent\"><img src=\"https://colab.research.google.com/assets/colab-badge.svg\" alt=\"Open In Colab\"/></a>"
      ]
    },
    {
      "cell_type": "markdown",
      "source": [
        "---\n",
        "author: Deebul Nair\n",
        "badges: true\n",
        "branch: master\n",
        "categories:\n",
        "- probability\n",
        "- python\n",
        "date: '2023-08-21'\n",
        "description: To understand Likelihood of distributions\n",
        "title: Non-Linear System Definitions - Application Kalman Filter\n",
        "toc: false\n",
        "---\n"
      ],
      "metadata": {
        "id": "6XnQxkMfpSqQ"
      }
    },
    {
      "cell_type": "code",
      "execution_count": null,
      "metadata": {
        "id": "N0PciNCzpR9S"
      },
      "outputs": [],
      "source": []
    }
  ]
}