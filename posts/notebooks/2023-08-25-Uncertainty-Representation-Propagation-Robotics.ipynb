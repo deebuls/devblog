{
  "nbformat": 4,
  "nbformat_minor": 0,
  "metadata": {
    "colab": {
      "provenance": [],
      "include_colab_link": true
    },
    "kernelspec": {
      "name": "python3",
      "display_name": "Python 3"
    },
    "language_info": {
      "name": "python"
    }
  },
  "cells": [
    {
      "cell_type": "markdown",
      "metadata": {
        "id": "view-in-github",
        "colab_type": "text"
      },
      "source": [
        "<a href=\"https://colab.research.google.com/github/deebuls/devblog/blob/main/posts/notebooks/2023-08-25-Uncertainty-Representation-Propagation-Robotics.ipynb\" target=\"_parent\"><img src=\"https://colab.research.google.com/assets/colab-badge.svg\" alt=\"Open In Colab\"/></a>"
      ]
    },
    {
      "cell_type": "markdown",
      "source": [
        "---\n",
        "author: Deebul Nair\n",
        "badges: true\n",
        "branch: master\n",
        "categories:\n",
        "- probability\n",
        "- robotics\n",
        "- 3DPose\n",
        "date: '2023-08-25'\n",
        "description: Uncertainty representation in Robotics\n",
        "title: Representation and propagation of uncertainty\n",
        "toc: false\n",
        "---\n"
      ],
      "metadata": {
        "id": "6XnQxkMfpSqQ"
      }
    },
    {
      "cell_type": "markdown",
      "source": [
        "# Uncertainty Pose Representation and Propagation of uncertainty in Robotics\n",
        "\n",
        "From : A probabilistic framework for tracking uncertainties\n",
        "in robotic manipulation\n",
        "Huy Nguyen and Quang-Cuong Pham\n",
        "\n",
        "* In early works by [11] and [12], the uncertainty of a pose is simply represented by worst-case bounds which include all possible errors (min-max approach).This simple approach usually results in conservative estimates which make it difficult to apply in decision-making process.\n",
        "* To address this limitation, the probabilistic approach which\n",
        "uses the calculus of probability theory and assign probabilities\n",
        "to all potential positions of the object has been proposed.\n",
        "* The pose of an object is now represented by a probability\n",
        "distribution over the space [9], [13].\n",
        "* As a result, the probabilistic representation can make use of probability theory and, thus, provide more uncertainty manipulation methodologies\n",
        "(e.g. propagation, fusion, etc.) [3], [4], [14], [15].\n",
        "* Recently, this probabilistic approach has been further investigated in\n",
        "[5], [6], [16], [17] where they provided a rigorous treatment of representing and propagating uncertainty on SO(3) and SE(3)\n",
        "\n",
        "## Uncertainty of Pose by worst-case bounds\n",
        "- [11] R. H. Taylor, “The synthesis of manipulator control programs from task-\n",
        "level specifications.” Ph.D. dissertation, Stanford University, Stanford,\n",
        "CA, USA, 1976, aAI7707174.\n",
        "- [12] R. A. Brooks, “Symbolic error analysis and robot planning,” The\n",
        "International Journal of Robotics Research, vol. 1, no. 4, pp. 29–78,\n",
        "1982.\n",
        "\n",
        "## Pose of object as probability distribution over space (probabilistic representation)\n",
        "- [9] S. Su and C. Lee, “Uncertainty manipulation and propagation and\n",
        "verification of applicability of actions in assembly tasks,” in IEEE\n",
        "International Conference on Robotics and Automation, vol. 3, 1991,\n",
        "pp. 2471–2476\n",
        "- [13] S.-F. Su and C. G. Lee, “Manipulation and propagation of uncertainty\n",
        "and verification of applicability of actions in assembly tasks,” Systems\n",
        "Science and Cybernetics, IEEE Transactions on, vol. 22, no. 6, pp. 1376–\n",
        "1389, 1992.\n",
        "\n",
        "## Application of probability pose for applications (propagation, fusion, etc)\n",
        "- [3] R. Smith, M. Self, and P. Cheeseman, “Estimating uncertain spatial\n",
        "relationships in robotics,” in Autonomous robot vehicles. Springer,\n",
        "1990, pp. 167–193.\n",
        "- [4] H. F. Durrant-Whyte, “Uncertainty geometry in robotics,” IEEE Journal\n",
        "of Robotics and Automation, vol. 4, no. 1, pp. 23–31, 1988.\n",
        "- [14] R. A. Brooks, “Visual map making for a mobile robot,” in Robotics\n",
        "and Automation, 1985. Proceedings. IEEE International Conference on,\n",
        "vol. 2. IEEE, 1985, pp. 824–829.\n",
        "- [15] R. C. Smith and P. Cheeseman, “On the representation and estimation of\n",
        "spatial uncertainty,” IEEE Journal of Robotics and Automation, vol. 5,\n",
        "no. 4, pp. 56–68, 1986.\n",
        "\n",
        "## Rigours treatment of probabilistic representation and propagation uncertainty on SO(3) SE(3)\n",
        "- [5] Y. Wang and G. S. Chirikjian, “Nonparametric second-order theory of\n",
        "error propagation on motion groups,” International Journal of Robotics\n",
        "Research, vol. 27, no. 11-12, pp. 1258–1273, 2008.\n",
        "- [6] T. D. Barfoot and P. T. Furgale, “Associating uncertainty with three-\n",
        "dimensional poses for use in estimation problems,” IEEE Transactions\n",
        "on Robotics, vol. 30, no. 3, pp. 679 – 693, June 2014.\n",
        "- [16] G. Chirikjian, Stochastic Models, Information Theory, and Lie Groups,\n",
        "Volume 1: Classical Results and Geometric Methods. Springer Science\n",
        "& Business Media, 2009, vol. 1.\n",
        "- [17] ——, Stochastic Models, Information Theory, and Lie Groups, Volume\n",
        "2: Analytic Methods and Modern Applications. Springer Science &\n",
        "Business Media, 2011, vol. 2."
      ],
      "metadata": {
        "id": "tyHlz1rKYabZ"
      }
    },
    {
      "cell_type": "code",
      "source": [],
      "metadata": {
        "id": "DrFVKEFUyMAf"
      },
      "execution_count": null,
      "outputs": []
    },
    {
      "cell_type": "code",
      "execution_count": 1,
      "metadata": {
        "id": "N0PciNCzpR9S",
        "outputId": "7494c87e-1f55-4399-e681-b129c5420487",
        "colab": {
          "base_uri": "https://localhost:8080/"
        }
      },
      "outputs": [
        {
          "output_type": "stream",
          "name": "stdout",
          "text": [
            "Cloning into 'python-cope'...\n",
            "remote: Enumerating objects: 361, done.\u001b[K\n",
            "remote: Total 361 (delta 0), reused 0 (delta 0), pack-reused 361\u001b[K\n",
            "Receiving objects: 100% (361/361), 1.17 MiB | 3.46 MiB/s, done.\n",
            "Resolving deltas: 100% (199/199), done.\n"
          ]
        }
      ],
      "source": [
        "!git clone https://github.com/dinhhuy2109/python-cope.git"
      ]
    },
    {
      "cell_type": "code",
      "source": [
        "!pip install trimesh -q"
      ],
      "metadata": {
        "id": "QleqF017y3MX",
        "outputId": "e90ab2db-2426-434d-ea6b-0f6fa5febf19",
        "colab": {
          "base_uri": "https://localhost:8080/"
        }
      },
      "execution_count": 2,
      "outputs": [
        {
          "output_type": "stream",
          "name": "stdout",
          "text": [
            "\u001b[?25l     \u001b[90m━━━━━━━━━━━━━━━━━━━━━━━━━━━━━━━━━━━━━━━━\u001b[0m \u001b[32m0.0/685.4 kB\u001b[0m \u001b[31m?\u001b[0m eta \u001b[36m-:--:--\u001b[0m\r\u001b[2K     \u001b[91m━━━━\u001b[0m\u001b[90m╺\u001b[0m\u001b[90m━━━━━━━━━━━━━━━━━━━━━━━━━━━━━━━━━━━\u001b[0m \u001b[32m71.7/685.4 kB\u001b[0m \u001b[31m1.9 MB/s\u001b[0m eta \u001b[36m0:00:01\u001b[0m\r\u001b[2K     \u001b[91m━━━━━━━━━━━━━━━━━━\u001b[0m\u001b[90m╺\u001b[0m\u001b[90m━━━━━━━━━━━━━━━━━━━━\u001b[0m \u001b[32m317.4/685.4 kB\u001b[0m \u001b[31m4.4 MB/s\u001b[0m eta \u001b[36m0:00:01\u001b[0m\r\u001b[2K     \u001b[91m━━━━━━━━━━━━━━━━━━━━━━━━━━━━━━━━━━\u001b[0m\u001b[91m╸\u001b[0m\u001b[90m━━━━\u001b[0m \u001b[32m614.4/685.4 kB\u001b[0m \u001b[31m5.8 MB/s\u001b[0m eta \u001b[36m0:00:01\u001b[0m\r\u001b[2K     \u001b[90m━━━━━━━━━━━━━━━━━━━━━━━━━━━━━━━━━━━━━━━\u001b[0m \u001b[32m685.4/685.4 kB\u001b[0m \u001b[31m5.1 MB/s\u001b[0m eta \u001b[36m0:00:00\u001b[0m\n",
            "\u001b[?25h"
          ]
        }
      ]
    },
    {
      "cell_type": "code",
      "source": [
        "from importlib import reload  # Python 3.4+"
      ],
      "metadata": {
        "id": "g64kWmRIz0TN"
      },
      "execution_count": 4,
      "outputs": []
    },
    {
      "cell_type": "code",
      "source": [
        "!cd python-cope && sudo pip install -e ."
      ],
      "metadata": {
        "id": "5sTsfVuN0T4h",
        "outputId": "887db3ac-2bbe-4434-e80d-b068265a5aa1",
        "colab": {
          "base_uri": "https://localhost:8080/"
        }
      },
      "execution_count": 19,
      "outputs": [
        {
          "output_type": "stream",
          "name": "stdout",
          "text": [
            "Obtaining file:///content/python-cope\n",
            "  Preparing metadata (setup.py) ... \u001b[?25l\u001b[?25hdone\n",
            "Installing collected packages: cope\n",
            "  Attempting uninstall: cope\n",
            "    Found existing installation: cope 1.0.0\n",
            "    Uninstalling cope-1.0.0:\n",
            "      Successfully uninstalled cope-1.0.0\n",
            "  Running setup.py develop for cope\n",
            "Successfully installed cope-1.0.0\n"
          ]
        }
      ]
    },
    {
      "cell_type": "code",
      "source": [
        "import numpy  as np\n",
        "import cope\n",
        "from mpl_toolkits.mplot3d import Axes3D\n",
        "import matplotlib.pyplot as plt\n",
        "import time\n",
        "\n",
        "starttime = time.time()\n",
        "tiny = 1e-5\n",
        "\n",
        "T1 = np.eye(4)\n",
        "sigma1 = np.diag([tiny,tiny,tiny,tiny,tiny,tiny],0)\n",
        "\n",
        "T2 = np.eye(4)\n",
        "T2[:3,3] = np.array([0,0.15,0])\n",
        "sigma2 = np.diag([tiny,tiny,tiny,0.01,tiny,0.01],0)\n",
        "\n",
        "T3 = np.eye(4)\n",
        "T3[:3,3] = np.array([0,0,-0.03])\n",
        "sigma3 = np.diag([tiny,tiny,tiny,tiny,tiny,0.1],0)\n",
        "\n",
        "T4 = np.eye(4)\n",
        "T4[:3,3] = np.array([0,0.14,0])\n",
        "sigma4 = np.diag([tiny,tiny,tiny,tiny,tiny,tiny],0)\n",
        "\n",
        "\n",
        "\n",
        "T12, sigma12 = cope.Propagating(T1,sigma1,T2,sigma2)\n",
        "\n",
        "T23, sigma23 = cope.Propagating(T12,sigma12,T3,sigma3)\n",
        "\n",
        "T34, sigma34 = cope.Propagating(T23,sigma23,T4,sigma4)\n",
        "print('Propagation took %.4f seconds' % (time.time() - starttime))\n",
        "\n",
        "Tv = T34\n",
        "Tv[:3,3] = Tv[:3,3] + np.array([0.001,0.002,-0.001])\n",
        "sigmav = np.diag([tiny,tiny,tiny,0.01,0.2,tiny])\n",
        "\n",
        "Te,sigmae,iters = cope.Fusing([T34,Tv],[sigma34,sigmav], maxiterations=10, retiter=True)\n",
        "\n",
        "print('Took %.4f seconds and %d iterations' % (time.time() - starttime, iters))\n",
        "\n",
        "cope.Visualize([T12,T34,Te],[sigma12, sigma34,sigmae],100)\n",
        "# visualize(T,sigma,100,2)\n",
        "\n",
        "\n"
      ],
      "metadata": {
        "id": "ge-5i72MyVV_",
        "outputId": "62317a4d-2a67-48c5-c65e-b7a4608dd6ef",
        "colab": {
          "base_uri": "https://localhost:8080/",
          "height": 387
        }
      },
      "execution_count": 20,
      "outputs": [
        {
          "output_type": "error",
          "ename": "ModuleNotFoundError",
          "evalue": "ignored",
          "traceback": [
            "\u001b[0;31m---------------------------------------------------------------------------\u001b[0m",
            "\u001b[0;31mModuleNotFoundError\u001b[0m                       Traceback (most recent call last)",
            "\u001b[0;32m<ipython-input-20-712d9140bd3b>\u001b[0m in \u001b[0;36m<cell line: 2>\u001b[0;34m()\u001b[0m\n\u001b[1;32m      1\u001b[0m \u001b[0;32mimport\u001b[0m \u001b[0mnumpy\u001b[0m  \u001b[0;32mas\u001b[0m \u001b[0mnp\u001b[0m\u001b[0;34m\u001b[0m\u001b[0;34m\u001b[0m\u001b[0m\n\u001b[0;32m----> 2\u001b[0;31m \u001b[0;32mimport\u001b[0m \u001b[0mcope\u001b[0m\u001b[0;34m\u001b[0m\u001b[0;34m\u001b[0m\u001b[0m\n\u001b[0m\u001b[1;32m      3\u001b[0m \u001b[0;32mfrom\u001b[0m \u001b[0mmpl_toolkits\u001b[0m\u001b[0;34m.\u001b[0m\u001b[0mmplot3d\u001b[0m \u001b[0;32mimport\u001b[0m \u001b[0mAxes3D\u001b[0m\u001b[0;34m\u001b[0m\u001b[0;34m\u001b[0m\u001b[0m\n\u001b[1;32m      4\u001b[0m \u001b[0;32mimport\u001b[0m \u001b[0mmatplotlib\u001b[0m\u001b[0;34m.\u001b[0m\u001b[0mpyplot\u001b[0m \u001b[0;32mas\u001b[0m \u001b[0mplt\u001b[0m\u001b[0;34m\u001b[0m\u001b[0;34m\u001b[0m\u001b[0m\n\u001b[1;32m      5\u001b[0m \u001b[0;32mimport\u001b[0m \u001b[0mtime\u001b[0m\u001b[0;34m\u001b[0m\u001b[0;34m\u001b[0m\u001b[0m\n",
            "\u001b[0;31mModuleNotFoundError\u001b[0m: No module named 'cope'",
            "",
            "\u001b[0;31m---------------------------------------------------------------------------\u001b[0;32m\nNOTE: If your import is failing due to a missing package, you can\nmanually install dependencies using either !pip or !apt.\n\nTo view examples of installing some common dependencies, click the\n\"Open Examples\" button below.\n\u001b[0;31m---------------------------------------------------------------------------\u001b[0m\n"
          ],
          "errorDetails": {
            "actions": [
              {
                "action": "open_url",
                "actionText": "Open Examples",
                "url": "/notebooks/snippets/importing_libraries.ipynb"
              }
            ]
          }
        }
      ]
    },
    {
      "cell_type": "code",
      "source": [
        "\n",
        "def Visualize(Tlist,sigmalist, nsamples = 100):\n",
        "  \"\"\"\n",
        "  Visualize an estimation (a point will be used to represent the translation position of a transformation)\n",
        "  @param Tlist:     a list of Transformations\n",
        "  @param sigmalist: a list of corresponding sigmas\n",
        "  @param nsamples:  the number of samples generated for each (T,sigma)\n",
        "  \"\"\"\n",
        "  import matplotlib.cm as cm\n",
        "  fig = plt.figure()\n",
        "  ax = fig.add_subplot(111, projection='3d')\n",
        "  cholsigmalist = []\n",
        "  colors = iter(cm.rainbow(np.linspace(0, 1, len(Tlist))))\n",
        "  for i in range(len(sigmalist)):\n",
        "    color = next(colors)\n",
        "    cholsigma = np.linalg.cholesky(sigmalist[i]).T\n",
        "    Tsample = []\n",
        "    for k in range(nsamples):\n",
        "      vecsample = np.dot(cholsigma,np.random.randn(6,1))\n",
        "      #vecsample = np.dot(cholsigma, np.random.uniform(-1,1,size = 6))\n",
        "      vecsample.resize(6)\n",
        "      Tsample = np.dot(VecToTran(vecsample), Tlist[i])\n",
        "      ax.scatter(Tsample[0,3],Tsample[1,3],Tsample[2,3], c = color)\n",
        "\n",
        "  ax.set_autoscaley_on(False)\n",
        "  ax.set_xlim([-0.5, 0.5])\n",
        "  ax.set_ylim([-0.5, 0.5])\n",
        "  ax.set_zlim([-0.5, 0.5])\n",
        "  ax.set_xlabel('X Label')\n",
        "  ax.set_ylabel('Y Label')\n",
        "  ax.set_zlabel('Z Label')\n",
        "  print(\"plotting now \")\n",
        "  plt.savefig('/content/plot.png')\n",
        "  plt.show()\n",
        "  return True\n",
        "\n"
      ],
      "metadata": {
        "id": "T296ZLTfySTy",
        "outputId": "3ea50c1d-a908-45f1-a1b0-fbac87b36b43",
        "colab": {
          "base_uri": "https://localhost:8080/"
        }
      },
      "execution_count": 3,
      "outputs": [
        {
          "output_type": "stream",
          "name": "stdout",
          "text": [
            "python3: can't open file '/content/setup.py': [Errno 2] No such file or directory\n"
          ]
        }
      ]
    },
    {
      "cell_type": "code",
      "source": [],
      "metadata": {
        "id": "CjZceU_czkIV"
      },
      "execution_count": null,
      "outputs": []
    }
  ]
}