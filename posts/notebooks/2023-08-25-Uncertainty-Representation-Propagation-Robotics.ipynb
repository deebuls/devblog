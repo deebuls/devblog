{
  "nbformat": 4,
  "nbformat_minor": 0,
  "metadata": {
    "colab": {
      "provenance": [],
      "include_colab_link": true
    },
    "kernelspec": {
      "name": "python3",
      "display_name": "Python 3"
    },
    "language_info": {
      "name": "python"
    }
  },
  "cells": [
    {
      "cell_type": "markdown",
      "metadata": {
        "id": "view-in-github",
        "colab_type": "text"
      },
      "source": [
        "<a href=\"https://colab.research.google.com/github/deebuls/devblog/blob/main/posts/notebooks/2023-08-25-Uncertainty-Representation-Propagation-Robotics.ipynb\" target=\"_parent\"><img src=\"https://colab.research.google.com/assets/colab-badge.svg\" alt=\"Open In Colab\"/></a>"
      ]
    },
    {
      "cell_type": "markdown",
      "source": [
        "---\n",
        "author: Deebul Nair\n",
        "badges: true\n",
        "branch: master\n",
        "categories:\n",
        "- probability\n",
        "- robotics\n",
        "- 3DPose\n",
        "date: '2023-08-25'\n",
        "description: Uncertainty representation in Robotics\n",
        "title: Representation and propagation of uncertainty\n",
        "toc: false\n",
        "---\n"
      ],
      "metadata": {
        "id": "6XnQxkMfpSqQ"
      }
    },
    {
      "cell_type": "markdown",
      "source": [
        "# Uncertainty Pose Representation and Propagation of uncertainty in Robotics\n",
        "\n",
        "From : A probabilistic framework for tracking uncertainties\n",
        "in robotic manipulation\n",
        "Huy Nguyen and Quang-Cuong Pham\n",
        "\n",
        "* In early works by [11] and [12], the uncertainty of a pose is simply represented by worst-case bounds which include all possible errors (min-max approach).This simple approach usually results in conservative estimates which make it difficult to apply in decision-making process.\n",
        "* To address this limitation, the probabilistic approach which\n",
        "uses the calculus of probability theory and assign probabilities\n",
        "to all potential positions of the object has been proposed.\n",
        "* The pose of an object is now represented by a probability\n",
        "distribution over the space [9], [13].\n",
        "* As a result, the probabilistic representation can make use of probability theory and, thus, provide more uncertainty manipulation methodologies\n",
        "(e.g. propagation, fusion, etc.) [3], [4], [14], [15].\n",
        "* Recently, this probabilistic approach has been further investigated in\n",
        "[5], [6], [16], [17] where they provided a rigorous treatment of representing and propagating uncertainty on SO(3) and SE(3)\n",
        "\n",
        "## Uncertainty of Pose by worst-case bounds\n",
        "- [11] R. H. Taylor, “The synthesis of manipulator control programs from task-\n",
        "level specifications.” Ph.D. dissertation, Stanford University, Stanford,\n",
        "CA, USA, 1976, aAI7707174.\n",
        "- [12] R. A. Brooks, “Symbolic error analysis and robot planning,” The\n",
        "International Journal of Robotics Research, vol. 1, no. 4, pp. 29–78,\n",
        "1982.\n",
        "\n",
        "## Pose of object as probability distribution over space (probabilistic representation)\n",
        "- [9] S. Su and C. Lee, “Uncertainty manipulation and propagation and\n",
        "verification of applicability of actions in assembly tasks,” in IEEE\n",
        "International Conference on Robotics and Automation, vol. 3, 1991,\n",
        "pp. 2471–2476\n",
        "- [13] S.-F. Su and C. G. Lee, “Manipulation and propagation of uncertainty\n",
        "and verification of applicability of actions in assembly tasks,” Systems\n",
        "Science and Cybernetics, IEEE Transactions on, vol. 22, no. 6, pp. 1376–\n",
        "1389, 1992.\n",
        "\n",
        "## Application of probability pose for applications (propagation, fusion, etc)\n",
        "- [3] R. Smith, M. Self, and P. Cheeseman, “Estimating uncertain spatial\n",
        "relationships in robotics,” in Autonomous robot vehicles. Springer,\n",
        "1990, pp. 167–193.\n",
        "- [4] H. F. Durrant-Whyte, “Uncertainty geometry in robotics,” IEEE Journal\n",
        "of Robotics and Automation, vol. 4, no. 1, pp. 23–31, 1988.\n",
        "- [14] R. A. Brooks, “Visual map making for a mobile robot,” in Robotics\n",
        "and Automation, 1985. Proceedings. IEEE International Conference on,\n",
        "vol. 2. IEEE, 1985, pp. 824–829.\n",
        "- [15] R. C. Smith and P. Cheeseman, “On the representation and estimation of\n",
        "spatial uncertainty,” IEEE Journal of Robotics and Automation, vol. 5,\n",
        "no. 4, pp. 56–68, 1986.\n",
        "\n",
        "## Rigours treatment of probabilistic representation and propagation uncertainty on SO(3) SE(3)\n",
        "- [5] Y. Wang and G. S. Chirikjian, “Nonparametric second-order theory of\n",
        "error propagation on motion groups,” International Journal of Robotics\n",
        "Research, vol. 27, no. 11-12, pp. 1258–1273, 2008.\n",
        "- [6] T. D. Barfoot and P. T. Furgale, “Associating uncertainty with three-\n",
        "dimensional poses for use in estimation problems,” IEEE Transactions\n",
        "on Robotics, vol. 30, no. 3, pp. 679 – 693, June 2014.\n",
        "- [16] G. Chirikjian, Stochastic Models, Information Theory, and Lie Groups,\n",
        "Volume 1: Classical Results and Geometric Methods. Springer Science\n",
        "& Business Media, 2009, vol. 1.\n",
        "- [17] ——, Stochastic Models, Information Theory, and Lie Groups, Volume\n",
        "2: Analytic Methods and Modern Applications. Springer Science &\n",
        "Business Media, 2011, vol. 2."
      ],
      "metadata": {
        "id": "tyHlz1rKYabZ"
      }
    },
    {
      "cell_type": "code",
      "execution_count": null,
      "metadata": {
        "id": "N0PciNCzpR9S"
      },
      "outputs": [],
      "source": []
    }
  ]
}