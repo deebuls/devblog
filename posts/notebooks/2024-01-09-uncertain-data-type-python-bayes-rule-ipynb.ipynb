{
  "nbformat": 4,
  "nbformat_minor": 0,
  "metadata": {
    "colab": {
      "provenance": [],
      "authorship_tag": "ABX9TyM+V/GkcV78eLbKTmpKspDL",
      "include_colab_link": true
    },
    "kernelspec": {
      "name": "python3",
      "display_name": "Python 3"
    },
    "language_info": {
      "name": "python"
    }
  },
  "cells": [
    {
      "cell_type": "markdown",
      "metadata": {
        "id": "view-in-github",
        "colab_type": "text"
      },
      "source": [
        "<a href=\"https://colab.research.google.com/github/deebuls/devblog/blob/main/posts/notebooks/2024-01-09-uncertain-data-type-python-bayes-rule-ipynb.ipynb\" target=\"_parent\"><img src=\"https://colab.research.google.com/assets/colab-badge.svg\" alt=\"Open In Colab\"/></a>"
      ]
    },
    {
      "cell_type": "markdown",
      "source": [
        "# \"Uncertain Data types - Sampling based Bayes-Laplace Rule\"\n",
        "\n",
        "- toc: true\n",
        "- branch: master\n",
        "- comments: false\n",
        "- author: Deebul Nair\n",
        "- image: images/sampling_bayes_laplace_rule.png\n",
        "- date: 2023-01-09\n",
        "- categories: [coding, uncertainty]"
      ],
      "metadata": {
        "id": "CZNGJJzu43R1"
      }
    },
    {
      "cell_type": "markdown",
      "source": [
        "# Uncertain Data Types\n",
        "\n",
        "Uncertain data types play a crucial role in robotics by addressing uncertainties in sensor measurements. For instance, in robotic localization, sensors may provide imprecise information about the robot's position. The advantage lies in using probabilistic models to represent this uncertainty. Methodologies like Bayesian filtering help integrate sensor data and estimate the robot's position more accurately. In software development for robotics, uncertainty-aware algorithms enhance navigation and mapping. Applications include autonomous vehicles, where uncertain data types improve decision-making in dynamic environments. However, challenges arise in developing efficient algorithms due to the computational demands of handling uncertainty in real-time robotic systems.\n",
        "\n",
        "Efforts to create uncertain data types span various programming languages, each with its approach. In C and C++, developers often implement uncertainty by using custom data structures and libraries. They leverage pointers and structures to represent uncertain values and design algorithms for uncertainty propagation. In Julia, a high-level programming language, the focus is on mathematical simplicity and performance. The language's flexibility allows developers to design custom data types and functions tailored to uncertain data, enhancing computational efficiency. Probabilistic programming languages like Stan and Pyro offer specialized constructs for uncertain data types. These languages enable developers to express uncertainty directly in their models, simplifying the incorporation of probabilistic reasoning. Overall, efforts in uncertain data types reflect the diverse strategies employed across languages, ranging from low-level control in C and C++ to high-level expressiveness in Julia and specialized support in probabilistic programming languages.\n",
        "\n",
        "In paper [Uncertain<t>]( https://www.microsoft.com/en-us/research/wp-content/uploads/2016/06/uncertaint-toppicks-magazine-copy-15-1.pdf) they developed a datatype called Uncertain<t> in C# language .\n",
        "For years I was thinking of implementing something similar in python but was missing some motivation. Recently I came accross another hardware level library developed by a company called [Signaloid]( https://signaloid.com/) doing the same in C and C++ language. Since their sample code were available in [github](https://github.com/signaloid/Signaloid-Demo-General-CXX), I got a motivation to write the pending python library.\n"
      ],
      "metadata": {
        "id": "7Kd4Ddd0Q2RN"
      }
    },
    {
      "cell_type": "code",
      "source": [],
      "metadata": {
        "id": "Q5YL9Y1BP4H3"
      },
      "execution_count": null,
      "outputs": []
    },
    {
      "cell_type": "code",
      "execution_count": 106,
      "metadata": {
        "id": "NaFaLF-w4xqH"
      },
      "outputs": [],
      "source": [
        "import scipy.stats as stats\n",
        "import numpy as np\n",
        "from scipy.integrate import trapz\n",
        "import sys\n",
        "EPSILON = sys.float_info.epsilon\n",
        "NUM_SAMPLES = 1000\n"
      ]
    },
    {
      "cell_type": "code",
      "source": [
        "class uDoubleGaussDist:\n",
        "    \"\"\"\n",
        "    Custom datatype replicating double datatype with mathematical operators.\n",
        "\n",
        "    Attributes:\n",
        "    - value (float): The value stored in the uDoubleGaussDist.\n",
        "\n",
        "    Methods:\n",
        "    - __init__(self, value: float): Initializes the uDoubleGaussDist with a specified value.\n",
        "    - __add__(self, other: 'uDoubleGaussDist') -> 'uDoubleGaussDist': Defines addition operation for uDoubleGaussDist.\n",
        "    - __sub__(self, other: 'uDoubleGaussDist') -> 'uDoubleGaussDist': Defines subtraction operation for uDoubleGaussDist.\n",
        "    - __mul__(self, other: 'uDoubleGaussDist') -> 'uDoubleGaussDist': Defines multiplication operation for uDoubleGaussDist.\n",
        "    - __truediv__(self, other: 'uDoubleGaussDist') -> 'uDoubleGaussDist': Defines true division operation for uDoubleGaussDist.\n",
        "    - __str__(self) -> str: Returns the string representation of the uDoubleGaussDist.\n",
        "    \"\"\"\n",
        "\n",
        "    def __init__(self, value: float, sigma: float = 1e-6):\n",
        "        \"\"\"Initialize uDoubleGaussDist with a specified value.\"\"\"\n",
        "        self.value = float(value)\n",
        "        self.sigma = float(sigma)\n",
        "        self.distirbution = stats.norm(value, sigma)\n",
        "\n",
        "    def __add__(self, other: 'uDoubleGaussDist') -> 'uDoubleGaussDist':\n",
        "        \"\"\"Define addition operation for uDoubleGaussDist.\"\"\"\n",
        "\n",
        "        self_samples = self.distirbution.rvs( size=NUM_SAMPLES, random_state=123)\n",
        "        other_samples = other.distirbution.rvs( size=NUM_SAMPLES, random_state=123)\n",
        "        loc1, scale1 = stats.norm.fit(self_samples + other_samples)\n",
        "\n",
        "        return uDoubleGaussDist(loc1, scale1)\n",
        "\n",
        "    def __sub__(self, other: 'uDoubleGaussDist') -> 'uDoubleGaussDist':\n",
        "        \"\"\"Define subtraction operation for uDoubleGaussDist.\"\"\"\n",
        "        self_samples = self.distirbution.rvs( size=NUM_SAMPLES, random_state=123)\n",
        "        other_samples = other.distirbution.rvs( size=NUM_SAMPLES, random_state=123)\n",
        "        loc1, scale1 = stats.norm.fit(self_samples - other_samples)\n",
        "        return uDoubleGaussDist(loc1, scale1)\n",
        "\n",
        "    def __mul__(self, other: 'uDoubleGaussDist') -> 'uDoubleGaussDist':\n",
        "        \"\"\"Define multiplication operation for uDoubleGaussDist.\"\"\"\n",
        "        self_samples = self.distirbution.rvs( size=NUM_SAMPLES, random_state=123)\n",
        "        other_samples = other.distirbution.rvs( size=NUM_SAMPLES, random_state=123)\n",
        "        loc1, scale1 = stats.norm.fit(self_samples * other_samples)\n",
        "        return uDoubleGaussDist(loc1, scale1)\n",
        "\n",
        "    def __truediv__(self, other: 'uDoubleGaussDist') -> 'uDoubleGaussDist':\n",
        "        \"\"\"Define true division operation for uDoubleGaussDist.\"\"\"\n",
        "        if other.value != 0:\n",
        "            self_samples = self.distirbution.rvs( size=NUM_SAMPLES, random_state=123)\n",
        "            other_samples = other.distirbution.rvs( size=NUM_SAMPLES, random_state=123)\n",
        "            loc1, scale1 = stats.norm.fit(self_samples / other_samples)\n",
        "            return uDoubleGaussDist(loc1, scale1)\n",
        "        else:\n",
        "            raise ValueError(\"Division by zero\")\n",
        "\n",
        "    def __str__(self) -> str:\n",
        "        \"\"\"Return the string representation of uDoubleGaussDist.\"\"\"\n",
        "        return str(self.value)\n",
        "\n",
        "# Example usage:\n",
        "a = uDoubleGaussDist(2.5)\n",
        "b = uDoubleGaussDist(1.5)\n",
        "\n",
        "result = a + b\n",
        "print(result)  # Output: 4.0\n",
        "\n",
        "result = a - b\n",
        "print(result)  # Output: 4.0\n",
        "\n",
        "\n",
        "result = a * b\n",
        "print(result)  # Output: 4.0\n",
        "\n",
        "\n",
        "result = a / b\n",
        "print(result)  # Output: 4.0\n"
      ],
      "metadata": {
        "colab": {
          "base_uri": "https://localhost:8080/"
        },
        "id": "5Ts9aVde43mM",
        "outputId": "eb33449a-ab89-47b7-f0fb-e942153af999"
      },
      "execution_count": 73,
      "outputs": [
        {
          "output_type": "stream",
          "name": "stdout",
          "text": [
            "4.000000054218146\n",
            "1.0\n",
            "3.750000108437568\n",
            "1.666666654618567\n"
          ]
        }
      ]
    },
    {
      "cell_type": "code",
      "source": [
        "%timeit a+b"
      ],
      "metadata": {
        "colab": {
          "base_uri": "https://localhost:8080/"
        },
        "id": "8wZ3lfOfOhyI",
        "outputId": "f76e76e8-d5a6-4660-c547-ae54baae3575"
      },
      "execution_count": 47,
      "outputs": [
        {
          "output_type": "stream",
          "name": "stdout",
          "text": [
            "1.61 ms ± 296 µs per loop (mean ± std. dev. of 7 runs, 1000 loops each)\n"
          ]
        }
      ]
    },
    {
      "cell_type": "code",
      "source": [
        "%timeit 2.5+1.5"
      ],
      "metadata": {
        "colab": {
          "base_uri": "https://localhost:8080/"
        },
        "id": "T-61M4DNOqEF",
        "outputId": "73fbff41-599f-47b0-82a1-af35fee65b09"
      },
      "execution_count": 48,
      "outputs": [
        {
          "output_type": "stream",
          "name": "stdout",
          "text": [
            "15.6 ns ± 3.94 ns per loop (mean ± std. dev. of 7 runs, 100000000 loops each)\n"
          ]
        }
      ]
    },
    {
      "cell_type": "code",
      "source": [
        "sys.float_info.epsilon"
      ],
      "metadata": {
        "colab": {
          "base_uri": "https://localhost:8080/"
        },
        "id": "GgG5j4D5ioVj",
        "outputId": "1d06faf6-567a-4814-af37-8567ac6c5564"
      },
      "execution_count": 65,
      "outputs": [
        {
          "output_type": "execute_result",
          "data": {
            "text/plain": [
              "2.220446049250313e-16"
            ]
          },
          "metadata": {},
          "execution_count": 65
        }
      ]
    },
    {
      "cell_type": "markdown",
      "source": [
        "# Bayes Laplace Rule\n"
      ],
      "metadata": {
        "id": "K0WkRLbkipN8"
      }
    },
    {
      "cell_type": "code",
      "source": [
        "def uDoubleBayesLaplace(prior: uDoubleGaussDist, evidence: uDoubleGaussDist) -> uDoubleGaussDist:\n",
        "    \"\"\"\n",
        "    Perform Bayesian inference using Laplace approximation.\n",
        "\n",
        "    Parameters:\n",
        "    - prior (uDoubleGaussDist): Prior distribution.\n",
        "    - evidence (uDoubleGaussDist): Evidence distribution.\n",
        "\n",
        "    Returns:\n",
        "    - uDoubleGaussDist: Posterior distribution.\n",
        "\n",
        "    This function calculates the posterior distribution using Laplace approximation\n",
        "    based on the provided prior and evidence distributions. It generates samples\n",
        "    from the posterior distribution and returns a uDoubleGaussDist object representing\n",
        "    the posterior distribution.\n",
        "\n",
        "    Example:\n",
        "    prior = uDoubleGaussDist(2.5, 0.1)\n",
        "    evidence = uDoubleGaussDist(1.5, 0.2)\n",
        "    posterior = uDoubleBayesLaplace(prior, evidence)\n",
        "    \"\"\"\n",
        "    min_sample = min(prior.distirbution.ppf(0.01),\n",
        "                    evidence.distirbution.ppf(0.01),\n",
        "                    prior.distirbution.ppf(0.99),\n",
        "                    evidence.distirbution.ppf(0.99))\n",
        "\n",
        "    max_sample = max(prior.distirbution.ppf(0.01),\n",
        "                    evidence.distirbution.ppf(0.01),\n",
        "                    prior.distirbution.ppf(0.99),\n",
        "                    evidence.distirbution.ppf(0.99))\n",
        "    #Generate uniform samples in the x axis\n",
        "    samples = np.linspace(min_sample,max_sample, NUM_SAMPLES)\n",
        "\n",
        "    #Calculate likelihood for each sample for prior and the evidence\n",
        "    prior_pdf = prior.distirbution.pdf(samples)+EPSILON #Adding epsilon to avoid zeros for pdf\n",
        "    evidence_pdf = evidence.distirbution.pdf(samples)+EPSILON\n",
        "\n",
        "    #Multiplying the likelihoods\n",
        "    unnormalized_posterior = prior_pdf * evidence_pdf\n",
        "\n",
        "    #Normalizing the posterior by calculating the area and dividing by the area\n",
        "    area = trapz(unnormalized_posterior, samples)\n",
        "    posterior = unnormalized_posterior / area\n",
        "    print (\"Posterior mean \", samples[np.argmax(posterior)])\n",
        "\n",
        "    #generating samples from pdf\n",
        "    generated_samples = np.random.choice(samples, size=NUM_SAMPLES, p=posterior/np.sum(posterior))\n",
        "    print (\"Calculated Posterior mean \", np.mean(generated_samples))\n",
        "\n",
        "    return uDoubleGaussDist(np.mean(generated_samples), np.std(generated_samples))\n",
        "\n",
        "\n",
        "prior = uDoubleGaussDist(2.5,0.1)\n",
        "evidence = uDoubleGaussDist(1.5,0.2)\n",
        "posterior = uDoubleBayesLaplace(prior, evidence)"
      ],
      "metadata": {
        "colab": {
          "base_uri": "https://localhost:8080/"
        },
        "id": "1IJP_uvEisON",
        "outputId": "775d0b51-502c-4ec6-c144-2b9c94706263"
      },
      "execution_count": 113,
      "outputs": [
        {
          "output_type": "stream",
          "name": "stdout",
          "text": [
            "Posterior mean  2.2992357760285844\n",
            "Calculated Posterior mean  2.3000294910807897\n"
          ]
        }
      ]
    },
    {
      "cell_type": "code",
      "source": [
        "def plotuDoubleBayesLaplace(prior, evidence, posterior):\n",
        "\n",
        "  fig, ax = plt.subplots(1, 1)\n",
        "  min_sample = min(prior.distirbution.ppf(0.01),\n",
        "                   evidence.distirbution.ppf(0.01),\n",
        "                   prior.distirbution.ppf(0.99),\n",
        "                   evidence.distirbution.ppf(0.99))\n",
        "\n",
        "  max_sample = max(prior.distirbution.ppf(0.01),\n",
        "                   evidence.distirbution.ppf(0.01),\n",
        "                   prior.distirbution.ppf(0.99),\n",
        "                   evidence.distirbution.ppf(0.99))\n",
        "\n",
        "  samples = np.linspace(min_sample,max_sample, NUM_SAMPLES)\n",
        "  prior_pdf = prior.distirbution.pdf(samples)+EPSILON #Adding epsilon to avoid zeros for pdf\n",
        "\n",
        "  evidence_pdf = evidence.distirbution.pdf(samples)+EPSILON\n",
        "\n",
        "  posterior_pdf = posterior.distirbution.pdf(samples)+EPSILON\n",
        "\n",
        "  unnormalized_posterior = prior_pdf * evidence_pdf\n",
        "\n",
        "  area = trapz(unnormalized_posterior, samples)\n",
        "  original_posterior = unnormalized_posterior / area\n",
        "\n",
        "\n",
        "  ax.plot(samples, prior_pdf,\n",
        "        'r-', lw=2, alpha=0.6, label='prior pdf')\n",
        "\n",
        "  ax.plot(samples, evidence_pdf,\n",
        "        'b-', lw=2, alpha=0.6, label='evidence pdf')\n",
        "\n",
        "\n",
        "  ax.plot(samples,  posterior_pdf,\n",
        "        'g-', lw=2, alpha=0.6, label='posterior pdf')\n",
        "\n",
        "  ax.plot(samples,  original_posterior,\n",
        "        '-', lw=2, alpha=0.6, label='original posterior pdf')\n",
        "\n",
        "  ax.legend(loc='best', frameon=False)\n",
        "  # Save files in pdf and eps format\n",
        "  plt.savefig(\"sampling_bayes_laplace_rule.png\", dpi=150)\n",
        "\n",
        "plotuDoubleBayesLaplace(prior, evidence, posterior)\n"
      ],
      "metadata": {
        "colab": {
          "base_uri": "https://localhost:8080/",
          "height": 430
        },
        "id": "nGeRKLrAisVv",
        "outputId": "9a331b86-7423-4663-8344-05e3d11bcd6e"
      },
      "execution_count": 114,
      "outputs": [
        {
          "output_type": "display_data",
          "data": {
            "text/plain": [
              "<Figure size 640x480 with 1 Axes>"
            ],
            "image/png": "[encoded data removed]"
          },
          "metadata": {}
        }
      ]
    },
    {
      "cell_type": "markdown",
      "source": [
        "### Corner Case\n",
        "\n",
        "Need things to improve.\n",
        "\n",
        "1. When the sigma is very low as 1e-6 .\n",
        "  * PDF values become zero at all places expect for the\n",
        "2. When the values are very far apart like 1 and 1000\n"
      ],
      "metadata": {
        "id": "Y2DevnTVEh9D"
      }
    },
    {
      "cell_type": "code",
      "source": [
        "\n",
        "prior = uDoubleGaussDist(2.5)\n",
        "evidence = uDoubleGaussDist(1.5)\n",
        "posterior = uDoubleBayesLaplace(prior, evidence)\n",
        "\n",
        "plotuDoubleBayesLaplace(prior, evidence, posterior)\n"
      ],
      "metadata": {
        "colab": {
          "base_uri": "https://localhost:8080/",
          "height": 430
        },
        "id": "QkTuIqdiEnGb",
        "outputId": "e259d317-38a9-448b-8b21-d82c87181159"
      },
      "execution_count": 80,
      "outputs": [
        {
          "output_type": "display_data",
          "data": {
            "text/plain": [
              "<Figure size 640x480 with 1 Axes>"
            ],
            "image/png": "[encoded data removed]"
          },
          "metadata": {}
        }
      ]
    },
    {
      "cell_type": "code",
      "source": [
        "\n",
        "prior = uDoubleGaussDist(2.5, 0.1)\n",
        "evidence = uDoubleGaussDist(1000, 0.1)\n",
        "posterior = uDoubleBayesLaplace(prior, evidence)\n",
        "\n",
        "plotuDoubleBayesLaplace(prior, evidence, posterior)\n"
      ],
      "metadata": {
        "colab": {
          "base_uri": "https://localhost:8080/",
          "height": 430
        },
        "id": "jyzuOm08FN3i",
        "outputId": "d11e9551-1a52-4ff7-84c9-5e4fa8ade9df"
      },
      "execution_count": 82,
      "outputs": [
        {
          "output_type": "display_data",
          "data": {
            "text/plain": [
              "<Figure size 640x480 with 1 Axes>"
            ],
            "image/png": "[encoded data removed]"
          },
          "metadata": {}
        }
      ]
    },
    {
      "cell_type": "markdown",
      "source": [
        "## Possible solutions (Not working)\n",
        "\n",
        "1. Sample differently for both the prior and the evidence\n",
        "2. #TODO The estimated posterior and multiplied posterior are differnt .\n",
        "  * because of the differnt precision the sample generation process is not working\n",
        "  * Need an alternative to the sample generation from pdf"
      ],
      "metadata": {
        "id": "odW78Y1EN85J"
      }
    },
    {
      "cell_type": "code",
      "source": [
        "def uDoubleBayesLaplace(prior, evidence):\n",
        "\n",
        "  samples = np.sort( np.append(np.linspace(prior.distirbution.ppf(0.01),\n",
        "                                 prior.distirbution.ppf(0.99), NUM_SAMPLES),\n",
        "                     np.linspace(evidence.distirbution.ppf(0.01),\n",
        "                                 evidence.distirbution.ppf(0.99), NUM_SAMPLES) ))\n",
        "\n",
        "  prior_pdf = prior.distirbution.pdf(samples) #Adding epsilon to avoid zeros for pdf\n",
        "\n",
        "  evidence_pdf = evidence.distirbution.pdf(samples)\n",
        "\n",
        "  unnormalized_posterior = prior_pdf * evidence_pdf\n",
        "\n",
        "  area = trapz(unnormalized_posterior, samples)\n",
        "  posterior = unnormalized_posterior / area\n",
        "  print (\"Posterior mean \", samples[np.argmax(posterior)])\n",
        "\n",
        "\n",
        "  #generating samples from pdf\n",
        "  generated_samples = np.random.choice(np.linspace(min(samples),\n",
        "                                                   max(samples),\n",
        "                                                   num=NUM_SAMPLES*2),\n",
        "                                       size=NUM_SAMPLES*2,\n",
        "                                       p=posterior/np.sum(posterior))\n",
        "  print (\"Calculated Posterior mean \", np.mean(generated_samples))\n",
        "\n",
        "\n",
        "  return uDoubleGaussDist(np.mean(generated_samples), np.std(generated_samples))\n",
        "\n",
        "\n",
        "prior = uDoubleGaussDist(2.5,0.1)\n",
        "evidence = uDoubleGaussDist(1.5,0.2)\n",
        "posterior = uDoubleBayesLaplace(prior, evidence)"
      ],
      "metadata": {
        "colab": {
          "base_uri": "https://localhost:8080/"
        },
        "id": "wHuoTSZxHLju",
        "outputId": "53221e2d-1c6c-4411-e20f-643f0a8c0a76"
      },
      "execution_count": 107,
      "outputs": [
        {
          "output_type": "stream",
          "name": "stdout",
          "text": [
            "Posterior mean  2.299966684304196\n",
            "Calculated Posterior mean  2.041209314588317\n"
          ]
        }
      ]
    },
    {
      "cell_type": "code",
      "source": [
        "def plotuDoubleBayesLaplace(prior, evidence, posterior):\n",
        "\n",
        "  fig, ax = plt.subplots(1, 1)\n",
        "  samples = np.sort( np.append( np.linspace(prior.distirbution.ppf(0.01),\n",
        "                                 prior.distirbution.ppf(0.99), NUM_SAMPLES),\n",
        "                     np.linspace(evidence.distirbution.ppf(0.01),\n",
        "                                 evidence.distirbution.ppf(0.99), NUM_SAMPLES) ))\n",
        "  prior_pdf = prior.distirbution.pdf(samples) #Adding epsilon to avoid zeros for pdf\n",
        "\n",
        "  evidence_pdf = evidence.distirbution.pdf(samples)\n",
        "\n",
        "  unnormalized_posterior = prior_pdf * evidence_pdf\n",
        "\n",
        "  area = trapz(unnormalized_posterior, samples)\n",
        "  original_posterior = unnormalized_posterior / area\n",
        "\n",
        "  posterior_pdf = posterior.distirbution.pdf(samples)\n",
        "\n",
        "  ax.plot(samples, prior_pdf,\n",
        "        'r-', lw=2, alpha=0.6, label='prior pdf')\n",
        "\n",
        "  ax.plot(samples, evidence_pdf,\n",
        "        'b-', lw=2, alpha=0.6, label='evidence pdf')\n",
        "\n",
        "\n",
        "  ax.plot(samples,  posterior_pdf,\n",
        "        'g-', lw=2, alpha=0.6, label='posterior pdf')\n",
        "\n",
        "  ax.plot(samples,  original_posterior,\n",
        "        'y-', lw=2, alpha=0.6, label='original posterior pdf')\n",
        "\n",
        "  ax.legend(loc='best', frameon=False)\n",
        "\n",
        "plotuDoubleBayesLaplace(prior, evidence, posterior)\n"
      ],
      "metadata": {
        "id": "3JOTblikNukI"
      },
      "execution_count": null,
      "outputs": []
    },
    {
      "cell_type": "markdown",
      "source": [
        "# With Unscented Approaches\n",
        "#TODO\n",
        "## Using Sigma Points\n",
        "\n",
        "\n"
      ],
      "metadata": {
        "id": "1HvzDnESB-wu"
      }
    },
    {
      "cell_type": "code",
      "source": [
        "class uDoubleGaussDist:\n",
        "    \"\"\"\n",
        "    Custom datatype replicating double datatype with mathematical operators.\n",
        "\n",
        "    Attributes:\n",
        "    - value (float): The value stored in the uDoubleGaussDist.\n",
        "\n",
        "    Methods:\n",
        "    - __init__(self, value: float): Initializes the uDoubleGaussDist with a specified value.\n",
        "    - __add__(self, other: 'uDoubleGaussDist') -> 'uDoubleGaussDist': Defines addition operation for uDoubleGaussDist.\n",
        "    - __sub__(self, other: 'uDoubleGaussDist') -> 'uDoubleGaussDist': Defines subtraction operation for uDoubleGaussDist.\n",
        "    - __mul__(self, other: 'uDoubleGaussDist') -> 'uDoubleGaussDist': Defines multiplication operation for uDoubleGaussDist.\n",
        "    - __truediv__(self, other: 'uDoubleGaussDist') -> 'uDoubleGaussDist': Defines true division operation for uDoubleGaussDist.\n",
        "    - __str__(self) -> str: Returns the string representation of the uDoubleGaussDist.\n",
        "    \"\"\"\n",
        "\n",
        "    def __init__(self, value: float, sigma: float = 1e-6):\n",
        "        \"\"\"Initialize uDoubleGaussDist with a specified value.\"\"\"\n",
        "        self.value = float(value)\n",
        "        self.sigma = float(sigma)\n",
        "        self.distirbution = stats.norm(value, sigma)\n",
        "\n",
        "    def __add__(self, other: 'uDoubleGaussDist') -> 'uDoubleGaussDist':\n",
        "        \"\"\"Define addition operation for uDoubleGaussDist.\"\"\"\n",
        "\n",
        "        self_samples = self.distirbution.rvs( size=100, random_state=123)\n",
        "        other_samples = other.distirbution.rvs( size=100, random_state=123)\n",
        "        loc1, scale1 = stats.norm.fit(self_samples + other_samples)\n",
        "\n",
        "        return uDoubleGaussDist(loc1, scale1)\n",
        "\n",
        "    def __sub__(self, other: 'uDoubleGaussDist') -> 'uDoubleGaussDist':\n",
        "        \"\"\"Define subtraction operation for uDoubleGaussDist.\"\"\"\n",
        "        self_samples = self.distirbution.rvs( size=100, random_state=123)\n",
        "        other_samples = other.distirbution.rvs( size=100, random_state=123)\n",
        "        loc1, scale1 = stats.norm.fit(self_samples - other_samples)\n",
        "        return uDoubleGaussDist(loc1, scale1)\n",
        "\n",
        "    def __mul__(self, other: 'uDoubleGaussDist') -> 'uDoubleGaussDist':\n",
        "        \"\"\"Define multiplication operation for uDoubleGaussDist.\"\"\"\n",
        "        self_samples = self.distirbution.rvs( size=100, random_state=123)\n",
        "        other_samples = other.distirbution.rvs( size=100, random_state=123)\n",
        "        loc1, scale1 = stats.norm.fit(self_samples * other_samples)\n",
        "        return uDoubleGaussDist(loc1, scale1)\n",
        "\n",
        "    def __truediv__(self, other: 'uDoubleGaussDist') -> 'uDoubleGaussDist':\n",
        "        \"\"\"Define true division operation for uDoubleGaussDist.\"\"\"\n",
        "        if other.value != 0:\n",
        "            self_samples = self.distirbution.rvs( size=100, random_state=123)\n",
        "            other_samples = other.distirbution.rvs( size=100, random_state=123)\n",
        "            loc1, scale1 = stats.norm.fit(self_samples / other_samples)\n",
        "            return uDoubleGaussDist(loc1, scale1)\n",
        "        else:\n",
        "            raise ValueError(\"Division by zero\")\n",
        "\n",
        "    def __str__(self) -> str:\n",
        "        \"\"\"Return the string representation of uDoubleGaussDist.\"\"\"\n",
        "        return str(self.value)\n",
        "\n",
        "# Example usage:\n",
        "a = uDoubleGaussDist(2.5)\n",
        "b = uDoubleGaussDist(1.5)\n",
        "\n",
        "result = a + b\n",
        "print(result)  # Output: 4.0\n",
        "\n",
        "result = a - b\n",
        "print(result)  # Output: 4.0\n",
        "\n",
        "\n",
        "result = a * b\n",
        "print(result)  # Output: 4.0\n",
        "\n",
        "\n",
        "result = a / b\n",
        "print(result)  # Output: 4.0\n"
      ],
      "metadata": {
        "id": "Gw7l7AWWBLzH"
      },
      "execution_count": null,
      "outputs": []
    },
    {
      "cell_type": "code",
      "source": [],
      "metadata": {
        "id": "CndZGKFuBMKD"
      },
      "execution_count": null,
      "outputs": []
    },
    {
      "cell_type": "markdown",
      "source": [
        "\n",
        "# Notes"
      ],
      "metadata": {
        "id": "u6dRzCAqiu0i"
      }
    },
    {
      "cell_type": "code",
      "source": [
        "#hide\n",
        "import numpy as np\n",
        "import scipy.stats as stats\n",
        "import matplotlib.pyplot as plt\n",
        "from scipy.integrate import trapz\n",
        "\n",
        "\n",
        "mus=[8, 15]\n",
        "sigmas=[2, 1]\n",
        "\n",
        "\n",
        "\n",
        "# prior = stats.t(2, loc=mus[0], scale=sigmas[0])\n",
        "# likelihood = stats.t(2, loc=mus[1], scale=sigmas[1])\n",
        "\n",
        "# prior = stats.cauchy(loc=mus[0], scale=sigmas[0])\n",
        "# likelihood = stats.cauchy(loc=mus[1], scale=sigmas[1])\n",
        "\n",
        "prior = stats.norm(mus[0], sigmas[0])\n",
        "likelihood = stats.norm(mus[1], sigmas[1])\n",
        "\n",
        "\n",
        "\n",
        "min_sample = min(prior.ppf(0.01), likelihood.ppf(0.01), prior.ppf(0.99), likelihood.ppf(0.99))\n",
        "max_sample = max(prior.ppf(0.99), likelihood.ppf(0.99), prior.ppf(0.01), likelihood.ppf(0.01))\n",
        "\n",
        "samples = np.linspace(3,30, 1000)\n",
        "\n",
        "\n",
        "\n",
        "fig, ax = plt.subplots(1, 1)\n",
        "\n",
        "ax.plot(samples, prior.pdf(samples),\n",
        "       'r-', lw=2, alpha=0.6, label='prior pdf')\n",
        "\n",
        "ax.plot(samples, likelihood.pdf(samples),\n",
        "       'b-', lw=2, alpha=0.6, label='likelihood pdf')\n",
        "\n",
        "ax.legend(loc='best', frameon=False)"
      ],
      "metadata": {
        "colab": {
          "base_uri": "https://localhost:8080/",
          "height": 447
        },
        "id": "q-FD4e6F7VXu",
        "outputId": "f53e3dcd-71a3-4d88-f0db-0adf26f5a274"
      },
      "execution_count": 1,
      "outputs": [
        {
          "output_type": "execute_result",
          "data": {
            "text/plain": [
              "<matplotlib.legend.Legend at 0x7c5ddbbcf730>"
            ]
          },
          "metadata": {},
          "execution_count": 1
        },
        {
          "output_type": "display_data",
          "data": {
            "text/plain": [
              "<Figure size 640x480 with 1 Axes>"
            ],
            "image/png": "[encoded data removed]"
          },
          "metadata": {}
        }
      ]
    },
    {
      "cell_type": "code",
      "source": [
        "\n",
        "prior_pdf = prior.pdf(samples)\n",
        "np.sum((samples ** 3) * prior_pdf)"
      ],
      "metadata": {
        "colab": {
          "base_uri": "https://localhost:8080/"
        },
        "id": "j0fsQPYMmFi1",
        "outputId": "00097127-324a-4431-9287-42770f1840a5"
      },
      "execution_count": 3,
      "outputs": [
        {
          "output_type": "execute_result",
          "data": {
            "text/plain": [
              "708.7380350553744"
            ]
          },
          "metadata": {},
          "execution_count": 3
        }
      ]
    },
    {
      "cell_type": "code",
      "source": [
        "prior_pdf = prior.pdf(samples)\n",
        "\n",
        "stats.moment(pdf_, moment = 2) #variance\n"
      ],
      "metadata": {
        "colab": {
          "base_uri": "https://localhost:8080/"
        },
        "id": "qqVpmeYcmFlM",
        "outputId": "82e9d83e-6521-4765-a5cb-952886e0e25e"
      },
      "execution_count": 4,
      "outputs": [
        {
          "output_type": "execute_result",
          "data": {
            "text/plain": [
              "0.0038653585400454265"
            ]
          },
          "metadata": {},
          "execution_count": 4
        }
      ]
    },
    {
      "cell_type": "code",
      "source": [],
      "metadata": {
        "id": "ByqolZQCmFoS"
      },
      "execution_count": null,
      "outputs": []
    },
    {
      "cell_type": "code",
      "source": [],
      "metadata": {
        "id": "IWq0UbWLmFrG"
      },
      "execution_count": null,
      "outputs": []
    },
    {
      "cell_type": "code",
      "source": [
        "\n",
        "fig, ax = plt.subplots(1, 1)\n",
        "\n",
        "prior_samples = prior.rvs( size=1000, random_state=123)\n",
        "likelihood_samples = likelihood.rvs( size=1000, random_state=123)\n",
        "\n",
        "unnormalized_samples = prior_samples + likelihood_samples\n",
        "\n",
        "#area = trapz(unnormalized_posterior, samples)\n",
        "\n",
        "loc1, scale1 = stats.norm.fit(prior_samples + likelihood_samples)\n",
        "posterior = stats.norm(loc1, scale1)\n",
        "\n",
        "ax.plot(samples, prior.pdf(samples),\n",
        "       'r-', lw=2, alpha=0.6, label='prior pdf')\n",
        "\n",
        "ax.plot(samples, likelihood.pdf(samples),\n",
        "       'b-', lw=2, alpha=0.6, label='likelihood pdf')\n",
        "\n",
        "\n",
        "ax.plot(samples,  posterior.pdf(samples),\n",
        "       'g-', lw=2, alpha=0.6, label='posterior pdf')\n",
        "\n",
        "ax.legend(loc='best', frameon=False)"
      ],
      "metadata": {
        "colab": {
          "base_uri": "https://localhost:8080/",
          "height": 447
        },
        "id": "SpfuMzt0F9qg",
        "outputId": "083b93e5-3f36-4f6b-fb66-6d8f9531b263"
      },
      "execution_count": 6,
      "outputs": [
        {
          "output_type": "execute_result",
          "data": {
            "text/plain": [
              "<matplotlib.legend.Legend at 0x7c5dd8cb40a0>"
            ]
          },
          "metadata": {},
          "execution_count": 6
        },
        {
          "output_type": "display_data",
          "data": {
            "text/plain": [
              "<Figure size 640x480 with 1 Axes>"
            ],
            "image/png": "[encoded data removed]"
          },
          "metadata": {}
        }
      ]
    },
    {
      "cell_type": "code",
      "source": [
        "print (\"prior \", prior.ppf(0.01), (prior.ppf(0.01)+prior.ppf(0.99))/2,  prior.ppf(0.99))\n",
        "print (\"likelihood \", likelihood.ppf(0.01), (likelihood.ppf(0.01)+likelihood.ppf(0.99))/2,  likelihood.ppf(0.99))\n",
        "print (\"posterior \", posterior.ppf(0.01), (posterior.ppf(0.01)+posterior.ppf(0.99))/2,  posterior.ppf(0.99), loc1)\n",
        "lower_sum =  prior.ppf(0.01)+likelihood.ppf(0.01)\n",
        "upper_sum =   prior.ppf(0.99)+likelihood.ppf(0.99)\n",
        "print (\"posterior est \",  lower_sum, (lower_sum+upper_sum)/2,  upper_sum, loc1)\n"
      ],
      "metadata": {
        "colab": {
          "base_uri": "https://localhost:8080/"
        },
        "id": "l1X_qzSNGCPQ",
        "outputId": "010a3d0e-2aa9-40de-81bd-d22de6d9bb42"
      },
      "execution_count": 7,
      "outputs": [
        {
          "output_type": "stream",
          "name": "stdout",
          "text": [
            "prior  3.3473042519183185 8.0 12.652695748081682\n",
            "likelihood  12.673652125959158 15.0 17.32634787404084\n",
            "posterior  15.896767710955256 22.88130759175763 29.865847472560002 22.88130759175763\n",
            "posterior est  16.020956377877475 23.0 29.979043622122525 22.88130759175763\n"
          ]
        }
      ]
    },
    {
      "cell_type": "code",
      "source": [],
      "metadata": {
        "id": "4kszVgAWrtAs"
      },
      "execution_count": null,
      "outputs": []
    },
    {
      "cell_type": "markdown",
      "source": [
        "### Bayes"
      ],
      "metadata": {
        "id": "vgfierzartUd"
      }
    },
    {
      "cell_type": "code",
      "source": [],
      "metadata": {
        "id": "YcyVhpFXruwq"
      },
      "execution_count": null,
      "outputs": []
    },
    {
      "cell_type": "code",
      "source": [
        "mus=[2.5, 1.5]\n",
        "sigmas=[1e-2, 1e-2]\n",
        "\n",
        "\n",
        "\n",
        "# prior = stats.t(2, loc=mus[0], scale=sigmas[0])\n",
        "# likelihood = stats.t(2, loc=mus[1], scale=sigmas[1])\n",
        "\n",
        "# prior = stats.cauchy(loc=mus[0], scale=sigmas[0])\n",
        "# likelihood = stats.cauchy(loc=mus[1], scale=sigmas[1])\n",
        "\n",
        "prior = stats.norm(mus[0], sigmas[0])\n",
        "likelihood = stats.norm(mus[1], sigmas[1])\n",
        "\n",
        "\n",
        "\n",
        "min_sample = min(prior.ppf(0.01), likelihood.ppf(0.01), prior.ppf(0.99), likelihood.ppf(0.99))\n",
        "max_sample = max(prior.ppf(0.99), likelihood.ppf(0.99), prior.ppf(0.01), likelihood.ppf(0.01))\n",
        "\n",
        "samples = np.linspace(min_sample,max_sample, 100)\n",
        "\n",
        "\n",
        "\n",
        "\n",
        "fig, ax = plt.subplots(1, 1)\n",
        "\n",
        "prior_pdf = prior.pdf(samples)\n",
        "likelihood_pdf = likelihood.pdf(samples)\n",
        "\n",
        "unnormalized_posterior = prior_pdf * likelihood_pdf\n",
        "\n",
        "area = trapz(unnormalized_posterior, samples)\n",
        "\n",
        "posterior = unnormalized_posterior / area\n",
        "\n",
        "\n",
        "ax.plot(samples, prior_pdf,\n",
        "       'r-', lw=2, alpha=0.6, label='prior pdf')\n",
        "\n",
        "ax.plot(samples, likelihood_pdf,\n",
        "       'b-', lw=2, alpha=0.6, label='likelihood pdf')\n",
        "\n",
        "\n",
        "ax.plot(samples, posterior,\n",
        "       'g-', lw=5, alpha=0.3, label='posterior pdf')\n",
        "\n",
        "ax.legend(loc='best', frameon=False)\n",
        "print (posterior)"
      ],
      "metadata": {
        "colab": {
          "base_uri": "https://localhost:8080/",
          "height": 569
        },
        "id": "PZO0CyOFruzX",
        "outputId": "5604871d-66b6-412d-f6ee-2c210bcae627"
      },
      "execution_count": 62,
      "outputs": [
        {
          "output_type": "stream",
          "name": "stderr",
          "text": [
            "<ipython-input-62-cf338facdf79>:34: RuntimeWarning: invalid value encountered in divide\n",
            "  posterior = unnormalized_posterior / area\n"
          ]
        },
        {
          "output_type": "stream",
          "name": "stdout",
          "text": [
            "[nan nan nan nan nan nan nan nan nan nan nan nan nan nan nan nan nan nan\n",
            " nan nan nan nan nan nan nan nan nan nan nan nan nan nan nan nan nan nan\n",
            " nan nan nan nan nan nan nan nan nan nan nan nan nan nan nan nan nan nan\n",
            " nan nan nan nan nan nan nan nan nan nan nan nan nan nan nan nan nan nan\n",
            " nan nan nan nan nan nan nan nan nan nan nan nan nan nan nan nan nan nan\n",
            " nan nan nan nan nan nan nan nan nan nan]\n"
          ]
        },
        {
          "output_type": "display_data",
          "data": {
            "text/plain": [
              "<Figure size 640x480 with 1 Axes>"
            ],
            "image/png": "[encoded data removed]"
          },
          "metadata": {}
        }
      ]
    },
    {
      "cell_type": "code",
      "source": [
        "posterior_lower = samples[np.argmax(prior_pdf>0.01)]\n",
        "print (posterior_lower)"
      ],
      "metadata": {
        "colab": {
          "base_uri": "https://localhost:8080/"
        },
        "id": "91XTWB-cLiwU",
        "outputId": "03916a74-789b-4d4f-9e32-e132dd45396f"
      },
      "execution_count": 28,
      "outputs": [
        {
          "output_type": "stream",
          "name": "stdout",
          "text": [
            "3.3473042519183185\n"
          ]
        }
      ]
    },
    {
      "cell_type": "code",
      "source": [
        "posterior_upper = samples[-np.argmax(np.flip(prior_pdf)>0.01)]\n",
        "print (posterior_upper)"
      ],
      "metadata": {
        "colab": {
          "base_uri": "https://localhost:8080/"
        },
        "id": "nX-RSTZ4MSGH",
        "outputId": "72f7f0b5-7efd-4dc4-8228-f8b718d6d1a6"
      },
      "execution_count": 29,
      "outputs": [
        {
          "output_type": "stream",
          "name": "stdout",
          "text": [
            "12.949071588325708\n"
          ]
        }
      ]
    },
    {
      "cell_type": "code",
      "source": [
        "posterior_mean = samples[np.argmax(prior_pdf)]\n",
        "print (posterior_mean)"
      ],
      "metadata": {
        "colab": {
          "base_uri": "https://localhost:8080/"
        },
        "id": "7d84zqCMLoea",
        "outputId": "7816ebf9-af68-4f23-d250-a4aa7bf1ee98"
      },
      "execution_count": 30,
      "outputs": [
        {
          "output_type": "stream",
          "name": "stdout",
          "text": [
            "8.006985459292492\n"
          ]
        }
      ]
    },
    {
      "cell_type": "code",
      "source": [
        "posterior_variance = (0.01*(posterior_lower-posterior_mean)**2 + 0.01*(posterior_upper - posterior_mean)**2)/2\n",
        "posterior_sd = np.sqrt(posterior_variance)\n",
        "print (posterior_variance)\n",
        "print (posterior_sd)"
      ],
      "metadata": {
        "colab": {
          "base_uri": "https://localhost:8080/"
        },
        "id": "G62S2WXas54G",
        "outputId": "65ea65de-adba-43b7-fbfc-5559b3b3efdf"
      },
      "execution_count": 35,
      "outputs": [
        {
          "output_type": "stream",
          "name": "stdout",
          "text": [
            "0.23068422130569277\n",
            "0.4802959726103195\n"
          ]
        }
      ]
    },
    {
      "cell_type": "code",
      "source": [
        "prior_samples = prior.rvs(100)\n",
        "np.std(prior_samples*(1+prior_pdf))"
      ],
      "metadata": {
        "colab": {
          "base_uri": "https://localhost:8080/"
        },
        "id": "VVLnDF3lyQGP",
        "outputId": "a23d862a-258c-40c0-d73b-53c13899e436"
      },
      "execution_count": 42,
      "outputs": [
        {
          "output_type": "execute_result",
          "data": {
            "text/plain": [
              "2.1604512762874606"
            ]
          },
          "metadata": {},
          "execution_count": 42
        }
      ]
    },
    {
      "cell_type": "code",
      "source": [
        "generated_samples = np.random.choice(samples, size=100, p=prior_pdf/np.sum(prior_pdf))\n",
        "np.std(generated_samples)"
      ],
      "metadata": {
        "colab": {
          "base_uri": "https://localhost:8080/"
        },
        "id": "0zZH13eM_UiY",
        "outputId": "f66af8a1-01ee-4a89-c702-614332dee445"
      },
      "execution_count": 44,
      "outputs": [
        {
          "output_type": "execute_result",
          "data": {
            "text/plain": [
              "2.006476037836466"
            ]
          },
          "metadata": {},
          "execution_count": 44
        }
      ]
    },
    {
      "cell_type": "code",
      "source": [
        "class uDoubleGaussDist:\n",
        "    \"\"\"\n",
        "    Custom datatype replicating double datatype with mathematical operators.\n",
        "\n",
        "    Attributes:\n",
        "    - value (float): The value stored in the uDoubleGaussDist.\n",
        "\n",
        "    Methods:\n",
        "    - __init__(self, value: float): Initializes the uDoubleGaussDist with a specified value.\n",
        "    - __add__(self, other: 'uDoubleGaussDist') -> 'uDoubleGaussDist': Defines addition operation for uDoubleGaussDist.\n",
        "    - __sub__(self, other: 'uDoubleGaussDist') -> 'uDoubleGaussDist': Defines subtraction operation for uDoubleGaussDist.\n",
        "    - __mul__(self, other: 'uDoubleGaussDist') -> 'uDoubleGaussDist': Defines multiplication operation for uDoubleGaussDist.\n",
        "    - __truediv__(self, other: 'uDoubleGaussDist') -> 'uDoubleGaussDist': Defines true division operation for uDoubleGaussDist.\n",
        "    - __str__(self) -> str: Returns the string representation of the uDoubleGaussDist.\n",
        "    \"\"\"\n",
        "\n",
        "    def __init__(self, value: float, sigma: float = 1e-6):\n",
        "        \"\"\"Initialize uDoubleGaussDist with a specified value.\"\"\"\n",
        "        self.value = float(value)\n",
        "        self.sigma = float(sigma)\n",
        "        self.distirbution = stats.norm(value, sigma)\n",
        "\n",
        "    def __add__(self, other: 'uDoubleGaussDist') -> 'uDoubleGaussDist':\n",
        "        \"\"\"Define addition operation for uDoubleGaussDist.\"\"\"\n",
        "\n",
        "        self_samples = self.distirbution.rvs( size=100, random_state=123)\n",
        "        other_samples = other.distirbution.rvs( size=100, random_state=123)\n",
        "        loc1, scale1 = stats.norm.fit(self_samples + other_samples)\n",
        "\n",
        "        return uDoubleGaussDist(loc1, scale1)\n",
        "\n",
        "    def __sub__(self, other: 'uDoubleGaussDist') -> 'uDoubleGaussDist':\n",
        "        \"\"\"Define subtraction operation for uDoubleGaussDist.\"\"\"\n",
        "        self_samples = self.distirbution.rvs( size=100, random_state=123)\n",
        "        other_samples = other.distirbution.rvs( size=100, random_state=123)\n",
        "        loc1, scale1 = stats.norm.fit(self_samples - other_samples)\n",
        "        return uDoubleGaussDist(loc1, scale1)\n",
        "\n",
        "    def __mul__(self, other: 'uDoubleGaussDist') -> 'uDoubleGaussDist':\n",
        "        \"\"\"Define multiplication operation for uDoubleGaussDist.\"\"\"\n",
        "        self_samples = self.distirbution.rvs( size=100, random_state=123)\n",
        "        other_samples = other.distirbution.rvs( size=100, random_state=123)\n",
        "        loc1, scale1 = stats.norm.fit(self_samples * other_samples)\n",
        "        return uDoubleGaussDist(loc1, scale1)\n",
        "\n",
        "    def __truediv__(self, other: 'uDoubleGaussDist') -> 'uDoubleGaussDist':\n",
        "        \"\"\"Define true division operation for uDoubleGaussDist.\"\"\"\n",
        "        if other.value != 0:\n",
        "            self_samples = self.distirbution.rvs( size=100, random_state=123)\n",
        "            other_samples = other.distirbution.rvs( size=100, random_state=123)\n",
        "            loc1, scale1 = stats.norm.fit(self_samples / other_samples)\n",
        "            return uDoubleGaussDist(loc1, scale1)\n",
        "        else:\n",
        "            raise ValueError(\"Division by zero\")\n",
        "\n",
        "    def __str__(self) -> str:\n",
        "        \"\"\"Return the string representation of uDoubleGaussDist.\"\"\"\n",
        "        return str(self.value)\n",
        "\n",
        "# Example usage:\n",
        "a = uDoubleGaussDist(2.5)\n",
        "b = uDoubleGaussDist(1.5)\n",
        "\n",
        "result = a + b\n",
        "print(result)  # Output: 4.0\n",
        "\n",
        "result = a - b\n",
        "print(result)  # Output: 4.0\n",
        "\n",
        "\n",
        "result = a * b\n",
        "print(result)  # Output: 4.0\n",
        "\n",
        "\n",
        "result = a / b\n",
        "print(result)  # Output: 4.0\n"
      ],
      "metadata": {
        "id": "sx_zFAFcRkHt"
      },
      "execution_count": null,
      "outputs": []
    }
  ]
}